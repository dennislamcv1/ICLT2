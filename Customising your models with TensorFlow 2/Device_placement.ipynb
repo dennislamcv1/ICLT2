{
  "nbformat": 4,
  "nbformat_minor": 0,
  "metadata": {
    "kernelspec": {
      "name": "python3",
      "display_name": "Python 3"
    },
    "colab": {
      "provenance": []
    },
    "accelerator": "GPU"
  },
  "cells": [
    {
      "cell_type": "markdown",
      "metadata": {
        "id": "R8EuPVDK0oXX"
      },
      "source": [
        "# Device placement\n"
      ]
    },
    {
      "cell_type": "markdown",
      "metadata": {
        "id": "SMepbBP-0oXb"
      },
      "source": [
        "In this reading, we are going to be looking at device placement. We will see how to access the device associated to a given tensor, and compare the use of GPUs and CPUs.\n",
        "\n",
        "When running this notebook, ensure that the GPU runtime type is selected (Runtime -> Change runtime type)."
      ]
    },
    {
      "cell_type": "code",
      "metadata": {
        "id": "cGJhiWHQ0oXd",
        "colab": {
          "base_uri": "https://localhost:8080/"
        },
        "outputId": "adf6f947-7d08-4364-f81a-3a35d796400a"
      },
      "source": [
        "! pip install tensorflow==2.1.0\n",
        "import tensorflow as tf\n",
        "print(tf.__version__)"
      ],
      "execution_count": 1,
      "outputs": [
        {
          "output_type": "stream",
          "name": "stdout",
          "text": [
            "\u001b[31mERROR: Could not find a version that satisfies the requirement tensorflow==2.1.0 (from versions: 2.8.0rc0, 2.8.0rc1, 2.8.0, 2.8.1, 2.8.2, 2.8.3, 2.8.4, 2.9.0rc0, 2.9.0rc1, 2.9.0rc2, 2.9.0, 2.9.1, 2.9.2, 2.9.3, 2.10.0rc0, 2.10.0rc1, 2.10.0rc2, 2.10.0rc3, 2.10.0, 2.10.1, 2.11.0rc0, 2.11.0rc1, 2.11.0rc2, 2.11.0, 2.11.1, 2.12.0rc0, 2.12.0rc1, 2.12.0, 2.12.1, 2.13.0rc0, 2.13.0rc1, 2.13.0rc2, 2.13.0)\u001b[0m\u001b[31m\n",
            "\u001b[0m\u001b[31mERROR: No matching distribution found for tensorflow==2.1.0\u001b[0m\u001b[31m\n",
            "\u001b[0m2.12.0\n"
          ]
        }
      ]
    },
    {
      "cell_type": "markdown",
      "metadata": {
        "id": "o07Lk8BE27-6"
      },
      "source": [
        "## Get the physical devices"
      ]
    },
    {
      "cell_type": "markdown",
      "metadata": {
        "id": "bw5wPXyy2Zwp"
      },
      "source": [
        "First, we can list the physical devices available."
      ]
    },
    {
      "cell_type": "code",
      "metadata": {
        "id": "rB-00SsB2Z8v",
        "colab": {
          "base_uri": "https://localhost:8080/"
        },
        "outputId": "74215608-8454-40e5-d6bd-78475848e97b"
      },
      "source": [
        "# List all physical devices\n",
        "\n",
        "tf.config.list_physical_devices()"
      ],
      "execution_count": 2,
      "outputs": [
        {
          "output_type": "execute_result",
          "data": {
            "text/plain": [
              "[PhysicalDevice(name='/physical_device:CPU:0', device_type='CPU'),\n",
              " PhysicalDevice(name='/physical_device:GPU:0', device_type='GPU')]"
            ]
          },
          "metadata": {},
          "execution_count": 2
        }
      ]
    },
    {
      "cell_type": "markdown",
      "metadata": {
        "id": "GBfa_PEw0oXk"
      },
      "source": [
        "If you have enabled the GPU runtime, then you should see the GPU device in the above list.\n",
        "\n",
        "We can also check specifically for the GPU or CPU devices."
      ]
    },
    {
      "cell_type": "code",
      "metadata": {
        "id": "2FgViTqb0oXn",
        "colab": {
          "base_uri": "https://localhost:8080/"
        },
        "outputId": "d9c9e58a-3c25-4d76-f351-98b396433f92"
      },
      "source": [
        "# Check for GPU devices\n",
        "\n",
        "tf.config.list_physical_devices('GPU')"
      ],
      "execution_count": 3,
      "outputs": [
        {
          "output_type": "execute_result",
          "data": {
            "text/plain": [
              "[PhysicalDevice(name='/physical_device:GPU:0', device_type='GPU')]"
            ]
          },
          "metadata": {},
          "execution_count": 3
        }
      ]
    },
    {
      "cell_type": "code",
      "metadata": {
        "id": "N857-C_B2yMa",
        "colab": {
          "base_uri": "https://localhost:8080/"
        },
        "outputId": "385c31df-aa83-4d36-b6fb-c47007701053"
      },
      "source": [
        "# Check for CPU devices\n",
        "\n",
        "tf.config.list_physical_devices('CPU')"
      ],
      "execution_count": 4,
      "outputs": [
        {
          "output_type": "execute_result",
          "data": {
            "text/plain": [
              "[PhysicalDevice(name='/physical_device:CPU:0', device_type='CPU')]"
            ]
          },
          "metadata": {},
          "execution_count": 4
        }
      ]
    },
    {
      "cell_type": "markdown",
      "metadata": {
        "id": "GStCHnkx0oXs"
      },
      "source": [
        "We can get the GPU device name as follows:"
      ]
    },
    {
      "cell_type": "code",
      "metadata": {
        "id": "LlT6kf810oXu",
        "colab": {
          "base_uri": "https://localhost:8080/",
          "height": 35
        },
        "outputId": "7fbfcc0d-621f-4546-ca72-53924f5abf4a"
      },
      "source": [
        "# Get the GPU device name\n",
        "\n",
        "tf.test.gpu_device_name()"
      ],
      "execution_count": 5,
      "outputs": [
        {
          "output_type": "execute_result",
          "data": {
            "text/plain": [
              "'/device:GPU:0'"
            ],
            "application/vnd.google.colaboratory.intrinsic+json": {
              "type": "string"
            }
          },
          "metadata": {},
          "execution_count": 5
        }
      ]
    },
    {
      "cell_type": "markdown",
      "metadata": {
        "id": "4FNvARDH3KlC"
      },
      "source": [
        "## Placement of Tensor operations"
      ]
    },
    {
      "cell_type": "markdown",
      "metadata": {
        "id": "zB7qxgNL0oYA"
      },
      "source": [
        "TensorFlow will automatically allocate Tensor operations to a physical device, and will handle the copying between CPU and GPU memory if necessary.\n",
        "\n",
        "Let's define a random Tensor:"
      ]
    },
    {
      "cell_type": "code",
      "metadata": {
        "id": "FQrsztEl0oYB"
      },
      "source": [
        "# Define a Tensor\n",
        "\n",
        "x = tf.random.uniform([3, 3])"
      ],
      "execution_count": 6,
      "outputs": []
    },
    {
      "cell_type": "markdown",
      "metadata": {
        "id": "MTni7OPe0oYF"
      },
      "source": [
        "We can see which device this Tensor is placed on using its `device` attribute."
      ]
    },
    {
      "cell_type": "code",
      "metadata": {
        "id": "iLSbukXa0oYH",
        "colab": {
          "base_uri": "https://localhost:8080/",
          "height": 35
        },
        "outputId": "fef80b99-9d11-450e-9a3b-a5a27a265140"
      },
      "source": [
        "# Get the Tensor device\n",
        "\n",
        "x.device"
      ],
      "execution_count": 7,
      "outputs": [
        {
          "output_type": "execute_result",
          "data": {
            "text/plain": [
              "'/job:localhost/replica:0/task:0/device:GPU:0'"
            ],
            "application/vnd.google.colaboratory.intrinsic+json": {
              "type": "string"
            }
          },
          "metadata": {},
          "execution_count": 7
        }
      ]
    },
    {
      "cell_type": "markdown",
      "metadata": {
        "id": "8uVDrVK60oYM"
      },
      "source": [
        "The above string will end with `'GPU:K'` if the Tensor is placed on the `K`-th GPU device. We can also check if a tensor is placed on a specific device by using `device_endswith`:"
      ]
    },
    {
      "cell_type": "code",
      "metadata": {
        "id": "n0ceL5Qy0oYN",
        "colab": {
          "base_uri": "https://localhost:8080/"
        },
        "outputId": "cb48b046-2c3a-427d-807b-f587290cdfac"
      },
      "source": [
        "# Test for device allocation\n",
        "\n",
        "print(\"Is the Tensor on CPU #0:  \"),\n",
        "print(x.device.endswith('CPU:0'))\n",
        "print('')\n",
        "print(\"Is the Tensor on GPU #0:  \"),\n",
        "print(x.device.endswith('GPU:0'))"
      ],
      "execution_count": 8,
      "outputs": [
        {
          "output_type": "stream",
          "name": "stdout",
          "text": [
            "Is the Tensor on CPU #0:  \n",
            "False\n",
            "\n",
            "Is the Tensor on GPU #0:  \n",
            "True\n"
          ]
        }
      ]
    },
    {
      "cell_type": "markdown",
      "metadata": {
        "id": "GtEi2qnK4LyO"
      },
      "source": [
        "## Specifying device placement"
      ]
    },
    {
      "cell_type": "markdown",
      "metadata": {
        "id": "33SlBwIA0oYQ"
      },
      "source": [
        "As mentioned previously, TensorFlow will automatically allocate Tensor operations to specific devices. However, it is possible to force placement on specific devices, if they are available.\n",
        "\n",
        "We can view the benefits of GPU acceleration by running some tests and placing the operations on the CPU or GPU respectively."
      ]
    },
    {
      "cell_type": "code",
      "metadata": {
        "id": "wEfz4RY90oYR"
      },
      "source": [
        "# Define simple tests to time computation speed\n",
        "\n",
        "import time\n",
        "\n",
        "def time_matadd(x):\n",
        "    start = time.time()\n",
        "    for loop in range(10):\n",
        "        tf.add(x, x)\n",
        "    result = time.time()-start\n",
        "    print(\"Matrix addition (10 loops): {:0.2f}ms\".format(1000*result))\n",
        "\n",
        "\n",
        "def time_matmul(x):\n",
        "    start = time.time()\n",
        "    for loop in range(10):\n",
        "        tf.matmul(x, x)\n",
        "    result = time.time()-start\n",
        "    print(\"Matrix multiplication (10 loops): {:0.2f}ms\".format(1000*result))"
      ],
      "execution_count": 9,
      "outputs": []
    },
    {
      "cell_type": "markdown",
      "metadata": {
        "id": "wEd85pdw5N6c"
      },
      "source": [
        "In the following cell, we run the above tests inside the context `with tf.device(\"CPU:0\")`, which forces the operations to be run on the CPU."
      ]
    },
    {
      "cell_type": "code",
      "metadata": {
        "id": "rB5Z1iUT0oYU",
        "colab": {
          "base_uri": "https://localhost:8080/"
        },
        "outputId": "74830883-910d-4219-c82f-272a04dd052b"
      },
      "source": [
        "# Force execution on CPU\n",
        "\n",
        "print(\"On CPU:\")\n",
        "with tf.device(\"CPU:0\"):\n",
        "    x = tf.random.uniform([1000, 1000])\n",
        "    assert x.device.endswith(\"CPU:0\")\n",
        "    time_matadd(x)\n",
        "    time_matmul(x)"
      ],
      "execution_count": 10,
      "outputs": [
        {
          "output_type": "stream",
          "name": "stdout",
          "text": [
            "On CPU:\n",
            "Matrix addition (10 loops): 22.03ms\n",
            "Matrix multiplication (10 loops): 302.02ms\n"
          ]
        }
      ]
    },
    {
      "cell_type": "markdown",
      "metadata": {
        "id": "PN3ZHIMD50kB"
      },
      "source": [
        "And now run the same operations on the GPU:"
      ]
    },
    {
      "cell_type": "code",
      "metadata": {
        "id": "c7AryQq60oYY",
        "colab": {
          "base_uri": "https://localhost:8080/"
        },
        "outputId": "d48e73aa-c6fd-47dc-b30c-f1a510d4d41b"
      },
      "source": [
        "# Force execution on GPU #0 if available\n",
        "\n",
        "if tf.config.experimental.list_physical_devices(\"GPU\"):\n",
        "    print(\"On GPU:\")\n",
        "    with tf.device(\"GPU:0\"):\n",
        "        x = tf.random.uniform([1000, 1000])\n",
        "        assert x.device.endswith(\"GPU:0\")\n",
        "        time_matadd(x)\n",
        "        time_matmul(x)"
      ],
      "execution_count": 11,
      "outputs": [
        {
          "output_type": "stream",
          "name": "stdout",
          "text": [
            "On GPU:\n",
            "Matrix addition (10 loops): 7.92ms\n",
            "Matrix multiplication (10 loops): 3189.04ms\n"
          ]
        }
      ]
    },
    {
      "cell_type": "markdown",
      "metadata": {
        "id": "bqJR83G354Zh"
      },
      "source": [
        "Note the significant time difference between running these operations on different devices."
      ]
    },
    {
      "cell_type": "markdown",
      "metadata": {
        "id": "hFOJkxMk-HL_"
      },
      "source": [
        "## Model training"
      ]
    },
    {
      "cell_type": "markdown",
      "metadata": {
        "id": "4gBgorhv-HWE"
      },
      "source": [
        "Finally, we will demonstrate that GPU device placement offers speedup benefits for model training."
      ]
    },
    {
      "cell_type": "code",
      "metadata": {
        "id": "Qa7Vvbne6QS8",
        "colab": {
          "base_uri": "https://localhost:8080/"
        },
        "outputId": "a5419619-fcad-4b9e-e101-f6724b285672"
      },
      "source": [
        "# Load the MNIST dataset\n",
        "\n",
        "from tensorflow.keras.datasets import mnist\n",
        "import numpy as np\n",
        "\n",
        "(x_train, y_train), (x_test, y_test) = mnist.load_data()\n",
        "x_train, x_test = x_train/255., x_test/255."
      ],
      "execution_count": 12,
      "outputs": [
        {
          "output_type": "stream",
          "name": "stdout",
          "text": [
            "Downloading data from https://storage.googleapis.com/tensorflow/tf-keras-datasets/mnist.npz\n",
            "11490434/11490434 [==============================] - 2s 0us/step\n"
          ]
        }
      ]
    },
    {
      "cell_type": "code",
      "metadata": {
        "id": "kJgFyw0567Dn"
      },
      "source": [
        "# Reduce the dataset size to speed up the test\n",
        "\n",
        "x_train, y_train = x_train[:1000], y_train[:1000]"
      ],
      "execution_count": 13,
      "outputs": []
    },
    {
      "cell_type": "code",
      "metadata": {
        "id": "2vD2d7al4_VZ"
      },
      "source": [
        "# Define a function to build the model\n",
        "\n",
        "from tensorflow.keras import layers\n",
        "from tensorflow.keras.models import  Sequential\n",
        "\n",
        "def get_model():\n",
        "  model = Sequential([\n",
        "      layers.Conv2D(32, (3, 3), activation='relu', padding='same', input_shape=(28, 28, 1)),\n",
        "      layers.MaxPooling2D((2, 2)),\n",
        "      layers.Conv2D(64, (3, 3), activation='relu', padding='same'),\n",
        "      layers.MaxPooling2D((2, 2)),\n",
        "      layers.Conv2D(128, (3, 3), activation='relu', padding='same'),\n",
        "      layers.MaxPooling2D((2, 2)),\n",
        "      layers.Flatten(),\n",
        "      layers.Dense(64, activation='relu'),\n",
        "      layers.Dense(10, activation='softmax'),\n",
        "      ])\n",
        "  return model"
      ],
      "execution_count": 14,
      "outputs": []
    },
    {
      "cell_type": "code",
      "metadata": {
        "id": "bxEcTFQb7hRt",
        "colab": {
          "base_uri": "https://localhost:8080/"
        },
        "outputId": "f9258e8b-a296-4397-891c-6a54ef7259f5"
      },
      "source": [
        "# Time a training run on the CPU\n",
        "\n",
        "with tf.device(\"CPU:0\"):\n",
        "  model = get_model()\n",
        "  model.compile(optimizer=tf.keras.optimizers.RMSprop(1e-3), loss='sparse_categorical_crossentropy', metrics=['accuracy'])\n",
        "  start = time.time()\n",
        "  model.fit(x_train[..., np.newaxis], y_train, epochs=5, verbose=0)\n",
        "  result = time.time() - start\n",
        "\n",
        "print(\"CPU training time: {:0.2f}ms\".format(1000 * result))"
      ],
      "execution_count": 15,
      "outputs": [
        {
          "output_type": "stream",
          "name": "stdout",
          "text": [
            "CPU training time: 9104.66ms\n"
          ]
        }
      ]
    },
    {
      "cell_type": "code",
      "metadata": {
        "id": "R9_G4sak5dHB",
        "colab": {
          "base_uri": "https://localhost:8080/"
        },
        "outputId": "29b491cd-df64-4e13-ca63-e466f0eef8a8"
      },
      "source": [
        "# Time a training run on the GPU\n",
        "\n",
        "with tf.device(\"GPU:0\"):\n",
        "  model = get_model()\n",
        "  model.compile(optimizer=tf.keras.optimizers.RMSprop(1e-3), loss='sparse_categorical_crossentropy', metrics=['accuracy'])\n",
        "  start = time.time()\n",
        "  model.fit(x_train[..., np.newaxis], y_train, epochs=5, verbose=0)\n",
        "  result = time.time() - start\n",
        "\n",
        "print(\"GPU training time: {:0.2f}ms\".format(1000 * result))"
      ],
      "execution_count": 16,
      "outputs": [
        {
          "output_type": "stream",
          "name": "stdout",
          "text": [
            "GPU training time: 10827.78ms\n"
          ]
        }
      ]
    },
    {
      "cell_type": "markdown",
      "metadata": {
        "id": "e_O9D-XI0oYa"
      },
      "source": [
        "## Further reading and resources\n",
        "* https://www.tensorflow.org/tutorials/customization/basics#gpu_acceleration"
      ]
    }
  ]
}