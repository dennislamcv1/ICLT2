{
 "cells": [
  {
   "cell_type": "markdown",
   "metadata": {},
   "source": [
    "# Capstone Project\n",
    "## Neural translation model\n",
    "### Instructions\n",
    "\n",
    "In this notebook, you will create a neural network that translates from English to German. You will use concepts from throughout this course, including building more flexible model architectures, freezing layers, data processing pipeline and sequence modelling.\n",
    "\n",
    "This project is peer-assessed. Within this notebook you will find instructions in each section for how to complete the project. Pay close attention to the instructions as the peer review will be carried out according to a grading rubric that checks key parts of the project instructions. Feel free to add extra cells into the notebook as required.\n",
    "\n",
    "### How to submit\n",
    "\n",
    "When you have completed the Capstone project notebook, you will submit a pdf of the notebook for peer review. First ensure that the notebook has been fully executed from beginning to end, and all of the cell outputs are visible. This is important, as the grading rubric depends on the reviewer being able to view the outputs of your notebook. Save the notebook as a pdf (File -> Download as -> PDF via LaTeX). You should then submit this pdf for review.\n",
    "\n",
    "### Let's get started!\n",
    "\n",
    "We'll start by running some imports, and loading the dataset. For this project you are free to make further imports throughout the notebook as you wish. "
   ]
  },
  {
   "cell_type": "code",
   "execution_count": 1,
   "metadata": {},
   "outputs": [],
   "source": [
    "import tensorflow as tf\n",
    "import tensorflow_hub as hub\n",
    "import unicodedata\n",
    "import re\n",
    "\n",
    "from IPython.display import Image\n",
    "# for splitting sentences \n",
    "import re\n",
    "# for finding random samples\n",
    "import random\n",
    "from tensorflow.keras.layers import Layer, concatenate, Input, Masking, LSTM, Embedding, Dense\n",
    "from tensorflow.keras.models import Model\n",
    "import matplotlib.pyplot as plt\n",
    "import numpy as np"
   ]
  },
  {
   "cell_type": "markdown",
   "metadata": {},
   "source": [
    "![Flags overview image](data/germany_uk_flags.png)\n",
    "\n",
    "For the capstone project, you will use a language dataset from http://www.manythings.org/anki/ to build a neural translation model. This dataset consists of over 200,000 pairs of sentences in English and German. In order to make the training quicker, we will restrict to our dataset to 20,000 pairs. Feel free to change this if you wish - the size of the dataset used is not part of the grading rubric.\n",
    "\n",
    "Your goal is to develop a neural translation model from English to German, making use of a pre-trained English word embedding module."
   ]
  },
  {
   "cell_type": "code",
   "execution_count": 2,
   "metadata": {},
   "outputs": [],
   "source": [
    "# Run this cell to load the dataset\n",
    "\n",
    "NUM_EXAMPLES = 20000\n",
    "data_examples = []\n",
    "with open('data/deu.txt', 'r', encoding='utf8') as f:\n",
    "    for line in f.readlines():\n",
    "        if len(data_examples) < NUM_EXAMPLES:\n",
    "            data_examples.append(line)\n",
    "        else:\n",
    "            break"
   ]
  },
  {
   "cell_type": "code",
   "execution_count": 3,
   "metadata": {},
   "outputs": [],
   "source": [
    "# These functions preprocess English and German sentences\n",
    "\n",
    "def unicode_to_ascii(s):\n",
    "    return ''.join(c for c in unicodedata.normalize('NFD', s) if unicodedata.category(c) != 'Mn')\n",
    "\n",
    "def preprocess_sentence(sentence):\n",
    "    sentence = sentence.lower().strip()\n",
    "    sentence = re.sub(r\"ü\", 'ue', sentence)\n",
    "    sentence = re.sub(r\"ä\", 'ae', sentence)\n",
    "    sentence = re.sub(r\"ö\", 'oe', sentence)\n",
    "    sentence = re.sub(r'ß', 'ss', sentence)\n",
    "    \n",
    "    sentence = unicode_to_ascii(sentence)\n",
    "    sentence = re.sub(r\"([?.!,])\", r\" \\1 \", sentence)\n",
    "    sentence = re.sub(r\"[^a-z?.!,']+\", \" \", sentence)\n",
    "    sentence = re.sub(r'[\" \"]+', \" \", sentence)\n",
    "    \n",
    "    return sentence.strip()"
   ]
  },
  {
   "cell_type": "markdown",
   "metadata": {},
   "source": [
    "#### The custom translation model\n",
    "The following is a schematic of the custom translation model architecture you will develop in this project.\n",
    "\n",
    "![Model Schematic](data/neural_translation_model.png)\n",
    "\n",
    "Key:\n",
    "![Model key](data/neural_translation_model_key.png)\n",
    "\n",
    "The custom model consists of an encoder RNN and a decoder RNN. The encoder takes words of an English sentence as input, and uses a pre-trained word embedding to embed the words into a 128-dimensional space. To indicate the end of the input sentence, a special end token (in the same 128-dimensional space) is passed in as an input. This token is a TensorFlow Variable that is learned in the training phase (unlike the pre-trained word embedding, which is frozen).\n",
    "\n",
    "The decoder RNN takes the internal state of the encoder network as its initial state. A start token is passed in as the first input, which is embedded using a learned German word embedding. The decoder RNN then makes a prediction for the next German word, which during inference is then passed in as the following input, and this process is repeated until the special `<end>` token is emitted from the decoder."
   ]
  },
  {
   "cell_type": "markdown",
   "metadata": {},
   "source": [
    "## 1. Text preprocessing\n",
    "* Create separate lists of English and German sentences, and preprocess them using the `preprocess_sentence` function provided for you above.\n",
    "* Add a special `\"<start>\"` and `\"<end>\"` token to the beginning and end of every German sentence.\n",
    "* Use the Tokenizer class from the `tf.keras.preprocessing.text` module to tokenize the German sentences, ensuring that no character filters are applied. _Hint: use the Tokenizer's \"filter\" keyword argument._\n",
    "* Print out at least 5 randomly chosen examples of (preprocessed) English and German sentence pairs. For the German sentence, print out the text (with start and end tokens) as well as the tokenized sequence.\n",
    "* Pad the end of the tokenized German sequences with zeros, and batch the complete set of sequences into one numpy array."
   ]
  },
  {
   "cell_type": "code",
   "execution_count": 4,
   "metadata": {
    "scrolled": true
   },
   "outputs": [],
   "source": [
    "# create seperate lists for english and german\n",
    "english_sentences = []\n",
    "german_sentences = []\n",
    "# characters to note end of sentence\n",
    "sentenceEnders = re.compile('[.!?]')\n",
    "# loop through each setence. \n",
    "# The first part is english, so append to english list\n",
    "# The second part is german, so append to german list\n",
    "for sentence in data_examples:\n",
    "    seperated_sentence = sentenceEnders.split(sentence)\n",
    "    english_sentences.append(preprocess_sentence(seperated_sentence[0]))\n",
    "    german_sentence = \"<start> \" + preprocess_sentence(seperated_sentence[1]) + \" <end>\"\n",
    "    german_sentences.append(german_sentence)"
   ]
  },
  {
   "cell_type": "code",
   "execution_count": 5,
   "metadata": {},
   "outputs": [],
   "source": [
    "def max_len_finder(input_list):\n",
    "    \"\"\"Get max length in list\n",
    "    \"\"\"\n",
    "    max_length = 0\n",
    "    for item in input_list:\n",
    "        curr_len = len(item) \n",
    "    if max_length < curr_len:\n",
    "        max_length = curr_len\n",
    "        \n",
    "    return max_length"
   ]
  },
  {
   "cell_type": "code",
   "execution_count": 6,
   "metadata": {},
   "outputs": [],
   "source": [
    "def tokenize_german_sentences(german_sentences):\n",
    "    \"\"\"Creates list and numpy array of tokenized sequence of german sentences \n",
    "    \"\"\"\n",
    "    # tokenize the German sentences \n",
    "    tokenizer = tf.keras.preprocessing.text.Tokenizer(filters='')\n",
    "    tokenizer.fit_on_texts(german_sentences)\n",
    "    german_sequences = tokenizer.texts_to_sequences(german_sentences)\n",
    "    # get the vocab size \n",
    "    vocab_size = max(tokenizer.word_index.values()) + 1\n",
    "    # Pad the inputs to the maximum length using maxlen\n",
    "    max_len = max_len_finder(german_sequences)\n",
    "    # create numpy array with padded sequences\n",
    "    padded_german_sequences = tf.keras.preprocessing.sequence.pad_sequences(german_sequences, \n",
    "                                                                          maxlen=max_len,\n",
    "                                                                          padding='post',\n",
    "                                                                          truncating='post')\n",
    "\n",
    "    return german_sequences, padded_german_sequences, vocab_size, tokenizer"
   ]
  },
  {
   "cell_type": "code",
   "execution_count": 7,
   "metadata": {},
   "outputs": [],
   "source": [
    "def print_random_samples(english_sentences, german_sentences, padded_german_sequences):\n",
    "    \"\"\"Prints 5 randomly chosen setences from english_sentences, german_sentences, padded_german_sequences\n",
    "    \"\"\"\n",
    "    minimum_sized_array = min([len(english_sentences), len(german_sentences)])\n",
    "    \n",
    "    for i in range(5):\n",
    "    # get random index\n",
    "        rand_index = random.randint(0,minimum_sized_array-1)\n",
    "        print(\"English sentence: \", english_sentences[rand_index])\n",
    "        print(\"German sentence: \", german_sentences[rand_index])\n",
    "        print(\"German Sequence: \", padded_german_sequences[rand_index])"
   ]
  },
  {
   "cell_type": "code",
   "execution_count": 8,
   "metadata": {},
   "outputs": [
    {
     "name": "stdout",
     "output_type": "stream",
     "text": [
      "English sentence:  who saw what\n",
      "German sentence:  <start> wer sah was <end>\n",
      "German Sequence:  [  1  40 107  35   2   0]\n",
      "English sentence:  come home at six\n",
      "German sentence:  <start> komm um sechs uhr nach hause <end>\n",
      "German Sequence:  [  1  71 132 854 362  62]\n",
      "English sentence:  we're very busy\n",
      "German sentence:  <start> wir sind sehr beschaeftigt <end>\n",
      "German Sequence:  [ 1 14 20 53 95  2]\n",
      "English sentence:  he was stoned\n",
      "German sentence:  <start> er wurde gesteinigt <end>\n",
      "German Sequence:  [   1   11   65 3572    2    0]\n",
      "English sentence:  they saw me\n",
      "German sentence:  <start> die haben mich gesehen <end>\n",
      "German Sequence:  [ 1 23 32 19 85  2]\n"
     ]
    }
   ],
   "source": [
    "# get tokenized sequence \n",
    "german_sequences, padded_german_sequences, vocab_size, tokenizer = tokenize_german_sentences(german_sentences)\n",
    "# print random sentences \n",
    "print_random_samples(english_sentences, german_sentences, padded_german_sequences)"
   ]
  },
  {
   "cell_type": "markdown",
   "metadata": {},
   "source": [
    "## 2. Prepare the data with tf.data.Dataset objects"
   ]
  },
  {
   "cell_type": "markdown",
   "metadata": {},
   "source": [
    "#### Load the embedding layer\n",
    "As part of the dataset preproceessing for this project, you will use a pre-trained English word embedding module from TensorFlow Hub. The URL for the module is https://tfhub.dev/google/tf2-preview/nnlm-en-dim128-with-normalization/1. This module has also been made available as a complete saved model in the folder `'./models/tf2-preview_nnlm-en-dim128_1'`. \n",
    "\n",
    "This embedding takes a batch of text tokens in a 1-D tensor of strings as input. It then embeds the separate tokens into a 128-dimensional space. \n",
    "\n",
    "The code to load and test the embedding layer is provided for you below.\n",
    "\n",
    "**NB:** this model can also be used as a sentence embedding module. The module will process each token by removing punctuation and splitting on spaces. It then averages the word embeddings over a sentence to give a single embedding vector. However, we will use it only as a word embedding module, and will pass each word in the input sentence as a separate token."
   ]
  },
  {
   "cell_type": "code",
   "execution_count": 9,
   "metadata": {},
   "outputs": [],
   "source": [
    "# Load embedding module from Tensorflow Hub\n",
    "\n",
    "embedding_layer = hub.KerasLayer('./models/tf2-preview_nnlm-en-dim128_1', \n",
    "                                 output_shape=[128], input_shape=[], dtype=tf.string)"
   ]
  },
  {
   "cell_type": "code",
   "execution_count": 10,
   "metadata": {},
   "outputs": [
    {
     "data": {
      "text/plain": [
       "TensorShape([7, 128])"
      ]
     },
     "execution_count": 10,
     "metadata": {},
     "output_type": "execute_result"
    }
   ],
   "source": [
    "# Test the layer\n",
    "\n",
    "embedding_layer(tf.constant([\"these\", \"aren't\", \"the\", \"droids\", \"you're\", \"looking\", \"for\"])).shape"
   ]
  },
  {
   "cell_type": "markdown",
   "metadata": {},
   "source": [
    "You should now prepare the training and validation Datasets.\n",
    "\n",
    "* Create a random training and validation set split of the data, reserving e.g. 20% of the data for validation (NB: each English dataset example is a single sentence string, and each German dataset example is a sequence of padded integer tokens).\n",
    "* Load the training and validation sets into a tf.data.Dataset object, passing in a tuple of English and German data for both training and validation sets.\n",
    "* Create a function to map over the datasets that splits each English sentence at spaces. Apply this function to both Dataset objects using the map method. _Hint: look at the tf.strings.split function._\n",
    "* Create a function to map over the datasets that embeds each sequence of English words using the loaded embedding layer/model. Apply this function to both Dataset objects using the map method.\n",
    "* Create a function to filter out dataset examples where the English sentence is more than 13 (embedded) tokens in length. Apply this function to both Dataset objects using the filter method.\n",
    "* Create a function to map over the datasets that pads each English sequence of embeddings with some distinct padding value before the sequence, so that each sequence is length 13. Apply this function to both Dataset objects using the map method. _Hint: look at the tf.pad function. You can extract a Tensor shape using tf.shape; you might also find the tf.math.maximum function useful._\n",
    "* Batch both training and validation Datasets with a batch size of 16.\n",
    "* Print the `element_spec` property for the training and validation Datasets. \n",
    "* Using the Dataset `.take(1)` method, print the shape of the English data example from the training Dataset.\n",
    "* Using the Dataset `.take(1)` method, print the German data example Tensor from the validation Dataset."
   ]
  },
  {
   "cell_type": "code",
   "execution_count": 11,
   "metadata": {},
   "outputs": [],
   "source": [
    "def split_english_sentence_at_spaces(sentence, german_sequence):\n",
    "    '''Split the input sentence into array of individual words\n",
    "    '''\n",
    "    split_sentence = tf.strings.split(sentence, sep=' ')\n",
    "    return (split_sentence, german_sequence)"
   ]
  },
  {
   "cell_type": "code",
   "execution_count": 12,
   "metadata": {},
   "outputs": [],
   "source": [
    "def embed_english_sequence(english_word_list, german_sequence):\n",
    "    \"\"\"Embeds each sequence of English words using the loaded embedding layer\n",
    "    \"\"\"\n",
    "    embedded_sentance = embedding_layer(english_word_list)\n",
    "    return (embedded_sentance, german_sequence)"
   ]
  },
  {
   "cell_type": "code",
   "execution_count": 13,
   "metadata": {},
   "outputs": [],
   "source": [
    "def filter_english_embedded_tokens(embeded_english, german_sequnce):\n",
    "    '''Filter out english sentences that are greater than or equal to 13 embedded tokens\n",
    "    '''\n",
    "    return len(embeded_english) <= 13"
   ]
  },
  {
   "cell_type": "code",
   "execution_count": 14,
   "metadata": {},
   "outputs": [],
   "source": [
    "def pad_english_sequence(embeded_english, german_sequnce):\n",
    "    \"\"\"Pads each English sequence of embeddings with some distinct padding value \n",
    "     before the sequence, so that each sequence is length 13\n",
    "    \"\"\"\n",
    "    pad_value = tf.constant([[13,0], [0,0]])\n",
    "    embeded_english_padded = tf.pad(embeded_english, pad_value) \n",
    "    return (embeded_english_padded[-13:,:], german_sequnce)"
   ]
  },
  {
   "cell_type": "code",
   "execution_count": 15,
   "metadata": {},
   "outputs": [],
   "source": [
    "def print_ds(ds):\n",
    "    x = 0\n",
    "    for item in ds: \n",
    "        if x > 20:\n",
    "            break\n",
    "    print(item)\n",
    "    x = x+1\n",
    "    \n",
    "    return"
   ]
  },
  {
   "cell_type": "code",
   "execution_count": 16,
   "metadata": {
    "scrolled": false
   },
   "outputs": [
    {
     "name": "stdout",
     "output_type": "stream",
     "text": [
      "Shape of English Training Example:  (16, 13, 128)\n",
      "tf.Tensor(\n",
      "[[   1  402    2    0    0    0]\n",
      " [   1 3156  659    2    0    0]\n",
      " [   1  971    2    0    0    0]\n",
      " [   1 3157    2    0    0    0]\n",
      " [   1 3158    2    0    0    0]\n",
      " [   1 1223    2    0    0    0]\n",
      " [   1  279    2    0    0    0]\n",
      " [   1   17 3159    2    0    0]\n",
      " [   1 2260    2    0    0    0]\n",
      " [   1  331    2    0    0    0]\n",
      " [   1   76  123    2    0    0]\n",
      " [   1  402    2    0    0    0]\n",
      " [   1    3  355    2    0    0]\n",
      " [   1    3  332    2    0    0]\n",
      " [   1 3160    2    0    0    0]\n",
      " [   1    3 1224    7    2    0]], shape=(16, 6), dtype=int32)\n",
      "Shape of German Validation Example:  (16, 6)\n",
      "tf.Tensor(\n",
      "[[   1    8    5  103  534    2]\n",
      " [   1    8    5   16 5104    2]\n",
      " [   1   44  424    5  425    2]\n",
      " [   1   23 1423 2740 5105    2]\n",
      " [   1   23 1423    5  321    2]\n",
      " [   1    8 1371    5  356    2]\n",
      " [   1   23 5106    5  932    2]\n",
      " [   1   23  588   64    2    0]\n",
      " [   1   23  588   22   64    2]\n",
      " [   1   44 1583    5  324    2]\n",
      " [   1    8  110    5   30    2]\n",
      " [   1    8  110    5  581    2]\n",
      " [   1    8  110    5   81    2]\n",
      " [   1   23 2227    5  932    2]\n",
      " [   1   23 2229    5  932    2]\n",
      " [   1   23 2229    5  475    2]], shape=(16, 6), dtype=int32)\n"
     ]
    }
   ],
   "source": [
    "# split training data into trianing/validation split \n",
    "split = int(len(english_sentences) *.8)\n",
    "train_english_sentences = english_sentences[0:split]\n",
    "val_english_sentences = english_sentences[split:]\n",
    "train_german_padded_sequences = padded_german_sequences[0:split]\n",
    "val_german_padded_sequences = padded_german_sequences[split:]\n",
    "# load the training and validation sets into a Datset object \n",
    "train_dataset = tf.data.Dataset.from_tensor_slices((train_english_sentences, train_german_padded_sequences))\n",
    "val_dataset = tf.data.Dataset.from_tensor_slices((val_english_sentences, val_german_padded_sequences))\n",
    "# split each english sentence at spaces \n",
    "train_dataset = train_dataset.map(split_english_sentence_at_spaces)\n",
    "val_dataset = val_dataset.map(split_english_sentence_at_spaces)\n",
    "# embed english sequence\n",
    "train_dataset = train_dataset.map(embed_english_sequence)\n",
    "val_dataset = val_dataset.map(embed_english_sequence)\n",
    "# filter out english sentences that are greater than or equal to 13 embedded tokens \n",
    "train_dataset = train_dataset.filter(filter_english_embedded_tokens)\n",
    "val_dataset = val_dataset.filter(filter_english_embedded_tokens)\n",
    "# pad the english sequence\n",
    "train_dataset = train_dataset.map(pad_english_sequence)\n",
    "val_dataset = val_dataset.map(pad_english_sequence)\n",
    "# batch size = 16\n",
    "BATCH_SIZE = 16\n",
    "train_dataset = train_dataset.batch(BATCH_SIZE)\n",
    "val_dataset = val_dataset.batch(BATCH_SIZE)\n",
    "# print element spec for both train and validation\n",
    "train_dataset.element_spec\n",
    "val_dataset.element_spec\n",
    "# get the shape for a padded english example in the train dataset\n",
    "for english_train_example, german_train_example in train_dataset.take(1):\n",
    "    print(\"Shape of English Training Example: \", english_train_example.shape)\n",
    "    print(german_train_example)\n",
    "# get the shape for a german sequence example in the validation dataset\n",
    "for english_val_example, german_val_example in val_dataset.take(1):\n",
    "    print(\"Shape of German Validation Example: \", german_val_example.shape)\n",
    "    print(german_val_example)"
   ]
  },
  {
   "cell_type": "markdown",
   "metadata": {},
   "source": [
    "## 3. Create the custom layer\n",
    "You will now create a custom layer to add the learned end token embedding to the encoder model:\n",
    "\n",
    "![Encoder schematic](data/neural_translation_model_encoder.png)"
   ]
  },
  {
   "cell_type": "markdown",
   "metadata": {},
   "source": [
    "You should now build the custom layer.\n",
    "* Using layer subclassing, create a custom layer that takes a batch of English data examples from one of the Datasets, and adds a learned embedded ‘end’ token to the end of each sequence. \n",
    "* This layer should create a TensorFlow Variable (that will be learned during training) that is 128-dimensional (the size of the embedding space). _Hint: you may find it helpful in the call method to use the tf.tile function to replicate the end token embedding across every element in the batch._\n",
    "* Using the Dataset `.take(1)` method, extract a batch of English data examples from the training Dataset and print the shape. Test the custom layer by calling the layer on the English data batch Tensor and print the resulting Tensor shape (the layer should increase the sequence length by one)."
   ]
  },
  {
   "cell_type": "code",
   "execution_count": 17,
   "metadata": {},
   "outputs": [],
   "source": [
    "class AddLearnedEmbeddedEndTokenLayer(Layer):\n",
    "    def __init__(self, **kwargs):\n",
    "        super(AddLearnedEmbeddedEndTokenLayer, self).__init__(**kwargs)\n",
    "        self.token_embed = tf.Variable(initial_value=tf.random.uniform(shape=(128,)), \n",
    "                                   trainable=True)\n",
    "    def call(self, inputs):\n",
    "        token_embed_altered = tf.reshape(self.token_embed, (1,1,128))\n",
    "        input_shape = tf.shape(inputs)\n",
    "        end_embed_token = tf.tile(token_embed_altered, [input_shape[0], 1, 1])\n",
    "        concat_input = concatenate([inputs, end_embed_token], axis=1)\n",
    "        return concat_input"
   ]
  },
  {
   "cell_type": "code",
   "execution_count": 18,
   "metadata": {},
   "outputs": [
    {
     "name": "stdout",
     "output_type": "stream",
     "text": [
      "initial english shape: (16, 13, 128)\n",
      "After Learned Embedded Layer: (16, 14, 128)\n"
     ]
    }
   ],
   "source": [
    "for english, german in train_dataset.take(1):\n",
    "    print(f\"initial english shape: {english.shape}\")\n",
    "    result = AddLearnedEmbeddedEndTokenLayer()(english)\n",
    "    print(f\"After Learned Embedded Layer: {result.shape}\")"
   ]
  },
  {
   "cell_type": "markdown",
   "metadata": {},
   "source": [
    "## 4. Build the encoder network\n",
    "The encoder network follows the schematic diagram above. You should now build the RNN encoder model.\n",
    "* Using the functional API, build the encoder network according to the following spec:\n",
    "    * The model will take a batch of sequences of embedded English words as input, as given by the Dataset objects.\n",
    "    * The next layer in the encoder will be the custom layer you created previously, to add a learned end token embedding to the end of the English sequence.\n",
    "    * This is followed by a Masking layer, with the `mask_value` set to the distinct padding value you used when you padded the English sequences with the Dataset preprocessing above.\n",
    "    * The final layer is an LSTM layer with 512 units, which also returns the hidden and cell states.\n",
    "    * The encoder is a multi-output model. There should be two output Tensors of this model: the hidden state and cell states of the LSTM layer. The output of the LSTM layer is unused.\n",
    "* Using the Dataset `.take(1)` method, extract a batch of English data examples from the training Dataset and test the encoder model by calling it on the English data Tensor, and print the shape of the resulting Tensor outputs.\n",
    "* Print the model summary for the encoder network."
   ]
  },
  {
   "cell_type": "code",
   "execution_count": 19,
   "metadata": {},
   "outputs": [],
   "source": [
    "def create_encoder_network(input_shape):\n",
    "    '''Create the encoder nework model\n",
    "    '''\n",
    "    inputs = Input(shape=input_shape)\n",
    "    embed_end_token = AddLearnedEmbeddedEndTokenLayer()(inputs)\n",
    "    masking_layer = Masking(mask_value=-1)(embed_end_token)\n",
    "    lstm, hidden, cell_states = LSTM(512, return_state=True)(masking_layer)\n",
    "    model = Model(inputs=inputs, outputs=[hidden, cell_states])\n",
    "    return model"
   ]
  },
  {
   "cell_type": "code",
   "execution_count": 21,
   "metadata": {},
   "outputs": [
    {
     "name": "stdout",
     "output_type": "stream",
     "text": [
      "(16, 512)\n",
      "(16, 512)\n",
      "Model: \"model\"\n",
      "_________________________________________________________________\n",
      "Layer (type)                 Output Shape              Param #   \n",
      "=================================================================\n",
      "input_1 (InputLayer)         [(None, 13, 128)]         0         \n",
      "_________________________________________________________________\n",
      "add_learned_embedded_end_tok (None, 14, 128)           128       \n",
      "_________________________________________________________________\n",
      "masking (Masking)            (None, 14, 128)           0         \n",
      "_________________________________________________________________\n",
      "lstm (LSTM)                  [(None, 512), (None, 512) 1312768   \n",
      "=================================================================\n",
      "Total params: 1,312,896\n",
      "Trainable params: 1,312,896\n",
      "Non-trainable params: 0\n",
      "_________________________________________________________________\n"
     ]
    }
   ],
   "source": [
    "# create the encoder model\n",
    "encoder_model = create_encoder_network(input_shape=(13,128))\n",
    "for english, german in train_dataset.take(1):\n",
    "    hidden, cell_state = encoder_model(english)\n",
    "    print(hidden.shape)\n",
    "    print(cell_state.shape)\n",
    "# model summary \n",
    "encoder_model.summary()"
   ]
  },
  {
   "cell_type": "markdown",
   "metadata": {},
   "source": [
    "## 5. Build the decoder network\n",
    "The decoder network follows the schematic diagram below. \n",
    "\n",
    "![Decoder schematic](data/neural_translation_model_decoder.png)"
   ]
  },
  {
   "cell_type": "markdown",
   "metadata": {},
   "source": [
    "You should now build the RNN decoder model.\n",
    "* Using Model subclassing, build the decoder network according to the following spec:\n",
    "    * The initializer should create the following layers:\n",
    "        * An Embedding layer with vocabulary size set to the number of unique German tokens, embedding dimension 128, and set to mask zero values in the input.\n",
    "        * An LSTM layer with 512 units, that returns its hidden and cell states, and also returns sequences.\n",
    "        * A Dense layer with number of units equal to the number of unique German tokens, and no activation function.\n",
    "    * The call method should include the usual `inputs` argument, as well as the additional keyword arguments `hidden_state` and `cell_state`. The default value for these keyword arguments should be `None`.\n",
    "    * The call method should pass the inputs through the Embedding layer, and then through the LSTM layer. If the `hidden_state` and `cell_state` arguments are provided, these should be used for the initial state of the LSTM layer. _Hint: use the_ `initial_state` _keyword argument when calling the LSTM layer on its input._\n",
    "    * The call method should pass the LSTM output sequence through the Dense layer, and return the resulting Tensor, along with the hidden and cell states of the LSTM layer.\n",
    "* Using the Dataset `.take(1)` method, extract a batch of English and German data examples from the training Dataset. Test the decoder model by first calling the encoder model on the English data Tensor to get the hidden and cell states, and then call the decoder model on the German data Tensor and hidden and cell states, and print the shape of the resulting decoder Tensor outputs.\n",
    "* Print the model summary for the decoder network."
   ]
  },
  {
   "cell_type": "code",
   "execution_count": 22,
   "metadata": {},
   "outputs": [],
   "source": [
    "class DecoderModel(Model):\n",
    "    def __init__(self):\n",
    "        super(DecoderModel, self).__init__()\n",
    "        self.embedding_layer = Embedding(vocab_size, 128, mask_zero=True)\n",
    "        self.lstm_layer = LSTM(512, return_sequences=True, return_state=True)\n",
    "        self.dense = Dense(vocab_size)\n",
    "        \n",
    "    def call(self, inputs, hidden_state=None, cell_state=None):\n",
    "        embedding_output = self.embedding_layer(inputs)\n",
    "        lstm_out, hidden, cell_state = self.lstm_layer(inputs=embedding_output,\n",
    "                                             initial_state=[hidden_state, cell_state])\n",
    "        dense_out = self.dense(lstm_out)\n",
    "        return (dense_out, hidden, cell_state)"
   ]
  },
  {
   "cell_type": "code",
   "execution_count": 23,
   "metadata": {},
   "outputs": [
    {
     "name": "stdout",
     "output_type": "stream",
     "text": [
      "output.shape: (16, 6, 5746)\n",
      "hidden.shape: (16, 512)\n",
      "cell_state.shape: (16, 512)\n",
      "Model: \"decoder_model\"\n",
      "_________________________________________________________________\n",
      "Layer (type)                 Output Shape              Param #   \n",
      "=================================================================\n",
      "embedding (Embedding)        multiple                  735488    \n",
      "_________________________________________________________________\n",
      "lstm_1 (LSTM)                multiple                  1312768   \n",
      "_________________________________________________________________\n",
      "dense (Dense)                multiple                  2947698   \n",
      "=================================================================\n",
      "Total params: 4,995,954\n",
      "Trainable params: 4,995,954\n",
      "Non-trainable params: 0\n",
      "_________________________________________________________________\n"
     ]
    }
   ],
   "source": [
    "# create decoder Model \n",
    "decoder_model = DecoderModel()\n",
    "# test the decoder model \n",
    "for english, german in train_dataset.take(1):\n",
    "  hidden, cell_state = encoder_model(english)\n",
    "  output, hidden, cell_state = decoder_model(german, hidden, cell_state)\n",
    "  print(f\"output.shape: {output.shape}\")\n",
    "  print(f\"hidden.shape: {hidden.shape}\")\n",
    "  print(f\"cell_state.shape: {cell_state.shape}\")\n",
    "\n",
    "# model summary \n",
    "decoder_model.summary()"
   ]
  },
  {
   "cell_type": "markdown",
   "metadata": {},
   "source": [
    "## 6. Make a custom training loop\n",
    "You should now write a custom training loop to train your custom neural translation model.\n",
    "* Define a function that takes a Tensor batch of German data (as extracted from the training Dataset), and returns a tuple containing German inputs and outputs for the decoder model (refer to schematic diagram above).\n",
    "* Define a function that computes the forward and backward pass for your translation model. This function should take an English input, German input and German output as arguments, and should do the following:\n",
    "    * Pass the English input into the encoder, to get the hidden and cell states of the encoder LSTM.\n",
    "    * These hidden and cell states are then passed into the decoder, along with the German inputs, which returns a sequence of outputs (the hidden and cell state outputs of the decoder LSTM are unused in this function).\n",
    "    * The loss should then be computed between the decoder outputs and the German output function argument.\n",
    "    * The function returns the loss and gradients with respect to the encoder and decoder’s trainable variables.\n",
    "    * Decorate the function with @tf.function\n",
    "* Define and run a custom training loop for a number of epochs (for you to choose) that does the following:\n",
    "    * Iterates through the training dataset, and creates decoder inputs and outputs from the German sequences.\n",
    "    * Updates the parameters of the translation model using the gradients of the function above and an optimizer object.\n",
    "    * Every epoch, compute the validation loss on a number of batches from the validation and save the epoch training and validation losses.\n",
    "* Plot the learning curves for loss vs epoch for both training and validation sets.\n",
    "\n",
    "_Hint: This model is computationally demanding to train. The quality of the model or length of training is not a factor in the grading rubric. However, to obtain a better model we recommend using the GPU accelerator hardware on Colab._"
   ]
  },
  {
   "cell_type": "code",
   "execution_count": 24,
   "metadata": {},
   "outputs": [],
   "source": [
    "def create_german_input_and_output(german_data):\n",
    "    '''Create the German input and outputs for the decoder model. \n",
    "    '''\n",
    "    german_input = german_data[:,:-1]\n",
    "    german_output = german_data[:,1:]\n",
    "    return (german_input, german_output) "
   ]
  },
  {
   "cell_type": "code",
   "execution_count": 25,
   "metadata": {},
   "outputs": [],
   "source": [
    "@tf.function\n",
    "def grad_fn(english, german_input, german_output):\n",
    "    \"\"\"Determine the loss and graidents for encoder and decoder\n",
    "    \"\"\"\n",
    "    with tf.GradientTape() as tape:\n",
    "        hidden, cell_state = encoder_model(english)\n",
    "        german_from_model, hidden, cell_state = decoder_model(german_input, \n",
    "                                                          hidden, \n",
    "                                                          cell_state)\n",
    "        loss = tf.keras.losses.sparse_categorical_crossentropy(german_output, \n",
    "                                                           german_from_model,\n",
    "                                                           from_logits=True)\n",
    "        grad_encoder, grad_decoder = tape.gradient(loss, [encoder_model.trainable_variables,\n",
    "                                                      decoder_model.trainable_variables])\n",
    "        return (loss, grad_encoder, grad_decoder)"
   ]
  },
  {
   "cell_type": "code",
   "execution_count": null,
   "metadata": {},
   "outputs": [],
   "source": [
    "optimizer = tf.keras.optimizers.Adam(learning_rate=0.001)\n",
    "num_epochs = 1\n",
    "epoch_train_loss = []\n",
    "epoch_val_loss = []\n",
    "\n",
    "for epoch in range(num_epochs):\n",
    "    train_loss = tf.keras.metrics.Mean()\n",
    "    val_loss = tf.keras.metrics.Mean()\n",
    "\n",
    "    #training loop \n",
    "    for english, german in train_dataset:\n",
    "        # create the german input and output \n",
    "        german_in, german_out = create_german_input_and_output(german)\n",
    "        #optimize the model\n",
    "        loss_value, grad_encoder, grad_decoder = grad_fn(english, \n",
    "                                                     german_in, \n",
    "                                                     german_out)\n",
    "        optimizer.apply_gradients(zip(grad_encoder, encoder_model.trainable_variables))\n",
    "        optimizer.apply_gradients(zip(grad_decoder, decoder_model.trainable_variables))\n",
    "        #compute current loss\n",
    "        train_loss(loss_value)\n",
    "    epoch_train_loss.append(train_loss.result())\n",
    "\n",
    "  #validation loop\n",
    "    for english, german in val_dataset:\n",
    "        # create the german input and output \n",
    "        german_in, german_out = create_german_input_and_output(german)\n",
    "        # put it through the model\n",
    "        hidden, cell_state = encoder_model(english)\n",
    "        german_from_model, hidden, cell_state = decoder_model(german_in, \n",
    "                                                          hidden, \n",
    "                                                          cell_state)\n",
    "        loss = tf.keras.losses.sparse_categorical_crossentropy(german_out, \n",
    "                                                           german_from_model,\n",
    "                                                           from_logits=True)\n",
    "        val_loss(loss)\n",
    "        \n",
    "    epoch_val_loss.append(val_loss.result())\n",
    "    print(f\"Completed with epoch {epoch}\")"
   ]
  },
  {
   "cell_type": "code",
   "execution_count": null,
   "metadata": {},
   "outputs": [],
   "source": [
    "# Plot the learning curves for loss vs epoch for both training and validation sets.\n",
    "fig, axes = plt.subplots(1, 2, sharex=True, figsize=(12, 5))\n",
    "\n",
    "axes[0].set_xlabel(\"Epochs\", fontsize=14)\n",
    "axes[0].set_ylabel(\"Loss\", fontsize=14)\n",
    "axes[0].set_title('Training Loss vs Epochs')\n",
    "axes[0].plot(epoch_train_loss)\n",
    "\n",
    "axes[1].set_title('Validation Loss vs Epochs')\n",
    "axes[1].set_ylabel(\"Loss\", fontsize=14)\n",
    "axes[1].set_xlabel(\"Epochs\", fontsize=14)\n",
    "axes[1].plot(epoch_val_loss)\n",
    "plt.show()"
   ]
  },
  {
   "cell_type": "markdown",
   "metadata": {},
   "source": [
    "## 7. Use the model to translate\n",
    "Now it's time to put your model into practice! You should run your translation for five randomly sampled English sentences from the dataset. For each sentence, the process is as follows:\n",
    "* Preprocess and embed the English sentence according to the model requirements.\n",
    "* Pass the embedded sentence through the encoder to get the encoder hidden and cell states.\n",
    "* Starting with the special  `\"<start>\"` token, use this token and the final encoder hidden and cell states to get the one-step prediction from the decoder, as well as the decoder’s updated hidden and cell states.\n",
    "* Create a loop to get the next step prediction and updated hidden and cell states from the decoder, using the most recent hidden and cell states. Terminate the loop when the `\"<end>\"` token is emitted, or when the sentence has reached a maximum length.\n",
    "* Decode the output token sequence into German text and print the English text and the model's German translation."
   ]
  },
  {
   "cell_type": "code",
   "execution_count": 28,
   "metadata": {},
   "outputs": [
    {
     "name": "stdout",
     "output_type": "stream",
     "text": [
      "Sample: 0\n",
      "English Sentence: tom appears ok\n",
      "pred_out_idx: 2\n",
      "Original German: <start> tom scheint in ordnung zu sein <end>\n",
      "Trainslated German: ['<end>']\n",
      "Sample: 1\n",
      "English Sentence: show it to her\n",
      "pred_out_idx: 2\n",
      "Original German: <start> zeig ihn ihr <end>\n",
      "Trainslated German: ['<end>']\n",
      "Sample: 2\n",
      "English Sentence: he flew to paris\n",
      "pred_out_idx: 2\n",
      "Original German: <start> er flog nach paris <end>\n",
      "Trainslated German: ['<end>']\n",
      "Sample: 3\n",
      "English Sentence: leave us\n",
      "pred_out_idx: 2\n",
      "Original German: <start> geh weg <end>\n",
      "Trainslated German: ['<end>']\n",
      "Sample: 4\n",
      "English Sentence: lock it\n",
      "pred_out_idx: 2\n",
      "Original German: <start> schliess es ab <end>\n",
      "Trainslated German: ['<end>']\n"
     ]
    }
   ],
   "source": [
    "#define the tokens \n",
    "start_token = tf.constant([[1]])\n",
    "end_token = tf.constant([[2]])\n",
    "end_token_val = end_token.numpy()[0][0]\n",
    "#get index to word dictionary \n",
    "index_to_word = tokenizer.index_word\n",
    "\n",
    "random_indexes = np.random.choice(len(english_sentences), 5)\n",
    "\n",
    "for idx, e_idx in enumerate(random_indexes):\n",
    "    curr_eng_sentence = english_sentences[e_idx]\n",
    "    print(f\"Sample: {idx}\")\n",
    "    print(f\"English Sentence: {curr_eng_sentence}\")\n",
    "    split_eng_sentence = tf.strings.split(curr_eng_sentence, sep=' ')\n",
    "    embedding_out = embedding_layer(split_eng_sentence)\n",
    "    pad_value = tf.constant([[13,0], [0,0]])\n",
    "    embeded_english_padded = tf.pad(embedding_out, pad_value) \n",
    "    embeded_english_padded_out = embeded_english_padded[-13:,:]\n",
    "  \n",
    "  \n",
    "    embedding_exp = tf.expand_dims(embeded_english_padded_out, 0)\n",
    "    hidden, cell_state = encoder_model(embedding_exp)\n",
    "    translated_german = []\n",
    "    decoder_input = start_token\n",
    "    \n",
    "    # keep making predictions until we find the end token\n",
    "    while decoder_input.numpy()[0][0] != end_token_val: \n",
    "        # run through the decoder\n",
    "        decoder_out, hidden, cell_state = decoder_model(decoder_input, \n",
    "                                                    hidden,\n",
    "                                                    cell_state)\n",
    "        # get the predicted index \n",
    "        pred_out_idx = ((np.argmax(decoder_out, axis=-1))[0][0])\n",
    "        print(f\"pred_out_idx: {pred_out_idx}\")\n",
    "        # if pred_out_idx == 0:\n",
    "        #   break\n",
    "        #translate to german word \n",
    "        german_word = index_to_word[pred_out_idx]\n",
    "        #add to list \n",
    "        translated_german.append(german_word)\n",
    "        #update decoder input \n",
    "        decoder_input = tf.constant([[pred_out_idx]])\n",
    "    print(f\"Original German: {german_sentences[e_idx]}\")\n",
    "    print(f\"Trainslated German: {translated_german}\")"
   ]
  },
  {
   "cell_type": "code",
   "execution_count": null,
   "metadata": {},
   "outputs": [],
   "source": []
  }
 ],
 "metadata": {
  "kernelspec": {
   "display_name": "Python 3",
   "language": "python",
   "name": "python3"
  },
  "language_info": {
   "codemirror_mode": {
    "name": "ipython",
    "version": 3
   },
   "file_extension": ".py",
   "mimetype": "text/x-python",
   "name": "python",
   "nbconvert_exporter": "python",
   "pygments_lexer": "ipython3",
   "version": "3.7.1"
  }
 },
 "nbformat": 4,
 "nbformat_minor": 2
}
