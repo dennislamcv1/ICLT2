{
 "cells": [
  {
   "cell_type": "markdown",
   "metadata": {},
   "source": [
    "# Programming Assignment"
   ]
  },
  {
   "cell_type": "markdown",
   "metadata": {},
   "source": [
    "## Bayesian convolutional neural network"
   ]
  },
  {
   "cell_type": "markdown",
   "metadata": {},
   "source": [
    "### Instructions\n",
    "\n",
    "In this notebook, you will create a Bayesian convolutional neural network to classify the famous MNIST handwritten digits. This will be a probabilistic model, designed to capture both aleatoric and epistemic uncertainty. You will test the uncertainty quantifications against a corrupted version of the dataset.\n",
    "\n",
    "Some code cells are provided for you in the notebook. You should avoid editing provided code, and make sure to execute the cells in order to avoid unexpected errors. Some cells begin with the line: \n",
    "\n",
    "`#### GRADED CELL ####`\n",
    "\n",
    "Don't move or edit this first line - this is what the automatic grader looks for to recognise graded cells. These cells require you to write your own code to complete them, and are automatically graded when you submit the notebook. Don't edit the function name or signature provided in these cells, otherwise the automatic grader might not function properly.\n",
    "\n",
    "### How to submit\n",
    "\n",
    "Complete all the tasks you are asked for in the worksheet. When you have finished and are happy with your code, press the **Submit Assignment** button at the top of this notebook.\n",
    "\n",
    "### Let's get started!\n",
    "\n",
    "We'll start running some imports, and loading the dataset. Do not edit the existing imports in the following cell. If you would like to make further Tensorflow imports, you should add them here."
   ]
  },
  {
   "cell_type": "code",
   "execution_count": 1,
   "metadata": {},
   "outputs": [],
   "source": [
    "#### PACKAGE IMPORTS ####\n",
    "\n",
    "# Run this cell first to import all required packages. Do not make any imports elsewhere in the notebook\n",
    "\n",
    "import tensorflow as tf\n",
    "import tensorflow_probability as tfp\n",
    "import os\n",
    "import numpy as np\n",
    "import matplotlib.pyplot as plt\n",
    "\n",
    "from tensorflow.keras.models import Sequential\n",
    "from tensorflow.keras.layers import Dense, Flatten, Conv2D, MaxPooling2D\n",
    "from tensorflow.keras.losses import SparseCategoricalCrossentropy\n",
    "from tensorflow.keras.optimizers import RMSprop\n",
    "\n",
    "tfd = tfp.distributions\n",
    "tfpl = tfp.layers\n",
    "\n",
    "# If you would like to make further imports from tensorflow, add them here\n",
    "\n"
   ]
  },
  {
   "cell_type": "markdown",
   "metadata": {},
   "source": [
    "![MNIST and MNIST-corrupted overview image](data/mnist_corrupted.png)\n",
    "\n",
    "#### The MNIST and MNIST-C datasets\n",
    "\n",
    "In this assignment, you will use the [MNIST](http://yann.lecun.com/exdb/mnist/) and [MNIST-C](https://github.com/google-research/mnist-c) datasets, which both consist of a training set of 60,000 handwritten digits with corresponding labels, and a test set of 10,000 images. The images have been normalised and centred. The MNIST-C dataset is a corrupted version of the MNIST dataset, to test out-of-distribution robustness of computer vision models.\n",
    "\n",
    "- Y. LeCun, L. Bottou, Y. Bengio, and P. Haffner. \"Gradient-based learning applied to document recognition.\" Proceedings of the IEEE, 86(11):2278-2324, November 1998.\n",
    "- N. Mu and J. Gilmeer. \"MNIST-C: A Robustness Benchmark for Computer Vision\" https://arxiv.org/abs/1906.02337\n",
    "\n",
    "Your goal is to construct a neural network that classifies images of handwritten digits into one of 10 classes."
   ]
  },
  {
   "cell_type": "markdown",
   "metadata": {},
   "source": [
    "#### Load the datasets\n",
    "\n",
    "We'll start by importing two datasets. The first is the MNIST dataset of handwritten digits, and the second is the MNIST-C dataset, which is a corrupted version of the MNIST dataset. This dataset is available on [TensorFlow datasets](https://www.tensorflow.org/datasets/catalog/mnist_corrupted). We'll be using the dataset with \"spatters\". We will load and inspect the datasets below. We'll use the notation `_c` to denote `corrupted`. The images are the same as in the original MNIST, but are \"corrupted\" by some grey spatters."
   ]
  },
  {
   "cell_type": "code",
   "execution_count": 2,
   "metadata": {},
   "outputs": [],
   "source": [
    "# Function to load training and testing data, with labels in integer and one-hot form\n",
    "\n",
    "def load_data(name):\n",
    "    data_dir = os.path.join('data', name)\n",
    "    x_train = 1 - np.load(os.path.join(data_dir, 'x_train.npy')) / 255.\n",
    "    x_train = x_train.astype(np.float32)\n",
    "    y_train = np.load(os.path.join(data_dir, 'y_train.npy'))\n",
    "    y_train_oh = tf.keras.utils.to_categorical(y_train)\n",
    "    x_test  = 1 - np.load(os.path.join(data_dir, 'x_test.npy')) / 255.\n",
    "    x_test = x_test.astype(np.float32)\n",
    "    y_test  = np.load(os.path.join(data_dir, 'y_test.npy'))\n",
    "    y_test_oh = tf.keras.utils.to_categorical(y_test)\n",
    "    \n",
    "    return (x_train, y_train, y_train_oh), (x_test, y_test, y_test_oh)"
   ]
  },
  {
   "cell_type": "code",
   "execution_count": 3,
   "metadata": {},
   "outputs": [],
   "source": [
    "# Function to inspect dataset digits\n",
    "\n",
    "def inspect_images(data, num_images):\n",
    "    fig, ax = plt.subplots(nrows=1, ncols=num_images, figsize=(2*num_images, 2))\n",
    "    for i in range(num_images):\n",
    "        ax[i].imshow(data[i, ..., 0], cmap='gray')\n",
    "        ax[i].axis('off')\n",
    "    plt.show()"
   ]
  },
  {
   "cell_type": "code",
   "execution_count": 4,
   "metadata": {},
   "outputs": [
    {
     "data": {
      "image/png": "[encoded data removed]",
      "text/plain": [
       "<Figure size 1152x144 with 8 Axes>"
      ]
     },
     "metadata": {
      "needs_background": "light"
     },
     "output_type": "display_data"
    }
   ],
   "source": [
    "# Load and inspect the MNIST dataset\n",
    "\n",
    "(x_train, y_train, y_train_oh), (x_test, y_test, y_test_oh) = load_data('MNIST')\n",
    "inspect_images(data=x_train, num_images=8)"
   ]
  },
  {
   "cell_type": "code",
   "execution_count": 5,
   "metadata": {},
   "outputs": [
    {
     "data": {
      "image/png": "[encoded data removed]",
      "text/plain": [
       "<Figure size 1152x144 with 8 Axes>"
      ]
     },
     "metadata": {
      "needs_background": "light"
     },
     "output_type": "display_data"
    }
   ],
   "source": [
    "# Load and inspect the MNIST-C dataset\n",
    "\n",
    "(x_c_train, y_c_train, y_c_train_oh), (x_c_test, y_c_test, y_c_test_oh) = load_data('MNIST_corrupted')\n",
    "inspect_images(data=x_c_train, num_images=8)"
   ]
  },
  {
   "cell_type": "markdown",
   "metadata": {},
   "source": [
    "#### Create the deterministic model\n",
    "\n",
    "We will first train a standard deterministic CNN classifier model as a base model before implementing the probabilistic and Bayesian neural networks. You should now build the deterministic model using the Sequential API according to the following specifications:\n",
    "\n",
    "* The first layer should be Conv2D layer with 8 filters, 5x5 kernel size, ReLU activation and `'VALID'` padding.\n",
    "    * This layer should set the `input_shape` according to the function argument\n",
    "* The second layer should be a MaxPooling2D layer with a 6x6 window size.\n",
    "* The third layer should be a Flatten layer\n",
    "* The final layer should be a Dense layer with 10 units and softmax activation\n",
    "\n",
    "In total, the network should have 4 layers.\n",
    "\n",
    "The model should then be compiled with the loss function, optimiser and list of metrics supplied in the function arguments."
   ]
  },
  {
   "cell_type": "code",
   "execution_count": 6,
   "metadata": {},
   "outputs": [],
   "source": [
    "#### GRADED CELL ####\n",
    "\n",
    "# Complete the following function. \n",
    "# Make sure to not change the function name or arguments.\n",
    "\n",
    "def get_deterministic_model(input_shape, loss, optimizer, metrics):\n",
    "    \"\"\"\n",
    "    This function should build and compile a CNN model according to the above specification. \n",
    "    The function takes input_shape, loss, optimizer and metrics as arguments, which should be\n",
    "    used to define and compile the model.\n",
    "    Your function should return the compiled model.\n",
    "    \"\"\"\n",
    "    model = Sequential([\n",
    "        Conv2D(8, 5, activation='relu', padding='valid', input_shape=input_shape),\n",
    "        MaxPooling2D(6),\n",
    "        Flatten(),\n",
    "        Dense(10, activation='softmax')\n",
    "    ])\n",
    "    model.compile(optimizer=optimizer, loss=loss, metrics=metrics)\n",
    "    return model\n",
    "    "
   ]
  },
  {
   "cell_type": "code",
   "execution_count": 7,
   "metadata": {},
   "outputs": [],
   "source": [
    "# Run your function to get the benchmark model\n",
    "\n",
    "tf.random.set_seed(0)\n",
    "deterministic_model = get_deterministic_model(\n",
    "    input_shape=(28, 28, 1), \n",
    "    loss=SparseCategoricalCrossentropy(), \n",
    "    optimizer=RMSprop(), \n",
    "    metrics=['accuracy']\n",
    ")"
   ]
  },
  {
   "cell_type": "code",
   "execution_count": 8,
   "metadata": {},
   "outputs": [
    {
     "name": "stdout",
     "output_type": "stream",
     "text": [
      "Model: \"sequential\"\n",
      "_________________________________________________________________\n",
      "Layer (type)                 Output Shape              Param #   \n",
      "=================================================================\n",
      "conv2d (Conv2D)              (None, 24, 24, 8)         208       \n",
      "_________________________________________________________________\n",
      "max_pooling2d (MaxPooling2D) (None, 4, 4, 8)           0         \n",
      "_________________________________________________________________\n",
      "flatten (Flatten)            (None, 128)               0         \n",
      "_________________________________________________________________\n",
      "dense (Dense)                (None, 10)                1290      \n",
      "=================================================================\n",
      "Total params: 1,498\n",
      "Trainable params: 1,498\n",
      "Non-trainable params: 0\n",
      "_________________________________________________________________\n"
     ]
    }
   ],
   "source": [
    "# Print the model summary\n",
    "\n",
    "deterministic_model.summary()"
   ]
  },
  {
   "cell_type": "code",
   "execution_count": null,
   "metadata": {},
   "outputs": [],
   "source": [
    "# Train the model\n",
    "\n",
    "deterministic_model.fit(x_train, y_train, epochs=5)"
   ]
  },
  {
   "cell_type": "code",
   "execution_count": null,
   "metadata": {},
   "outputs": [],
   "source": [
    "# Evaluate the model\n",
    "\n",
    "print('Accuracy on MNIST test set: ',\n",
    "      str(deterministic_model.evaluate(x_test, y_test, verbose=False)[1]))\n",
    "print('Accuracy on corrupted MNIST test set: ',\n",
    "      str(deterministic_model.evaluate(x_c_test, y_c_test, verbose=False)[1]))"
   ]
  },
  {
   "cell_type": "markdown",
   "metadata": {},
   "source": [
    "As you might expect, the pointwise performance on the corrupted MNIST set is worse. This makes sense, since this dataset is slightly different, and noisier, than the uncorrupted version. Furthermore, the model was trained on the uncorrupted MNIST data, so has no experience with the spatters."
   ]
  },
  {
   "cell_type": "markdown",
   "metadata": {},
   "source": [
    "### Probabilistic CNN model\n",
    "\n",
    "You'll start by turning this deterministic network into a probabilistic one, by letting the model output a distribution instead of a deterministic tensor. This model will capture the aleatoric uncertainty on the image labels. You will do this by adding a probabilistic layer to the end of the model and training using the negative loglikelihood. \n",
    "\n",
    "You should first define the negative loss likelihood loss function below. This function has arguments `y_true` for the correct label (as a one-hot vector), and `y_pred` as the model prediction (a `OneHotCategorical` distribution). It should return the negative log-likelihood of each sample in `y_true` given the predicted distribution `y_pred`. If `y_true` is of shape `[B, E]` and `y_pred` has batch shape `[B]` and event shape `[E]`, the output should be a Tensor of shape `[B]`."
   ]
  },
  {
   "cell_type": "code",
   "execution_count": 9,
   "metadata": {},
   "outputs": [],
   "source": [
    "#### GRADED CELL ####\n",
    "\n",
    "# Complete the following functions. \n",
    "# Make sure to not change the function name or arguments.\n",
    "\n",
    "def nll(y_true, y_pred):\n",
    "    \"\"\"\n",
    "    This function should return the negative log-likelihood of each sample\n",
    "    in y_true given the predicted distribution y_pred. If y_true is of shape \n",
    "    [B, E] and y_pred has batch shape [B] and event_shape [E], the output \n",
    "    should be a Tensor of shape [B].\n",
    "    \"\"\"\n",
    "    \n",
    "    return -y_pred.log_prob(y_true)"
   ]
  },
  {
   "cell_type": "markdown",
   "metadata": {},
   "source": [
    "You should now build your probabilistic model according to the following specification:\n",
    "\n",
    "* The first three layers are the same as for the deterministic model above\n",
    "* The fourth layer should be a Dense layer with no activation function, and the correct number of units needed to parameterise the probabilistic layer that follows\n",
    "* The final layer should be a probabilistic layer that outputs a `OneHotCategorical` distribution with an event shape of `[10]`, corresponding to the 10 digits\n",
    "* The `convert_to_tensor_fn` in the categorical layer should be set to the mode\n",
    "\n",
    "In total, your model should have 5 layers.\n",
    "\n",
    "The model should then be compiled with the loss function, optimiser and list of metrics supplied in the function arguments."
   ]
  },
  {
   "cell_type": "code",
   "execution_count": 10,
   "metadata": {
    "scrolled": true
   },
   "outputs": [],
   "source": [
    "#### GRADED CELL ####\n",
    "\n",
    "# Complete the following functions. \n",
    "# Make sure to not change the function name or arguments.\n",
    "\n",
    "def get_probabilistic_model(input_shape, loss, optimizer, metrics):\n",
    "    \"\"\"\n",
    "    This function should return the probabilistic model according to the \n",
    "    above specification.\n",
    "    The function takes input_shape, loss, optimizer and metrics as arguments, which should be\n",
    "    used to define and compile the model.\n",
    "    Your function should return the compiled model.\n",
    "    \"\"\"\n",
    "    \n",
    "    model = Sequential([\n",
    "        Conv2D(8, 5, activation='relu', padding='valid', input_shape=input_shape),\n",
    "        MaxPooling2D(6),\n",
    "        Flatten(),\n",
    "        Dense(10),\n",
    "        tfpl.OneHotCategorical(10, convert_to_tensor_fn=tfd.Distribution.mode)\n",
    "    ])\n",
    "    model.compile(optimizer=optimizer, loss=loss, metrics=metrics)\n",
    "    return model"
   ]
  },
  {
   "cell_type": "code",
   "execution_count": 11,
   "metadata": {},
   "outputs": [],
   "source": [
    "# Run your function to get the probabilistic model\n",
    "\n",
    "tf.random.set_seed(0)\n",
    "probabilistic_model = get_probabilistic_model(\n",
    "    input_shape=(28, 28, 1), \n",
    "    loss=nll, \n",
    "    optimizer=RMSprop(), \n",
    "    metrics=['accuracy']\n",
    ")"
   ]
  },
  {
   "cell_type": "code",
   "execution_count": 12,
   "metadata": {},
   "outputs": [
    {
     "name": "stdout",
     "output_type": "stream",
     "text": [
      "Model: \"sequential_1\"\n",
      "_________________________________________________________________\n",
      "Layer (type)                 Output Shape              Param #   \n",
      "=================================================================\n",
      "conv2d_1 (Conv2D)            (None, 24, 24, 8)         208       \n",
      "_________________________________________________________________\n",
      "max_pooling2d_1 (MaxPooling2 (None, 4, 4, 8)           0         \n",
      "_________________________________________________________________\n",
      "flatten_1 (Flatten)          (None, 128)               0         \n",
      "_________________________________________________________________\n",
      "dense_1 (Dense)              (None, 10)                1290      \n",
      "_________________________________________________________________\n",
      "one_hot_categorical (OneHotC ((None, 10), (None, 10))  0         \n",
      "=================================================================\n",
      "Total params: 1,498\n",
      "Trainable params: 1,498\n",
      "Non-trainable params: 0\n",
      "_________________________________________________________________\n"
     ]
    }
   ],
   "source": [
    "# Print the model summary\n",
    "\n",
    "probabilistic_model.summary()"
   ]
  },
  {
   "cell_type": "markdown",
   "metadata": {},
   "source": [
    "Now, you can train the probabilistic model on the MNIST data using the code below. \n",
    "\n",
    "Note that the target data now uses the one-hot version of the labels, instead of the sparse version. This is to match the categorical distribution you added at the end."
   ]
  },
  {
   "cell_type": "code",
   "execution_count": null,
   "metadata": {},
   "outputs": [],
   "source": [
    "# Train the model\n",
    "\n",
    "probabilistic_model.fit(x_train, y_train_oh, epochs=5)"
   ]
  },
  {
   "cell_type": "code",
   "execution_count": null,
   "metadata": {},
   "outputs": [],
   "source": [
    "# Evaluate the model\n",
    "\n",
    "print('Accuracy on MNIST test set: ',\n",
    "      str(probabilistic_model.evaluate(x_test, y_test_oh, verbose=False)[1]))\n",
    "print('Accuracy on corrupted MNIST test set: ',\n",
    "      str(probabilistic_model.evaluate(x_c_test, y_c_test_oh, verbose=False)[1]))"
   ]
  },
  {
   "cell_type": "markdown",
   "metadata": {},
   "source": [
    "Note that the test accuracy of the probabilistic model is identical to the deterministic model. This is because the model architectures for both are equivalent; the only difference being that the probabilistic model returns a distribution object. Since we have also set the same random seed for both models, the trained variables are in fact identical, as the following cell shows."
   ]
  },
  {
   "cell_type": "code",
   "execution_count": null,
   "metadata": {},
   "outputs": [],
   "source": [
    "# Check all the weights of the deterministic and probabilistic models are identical\n",
    "\n",
    "for deterministic_variable, probabilistic_variable in zip(deterministic_model.weights, probabilistic_model.weights):\n",
    "    print(np.allclose(deterministic_variable.numpy(), probabilistic_variable.numpy()))"
   ]
  },
  {
   "cell_type": "markdown",
   "metadata": {},
   "source": [
    "#### Analyse the model predictions\n",
    "\n",
    "We will now do some deeper analysis by looking at the probabilities the model assigns to each class instead of its single prediction. \n",
    "\n",
    "The function below will be useful to help us analyse the probabilistic model predictions."
   ]
  },
  {
   "cell_type": "code",
   "execution_count": 13,
   "metadata": {},
   "outputs": [],
   "source": [
    "# Function to make plots of the probabilities that the model estimates for an image\n",
    "\n",
    "def analyse_model_prediction(data, true_labels, model, image_num, run_ensemble=False):\n",
    "    if run_ensemble:\n",
    "        ensemble_size = 200\n",
    "    else:\n",
    "        ensemble_size = 1\n",
    "    image = data[image_num]\n",
    "    true_label = true_labels[image_num, 0]\n",
    "    predicted_probabilities = np.empty(shape=(ensemble_size, 10))\n",
    "    for i in range(ensemble_size):\n",
    "        predicted_probabilities[i] = model(image[np.newaxis, :]).mean().numpy()[0]\n",
    "    model_prediction = model(image[np.newaxis, :])\n",
    "    fig, (ax1, ax2) = plt.subplots(nrows=1, ncols=2, figsize=(10, 2),\n",
    "                                   gridspec_kw={'width_ratios': [2, 4]})\n",
    "    \n",
    "    # Show the image and the true label\n",
    "    ax1.imshow(image[..., 0], cmap='gray')\n",
    "    ax1.axis('off')\n",
    "    ax1.set_title('True label: {}'.format(str(true_label)))\n",
    "    \n",
    "    # Show a 95% prediction interval of model predicted probabilities\n",
    "    pct_2p5 = np.array([np.percentile(predicted_probabilities[:, i], 2.5) for i in range(10)])\n",
    "    pct_97p5 = np.array([np.percentile(predicted_probabilities[:, i], 97.5) for i in range(10)])    \n",
    "    bar = ax2.bar(np.arange(10), pct_97p5, color='red')\n",
    "    bar[int(true_label)].set_color('green')\n",
    "    ax2.bar(np.arange(10), pct_2p5-0.02, color='white', linewidth=1, edgecolor='white')\n",
    "    ax2.set_xticks(np.arange(10))\n",
    "    ax2.set_ylim([0, 1])\n",
    "    ax2.set_ylabel('Probability')\n",
    "    ax2.set_title('Model estimated probabilities')\n",
    "    plt.show()"
   ]
  },
  {
   "cell_type": "code",
   "execution_count": 14,
   "metadata": {
    "scrolled": true
   },
   "outputs": [
    {
     "data": {
      "image/png": "[encoded data removed]",
      "text/plain": [
       "<Figure size 720x144 with 2 Axes>"
      ]
     },
     "metadata": {
      "needs_background": "light"
     },
     "output_type": "display_data"
    },
    {
     "data": {
      "image/png": "[encoded data removed]",
      "text/plain": [
       "<Figure size 720x144 with 2 Axes>"
      ]
     },
     "metadata": {
      "needs_background": "light"
     },
     "output_type": "display_data"
    }
   ],
   "source": [
    "# Prediction examples on MNIST\n",
    "\n",
    "for i in [0, 1577]:\n",
    "    analyse_model_prediction(x_test, y_test, probabilistic_model, i)"
   ]
  },
  {
   "cell_type": "markdown",
   "metadata": {},
   "source": [
    "The model is very confident that the first image is a 6, which is correct. For the second image, the model struggles, assigning nonzero probabilities to many different classes. \n",
    "\n",
    "Run the code below to do the same for 2 images from the corrupted MNIST test set."
   ]
  },
  {
   "cell_type": "code",
   "execution_count": 15,
   "metadata": {},
   "outputs": [
    {
     "data": {
      "image/png": "[encoded data removed]",
      "text/plain": [
       "<Figure size 720x144 with 2 Axes>"
      ]
     },
     "metadata": {
      "needs_background": "light"
     },
     "output_type": "display_data"
    },
    {
     "data": {
      "image/png": "[encoded data removed]",
      "text/plain": [
       "<Figure size 720x144 with 2 Axes>"
      ]
     },
     "metadata": {
      "needs_background": "light"
     },
     "output_type": "display_data"
    }
   ],
   "source": [
    "# Prediction examples on MNIST-C\n",
    "\n",
    "for i in [0, 3710]:\n",
    "    analyse_model_prediction(x_c_test, y_c_test, probabilistic_model, i)"
   ]
  },
  {
   "cell_type": "markdown",
   "metadata": {},
   "source": [
    "The first is the same 6 as you saw above, but the second image is different. Notice how the model can still say with high certainty that the first image is a 6, but struggles for the second, assigning an almost uniform distribution to all possible labels.\n",
    "\n",
    "Finally, have a look at an image for which the model is very sure on MNIST data but very unsure on corrupted MNIST data:"
   ]
  },
  {
   "cell_type": "code",
   "execution_count": 16,
   "metadata": {},
   "outputs": [
    {
     "data": {
      "image/png": "[encoded data removed]",
      "text/plain": [
       "<Figure size 720x144 with 2 Axes>"
      ]
     },
     "metadata": {
      "needs_background": "light"
     },
     "output_type": "display_data"
    },
    {
     "data": {
      "image/png": "[encoded data removed]",
      "text/plain": [
       "<Figure size 720x144 with 2 Axes>"
      ]
     },
     "metadata": {
      "needs_background": "light"
     },
     "output_type": "display_data"
    }
   ],
   "source": [
    "# Prediction examples from both datasets\n",
    "\n",
    "for i in [9241]:\n",
    "    analyse_model_prediction(x_test, y_test, probabilistic_model, i)\n",
    "    analyse_model_prediction(x_c_test, y_c_test, probabilistic_model, i)"
   ]
  },
  {
   "cell_type": "markdown",
   "metadata": {},
   "source": [
    "It's not surprising what's happening here: the spatters cover up most of the number. You would hope a model indicates that it's unsure here, since there's very little information to go by. This is exactly what's happened."
   ]
  },
  {
   "cell_type": "markdown",
   "metadata": {},
   "source": [
    "#### Uncertainty quantification using entropy\n",
    "\n",
    "We can also make some analysis of the model's uncertainty across the full test set, instead of for individual values. One way to do this is to calculate the [entropy](https://en.wikipedia.org/wiki/Entropy_%28information_theory%29) of the distribution. The entropy is the expected information (or informally, the expected 'surprise') of a random variable, and is a measure of the uncertainty of the random variable. The entropy of the estimated probabilities for sample $i$ is defined as\n",
    "\n",
    "$$\n",
    "H_i = -\\sum_{j=1}^{10} p_{ij} \\text{log}_{2}(p_{ij})\n",
    "$$\n",
    "\n",
    "where $p_{ij}$ is the probability that the model assigns to sample $i$ corresponding to label $j$. The entropy as above is measured in _bits_. If the natural logarithm is used instead, the entropy is measured in _nats_.\n",
    "\n",
    "The key point is that the higher the value, the more unsure the model is. Let's see the distribution of the entropy of the model's predictions across the MNIST and corrupted MNIST test sets. The plots will be split between predictions the model gets correct and incorrect."
   ]
  },
  {
   "cell_type": "code",
   "execution_count": 17,
   "metadata": {},
   "outputs": [],
   "source": [
    "# Functions to plot the distribution of the information entropy across samples,\n",
    "# split into whether the model prediction is correct or incorrect\n",
    "\n",
    "\n",
    "def get_correct_indices(model, x, labels):\n",
    "    y_model = model(x)\n",
    "    correct = np.argmax(y_model.mean(), axis=1) == np.squeeze(labels)\n",
    "    correct_indices = [i for i in range(x.shape[0]) if correct[i]]\n",
    "    incorrect_indices = [i for i in range(x.shape[0]) if not correct[i]]\n",
    "    return correct_indices, incorrect_indices\n",
    "\n",
    "\n",
    "def plot_entropy_distribution(model, x, labels):\n",
    "    probs = model(x).mean().numpy()\n",
    "    entropy = -np.sum(probs * np.log2(probs), axis=1)\n",
    "    fig, axes = plt.subplots(1, 2, figsize=(10, 4))\n",
    "    for i, category in zip(range(2), ['Correct', 'Incorrect']):\n",
    "        entropy_category = entropy[get_correct_indices(model, x, labels)[i]]\n",
    "        mean_entropy = np.mean(entropy_category)\n",
    "        num_samples = entropy_category.shape[0]\n",
    "        title = category + 'ly labelled ({:.1f}% of total)'.format(num_samples / x.shape[0] * 100)\n",
    "        axes[i].hist(entropy_category, weights=(1/num_samples)*np.ones(num_samples))\n",
    "        axes[i].annotate('Mean: {:.3f} bits'.format(mean_entropy), (0.4, 0.9), ha='center')\n",
    "        axes[i].set_xlabel('Entropy (bits)')\n",
    "        axes[i].set_ylim([0, 1])\n",
    "        axes[i].set_ylabel('Probability')\n",
    "        axes[i].set_title(title)\n",
    "    plt.show()"
   ]
  },
  {
   "cell_type": "code",
   "execution_count": 18,
   "metadata": {},
   "outputs": [
    {
     "name": "stdout",
     "output_type": "stream",
     "text": [
      "MNIST test set:\n"
     ]
    },
    {
     "data": {
      "image/png": "[encoded data removed]",
      "text/plain": [
       "<Figure size 720x288 with 2 Axes>"
      ]
     },
     "metadata": {
      "needs_background": "light"
     },
     "output_type": "display_data"
    }
   ],
   "source": [
    "# Entropy plots for the MNIST dataset\n",
    "\n",
    "print('MNIST test set:')\n",
    "plot_entropy_distribution(probabilistic_model, x_test, y_test)"
   ]
  },
  {
   "cell_type": "code",
   "execution_count": 19,
   "metadata": {},
   "outputs": [
    {
     "name": "stdout",
     "output_type": "stream",
     "text": [
      "Corrupted MNIST test set:\n"
     ]
    },
    {
     "data": {
      "image/png": "[encoded data removed]",
      "text/plain": [
       "<Figure size 720x288 with 2 Axes>"
      ]
     },
     "metadata": {
      "needs_background": "light"
     },
     "output_type": "display_data"
    }
   ],
   "source": [
    "# Entropy plots for the MNIST-C dataset\n",
    "\n",
    "print('Corrupted MNIST test set:')\n",
    "plot_entropy_distribution(probabilistic_model, x_c_test, y_c_test)"
   ]
  },
  {
   "cell_type": "markdown",
   "metadata": {},
   "source": [
    "There are two main conclusions:\n",
    "- The model is more unsure on the predictions it got wrong: this means it \"knows\" when the prediction may be wrong.\n",
    "- The model is more unsure for the corrupted MNIST test than for the uncorrupted version. Futhermore, this is more pronounced for correct predictions than for those it labels incorrectly.\n",
    "\n",
    "In this way, the model seems to \"know\" when it is unsure. This is a great property to have in a machine learning model, and is one of the advantages of probabilistic modelling."
   ]
  },
  {
   "cell_type": "markdown",
   "metadata": {},
   "source": [
    "### Bayesian CNN model\n",
    "\n",
    "The probabilistic model you just created considered only aleatoric uncertainty, assigning probabilities to each image instead of deterministic labels. The model still had deterministic weights. However, as you've seen, there is also 'epistemic' uncertainty over the weights, due to uncertainty about the parameters that explain the training data. \n",
    "\n",
    "You'll now be adding weight uncertainty to the model you just created. Your new model will again have the following layers:\n",
    "- 2D convolution\n",
    "- Max pooling\n",
    "- Flatten\n",
    "- Dense\n",
    "- OneHotCategorical\n",
    "\n",
    "but where the convolutional and dense layers include weight uncertainty. You'll embed weight uncertainty as follows:\n",
    "- The 2D convolution layer will be replaced by a `Convolution2DReparameterization` layer\n",
    "- The Dense layer will be replaced by a `DenseVariational` layer."
   ]
  },
  {
   "cell_type": "markdown",
   "metadata": {},
   "source": [
    "You should start by creating the convolutional layer in the function below. The function should return an instance of the `Convolution2DReparameterization` layer, according to the following specification: \n",
    "\n",
    "* The function takes the `input_shape` and `divergence_fn` as arguments\n",
    "* The layer should set the input shape in its constructor using the `input_shape` argument\n",
    "* This layer should have 8 filters, a kernel size of `(5, 5)`, a ReLU activation, and `\"VALID\"` padding\n",
    "* The prior for both the kernel and bias should be the standard `default_multivariate_normal_fn`, as seen in the coding tutorial\n",
    "* The posterior for each parameter in both the kernel and bias should be an independent normal distribution with trainable mean and variance (_hint: use the_ `default_mean_field_normal_fn`_)_\n",
    "* The divergence function should be set using the `divergence_fn` argument for both the kernel and the bias\n",
    "\n",
    "_HINT: Review the arguments you used in the coding tutorial on Reparameterization layers._"
   ]
  },
  {
   "cell_type": "code",
   "execution_count": 20,
   "metadata": {},
   "outputs": [],
   "source": [
    "#### GRADED CELL ####\n",
    "\n",
    "# Complete the following functions. \n",
    "# Make sure to not change the function name or arguments.\n",
    "\n",
    "def get_convolutional_reparameterization_layer(input_shape, divergence_fn):\n",
    "    \"\"\"\n",
    "    This function should create an instance of a Convolution2DReparameterization \n",
    "    layer according to the above specification. \n",
    "    The function takes the input_shape and divergence_fn as arguments, which should \n",
    "    be used to define the layer.\n",
    "    Your function should then return the layer instance.\n",
    "    \"\"\"\n",
    "    \n",
    "    return tfpl.Convolution2DReparameterization(8, (5, 5), padding='valid', activation='relu', \n",
    "        input_shape=input_shape,\n",
    "\n",
    "        kernel_posterior_fn=tfpl.default_mean_field_normal_fn(is_singular=False),\n",
    "        kernel_prior_fn=tfpl.default_multivariate_normal_fn,\n",
    "        kernel_divergence_fn=divergence_fn,\n",
    "\n",
    "        bias_posterior_fn=tfpl.default_mean_field_normal_fn(is_singular=False),\n",
    "        bias_prior_fn=tfpl.default_multivariate_normal_fn,\n",
    "        bias_divergence_fn=divergence_fn\n",
    "    )"
   ]
  },
  {
   "cell_type": "markdown",
   "metadata": {},
   "source": [
    "You'll use this function to create your model a little bit later on. "
   ]
  },
  {
   "cell_type": "markdown",
   "metadata": {},
   "source": [
    "#### Custom prior\n",
    "\n",
    "For the parameters of the `DenseVariational` layer, we will use a custom prior: the \"spike and slab\" (also called a *scale mixture prior*) distribution. This distribution has a density that is the weighted sum of two normally distributed ones: one with a standard deviation of 1 and one with a standard deviation of 10. In this way, it has a sharp spike around 0 (from the normal distribution with standard deviation 1), but is also more spread out towards far away values (from the contribution from the normal distribution with standard deviation 10). The reason for using such a prior is that it is like a standard unit normal, but makes values far away from 0 more likely, allowing the model to explore a larger weight space. Run the code below to create a \"spike and slab\" distribution and plot its probability density function, compared with a standard unit normal."
   ]
  },
  {
   "cell_type": "code",
   "execution_count": 21,
   "metadata": {},
   "outputs": [],
   "source": [
    "# Function to define the spike and slab distribution\n",
    "\n",
    "def spike_and_slab(event_shape, dtype):\n",
    "    distribution = tfd.Mixture(\n",
    "        cat=tfd.Categorical(probs=[0.5, 0.5]),\n",
    "        components=[\n",
    "            tfd.Independent(tfd.Normal(\n",
    "                loc=tf.zeros(event_shape, dtype=dtype), \n",
    "                scale=1.0*tf.ones(event_shape, dtype=dtype)),\n",
    "                            reinterpreted_batch_ndims=1),\n",
    "            tfd.Independent(tfd.Normal(\n",
    "                loc=tf.zeros(event_shape, dtype=dtype), \n",
    "                scale=10.0*tf.ones(event_shape, dtype=dtype)),\n",
    "                            reinterpreted_batch_ndims=1)],\n",
    "    name='spike_and_slab')\n",
    "    return distribution"
   ]
  },
  {
   "cell_type": "code",
   "execution_count": 22,
   "metadata": {},
   "outputs": [
    {
     "data": {
      "image/png": "[encoded data removed]",
      "text/plain": [
       "<Figure size 432x288 with 1 Axes>"
      ]
     },
     "metadata": {
      "needs_background": "light"
     },
     "output_type": "display_data"
    }
   ],
   "source": [
    "# Plot the spike and slab distribution pdf\n",
    "\n",
    "x_plot = np.linspace(-5, 5, 1000)[:, np.newaxis]\n",
    "plt.plot(x_plot, tfd.Normal(loc=0, scale=1).prob(x_plot).numpy(), label='unit normal', linestyle='--')\n",
    "plt.plot(x_plot, spike_and_slab(1, dtype=tf.float32).prob(x_plot).numpy(), label='spike and slab')\n",
    "plt.xlabel('x')\n",
    "plt.ylabel('Density')\n",
    "plt.legend()\n",
    "plt.show()"
   ]
  },
  {
   "cell_type": "markdown",
   "metadata": {},
   "source": [
    "You should now complete the function below to create the prior distribution for the `DenseVariational` layer, using the spike and slab distribution above.\n",
    "\n",
    "* The function has the required signature for the `make_prior_fn` argument of the `DenseVariational` layer\n",
    "* The prior will have no trainable parameters\n",
    "* It should use the spike and slab distribution for both the kernel and the bias, setting the `dtype` according to the function argument\n",
    "* The distribution should have the correct event shape, according to the `kernel_size` and `bias_size` arguments\n",
    "* The function should return a callable, that returns the spike and slab distribution\n",
    "\n",
    "_Hints:_ \n",
    "* _Refer to the lecture video and/or coding tutorial to review the_ `DenseVariational` _layer arguments_\n",
    "* _Use the_ `Sequential` _API with a_ `DistributionLambda` _layer to create the callable that is returned by the function_"
   ]
  },
  {
   "cell_type": "code",
   "execution_count": 23,
   "metadata": {},
   "outputs": [],
   "source": [
    "#### GRADED CELL ####\n",
    "\n",
    "# Complete the following functions. \n",
    "# Make sure to not change the function name or arguments.\n",
    "\n",
    "def get_prior(kernel_size, bias_size, dtype=None):\n",
    "    \"\"\"\n",
    "    This function should create the prior distribution, consisting of the \n",
    "    \"spike and slab\" distribution that is described above. \n",
    "    The distribution should be created using the kernel_size, bias_size and dtype\n",
    "    function arguments above.\n",
    "    The function should then return a callable, that returns the prior distribution.\n",
    "    \"\"\"\n",
    "    \n",
    "    n = kernel_size + bias_size\n",
    "    prior_model = Sequential([\n",
    "        tfpl.DistributionLambda(\n",
    "            lambda t: spike_and_slab(n, dtype),\n",
    "        )\n",
    "    ])\n",
    "    return prior_model"
   ]
  },
  {
   "cell_type": "markdown",
   "metadata": {},
   "source": [
    "You'll use this function when you create the `DenseVariational` layer later on."
   ]
  },
  {
   "cell_type": "markdown",
   "metadata": {},
   "source": [
    "You should now complete the function below to create the variational posterior distribution for the `DenseVariational` layer. This distribution will be an independent Gaussian with trainable mean and standard deviation for each parameter in the layer.\n",
    "\n",
    "* The function has the required signature for the `make_posterior_fn` argument of the `DenseVariational` layer\n",
    "* The posterior will have 2 trainable variables for each layer parameter, one for the mean and one for the standard deviation\n",
    "* The distribution should have the correct event shape, according to the `kernel_size` and `bias_size` arguments\n",
    "* The function should return a callable, that returns the trainable independent Gaussian distribution\n",
    "\n",
    "_Hints:_ \n",
    "* _Refer to the lecture video and/or coding tutorial to review the_ `DenseVariational` _layer arguments_\n",
    "* _Use the_ `Sequential` _API with a_ `VariableLayer` and an `IndependentNormal` _layer to create the callable that is returned by the function_"
   ]
  },
  {
   "cell_type": "code",
   "execution_count": 24,
   "metadata": {},
   "outputs": [],
   "source": [
    "#### GRADED CELL ####\n",
    "\n",
    "# Complete the following functions. \n",
    "# Make sure to not change the function name or arguments.\n",
    "\n",
    "def get_posterior(kernel_size, bias_size, dtype=None):\n",
    "    \"\"\"\n",
    "    This function should create the posterior distribution as specified above.\n",
    "    The distribution should be created using the kernel_size, bias_size and dtype\n",
    "    function arguments above.\n",
    "    The function should then return a callable, that returns the posterior distribution.\n",
    "    \"\"\"\n",
    "    n = kernel_size + bias_size\n",
    "    posterior_model = Sequential([\n",
    "        tfpl.VariableLayer(tfpl.IndependentNormal.params_size(n), dtype=dtype),\n",
    "        tfpl.IndependentNormal(n),\n",
    "    ])\n",
    "    return posterior_model\n",
    "    "
   ]
  },
  {
   "cell_type": "markdown",
   "metadata": {},
   "source": [
    "You should now use your `prior` and `posterior` functions to complete the function below to create the `DenseVariational` layer. \n",
    "\n",
    "* The function has `prior_fn`, `posterior_fn` and `kl_weight` arguments, to be used in the constructor of the `DenseVariational` layer\n",
    "* The layer should have the correct number of units in order to parameterize a `OneHotCategorical` layer with 10 categories\n",
    "* The `make_prior_fn`, `make_posterior_fn` and `kl_weight` arguments should be set with the corresponding function arguments\n",
    "* An exact KL-divergence is unavailable for this choice of prior and posterior, so the layer should not attempt to use an analytical expression for this\n",
    "* Your function should then return an instance of the `DenseVariational` layer"
   ]
  },
  {
   "cell_type": "code",
   "execution_count": 25,
   "metadata": {},
   "outputs": [],
   "source": [
    "#### GRADED CELL ####\n",
    "\n",
    "# Complete the following functions. \n",
    "# Make sure to not change the function name or arguments.\n",
    "\n",
    "def get_dense_variational_layer(prior_fn, posterior_fn, kl_weight):\n",
    "    \"\"\"\n",
    "    This function should create an instance of a DenseVariational layer according \n",
    "    to the above specification. \n",
    "    The function takes the prior_fn, posterior_fn and kl_weight as arguments, which should \n",
    "    be used to define the layer.\n",
    "    Your function should then return the layer instance.\n",
    "    \"\"\"\n",
    "    layer = tfpl.DenseVariational(units=10, \n",
    "                                  make_posterior_fn=posterior_fn, \n",
    "                                  make_prior_fn=prior_fn, \n",
    "                                  kl_weight=kl_weight)\n",
    "    return layer\n",
    "    "
   ]
  },
  {
   "cell_type": "markdown",
   "metadata": {},
   "source": [
    "Now, you're ready to use the functions you defined to create the convolutional reparameterization and dense variational layers, and use them in your Bayesian convolutional neural network model."
   ]
  },
  {
   "cell_type": "code",
   "execution_count": 26,
   "metadata": {},
   "outputs": [],
   "source": [
    "# Create the layers\n",
    "\n",
    "tf.random.set_seed(0)\n",
    "divergence_fn = lambda q, p, _ : tfd.kl_divergence(q, p) / x_train.shape[0]\n",
    "convolutional_reparameterization_layer = get_convolutional_reparameterization_layer(\n",
    "    input_shape=(28, 28, 1), divergence_fn=divergence_fn\n",
    ")\n",
    "dense_variational_layer = get_dense_variational_layer(\n",
    "    get_prior, get_posterior, kl_weight=1/x_train.shape[0]\n",
    ")"
   ]
  },
  {
   "cell_type": "code",
   "execution_count": 27,
   "metadata": {},
   "outputs": [
    {
     "name": "stdout",
     "output_type": "stream",
     "text": [
      "WARNING:tensorflow:From /opt/conda/lib/python3.7/site-packages/tensorflow_probability/python/layers/util.py:106: Layer.add_variable (from tensorflow.python.keras.engine.base_layer) is deprecated and will be removed in a future version.\n",
      "Instructions for updating:\n",
      "Please use `layer.add_weight` method instead.\n"
     ]
    }
   ],
   "source": [
    "# Build and compile the Bayesian CNN model\n",
    "\n",
    "bayesian_model = Sequential([\n",
    "    convolutional_reparameterization_layer,\n",
    "    MaxPooling2D(pool_size=(6, 6)),\n",
    "    Flatten(),\n",
    "    dense_variational_layer,\n",
    "    tfpl.OneHotCategorical(10, convert_to_tensor_fn=tfd.Distribution.mode)\n",
    "])\n",
    "bayesian_model.compile(loss=nll,\n",
    "              optimizer=RMSprop(),\n",
    "              metrics=['accuracy'],\n",
    "              experimental_run_tf_function=False)"
   ]
  },
  {
   "cell_type": "code",
   "execution_count": 28,
   "metadata": {},
   "outputs": [
    {
     "name": "stdout",
     "output_type": "stream",
     "text": [
      "Model: \"sequential_2\"\n",
      "_________________________________________________________________\n",
      "Layer (type)                 Output Shape              Param #   \n",
      "=================================================================\n",
      "conv2d_reparameterization (C (None, 24, 24, 8)         416       \n",
      "_________________________________________________________________\n",
      "max_pooling2d_2 (MaxPooling2 (None, 4, 4, 8)           0         \n",
      "_________________________________________________________________\n",
      "flatten_2 (Flatten)          (None, 128)               0         \n",
      "_________________________________________________________________\n",
      "dense_variational (DenseVari (None, 10)                2580      \n",
      "_________________________________________________________________\n",
      "one_hot_categorical_1 (OneHo ((None, 10), (None, 10))  0         \n",
      "=================================================================\n",
      "Total params: 2,996\n",
      "Trainable params: 2,996\n",
      "Non-trainable params: 0\n",
      "_________________________________________________________________\n"
     ]
    }
   ],
   "source": [
    "# Print the model summary\n",
    "\n",
    "bayesian_model.summary()"
   ]
  },
  {
   "cell_type": "code",
   "execution_count": null,
   "metadata": {},
   "outputs": [],
   "source": [
    "# Train the model\n",
    "\n",
    "bayesian_model.fit(x=x_train, y=y_train_oh, epochs=10, verbose=True)"
   ]
  },
  {
   "cell_type": "code",
   "execution_count": null,
   "metadata": {},
   "outputs": [],
   "source": [
    "# Evaluate the model\n",
    "\n",
    "print('Accuracy on MNIST test set: ',\n",
    "      str(bayesian_model.evaluate(x_test, y_test_oh, verbose=False)[1]))\n",
    "print('Accuracy on corrupted MNIST test set: ',\n",
    "      str(bayesian_model.evaluate(x_c_test, y_c_test_oh, verbose=False)[1]))"
   ]
  },
  {
   "cell_type": "markdown",
   "metadata": {},
   "source": [
    "#### Analyse the model predictions\n",
    "\n",
    "Now that the model has trained, run the code below to create the same plots as before, starting with an analysis of the predicted probabilities for the same images. \n",
    "\n",
    "This model now has weight uncertainty, so running the forward pass multiple times will not generate the same estimated probabilities. For this reason, the estimated probabilities do not have single values. The plots are adjusted to show a 95% prediction interval for the model's estimated probabilities."
   ]
  },
  {
   "cell_type": "code",
   "execution_count": null,
   "metadata": {
    "scrolled": true
   },
   "outputs": [],
   "source": [
    "# Prediction examples on MNIST\n",
    "\n",
    "for i in [0, 1577]:\n",
    "    analyse_model_prediction(x_test, y_test, bayesian_model, i, run_ensemble=True)"
   ]
  },
  {
   "cell_type": "markdown",
   "metadata": {},
   "source": [
    "For the first image, the model assigns a probability of almost one for the 6 label. Furthermore, it is confident in this probability: this probability remains close to one for every sample from the posterior weight distribution (as seen by the horizontal green line having very small height, indicating a narrow prediction interval). This means that the epistemic uncertainty on this probability is very low. \n",
    "\n",
    "For the second image, the epistemic uncertainty on the probabilities is much larger, which indicates that the estimated probabilities may be unreliable. In this way, the model indicates whether estimates may be inaccurate."
   ]
  },
  {
   "cell_type": "code",
   "execution_count": null,
   "metadata": {},
   "outputs": [],
   "source": [
    "# Prediction examples on MNIST-C\n",
    "\n",
    "for i in [0, 3710]:\n",
    "    analyse_model_prediction(x_c_test, y_c_test, bayesian_model, i, run_ensemble=True)"
   ]
  },
  {
   "cell_type": "markdown",
   "metadata": {},
   "source": [
    "Even with the spatters, the Bayesian model is confident in predicting the correct label for the first image above. The model struggles with the second image, which is reflected in the range of probabilities output by the network."
   ]
  },
  {
   "cell_type": "code",
   "execution_count": null,
   "metadata": {},
   "outputs": [],
   "source": [
    "# Prediction examples from both datasets\n",
    "\n",
    "for i in [9241]:\n",
    "    analyse_model_prediction(x_test, y_test, bayesian_model, i, run_ensemble=True)\n",
    "    analyse_model_prediction(x_c_test, y_c_test, bayesian_model, i, run_ensemble=True)"
   ]
  },
  {
   "cell_type": "markdown",
   "metadata": {},
   "source": [
    "Similar to before, the model struggles with the second number, as it is mostly covered up by the spatters. However, this time is clear to see the epistemic uncertainty in the model."
   ]
  },
  {
   "cell_type": "markdown",
   "metadata": {},
   "source": [
    "#### Uncertainty quantification using entropy\n",
    "\n",
    "We also again plot the distribution of distribution entropy across the different test sets below. In these plots, no consideration has been made for the epistemic uncertainty, and the conclusions are broadly similar to those for the previous model."
   ]
  },
  {
   "cell_type": "code",
   "execution_count": null,
   "metadata": {},
   "outputs": [],
   "source": [
    "# Entropy plots for the MNIST dataset\n",
    "\n",
    "print('MNIST test set:')\n",
    "plot_entropy_distribution(bayesian_model, x_test, y_test)"
   ]
  },
  {
   "cell_type": "code",
   "execution_count": null,
   "metadata": {},
   "outputs": [],
   "source": [
    "# Entropy plots for the MNIST-C dataset\n",
    "\n",
    "print('Corrupted MNIST test set:')\n",
    "plot_entropy_distribution(bayesian_model, x_c_test, y_c_test)"
   ]
  },
  {
   "cell_type": "markdown",
   "metadata": {},
   "source": [
    "Congratulations on completing this programming assignment! In the next week of the course we will look at the bijectors module and normalising flows."
   ]
  }
 ],
 "metadata": {
  "coursera": {
   "course_slug": "probabilistic-deep-learning-with-tensorflow2",
   "graded_item_id": "QPF47",
   "launcher_item_id": "psszg"
  },
  "kernelspec": {
   "display_name": "Python 3",
   "language": "python",
   "name": "python3"
  },
  "language_info": {
   "codemirror_mode": {
    "name": "ipython",
    "version": 3
   },
   "file_extension": ".py",
   "mimetype": "text/x-python",
   "name": "python",
   "nbconvert_exporter": "python",
   "pygments_lexer": "ipython3",
   "version": "3.7.1"
  }
 },
 "nbformat": 4,
 "nbformat_minor": 4
}
