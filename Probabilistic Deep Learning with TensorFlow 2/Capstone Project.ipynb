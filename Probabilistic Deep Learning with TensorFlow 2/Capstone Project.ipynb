{
 "cells": [
  {
   "cell_type": "markdown",
   "metadata": {},
   "source": [
    "# Capstone Project\n",
    "## Probabilistic generative models\n",
    "### Instructions\n",
    "\n",
    "In this notebook, you will practice working with generative models, using both normalising flow networks and the variational autoencoder algorithm. You will create a synthetic dataset with a normalising flow with randomised parameters. This dataset will then be used to train a variational autoencoder, and you will used the trained model to interpolate between the generated images. You will use concepts from throughout this course, including Distribution objects, probabilistic layers, bijectors, ELBO optimisation and KL divergence regularisers.\n",
    "\n",
    "This project is peer-assessed. Within this notebook you will find instructions in each section for how to complete the project. Pay close attention to the instructions as the peer review will be carried out according to a grading rubric that checks key parts of the project instructions. Feel free to add extra cells into the notebook as required.\n",
    "\n",
    "### How to submit\n",
    "\n",
    "When you have completed the Capstone project notebook, you will submit a pdf of the notebook for peer review. First ensure that the notebook has been fully executed from beginning to end, and all of the cell outputs are visible. This is important, as the grading rubric depends on the reviewer being able to view the outputs of your notebook. Save the notebook as a pdf (File -> Download as -> PDF via LaTeX). You should then submit this pdf for review.\n",
    "\n",
    "### Let's get started!\n",
    "\n",
    "We'll start by running some imports below. For this project you are free to make further imports throughout the notebook as you wish. "
   ]
  },
  {
   "cell_type": "code",
   "execution_count": 1,
   "metadata": {},
   "outputs": [],
   "source": [
    "import tensorflow as tf\n",
    "import tensorflow_probability as tfp\n",
    "tfd = tfp.distributions\n",
    "tfb = tfp.bijectors\n",
    "tfpl = tfp.layers\n",
    "\n",
    "import numpy as np\n",
    "import matplotlib.pyplot as plt\n",
    "%matplotlib inline\n",
    "\n",
    "from tqdm import tqdm\n",
    "\n",
    "from tensorflow.keras.layers import InputLayer, Conv2D, Flatten, Dense, Reshape, BatchNormalization, UpSampling2D, LeakyReLU, Conv2DTranspose\n",
    "from tensorflow.keras.models import Sequential, Model"
   ]
  },
  {
   "cell_type": "markdown",
   "metadata": {},
   "source": [
    "![Flags overview image](data/example_images.png)\n",
    "\n",
    "For the capstone project, you will create your own image dataset from contour plots of a transformed distribution using a random normalising flow network. You will then use the variational autoencoder algorithm to train generative and inference networks, and synthesise new images by interpolating in the latent space."
   ]
  },
  {
   "cell_type": "markdown",
   "metadata": {},
   "source": [
    "#### The normalising flow\n",
    "* To construct the image dataset, you will build a normalising flow to transform the 2-D Gaussian random variable $z=(z_1, z_2)$, which has mean $\\mathbf{0}$ and covariance matrix $\\Sigma=\\sigma^2\\mathbf{I}_2$, with $\\sigma=0.3$. \n",
    "* This normalising flow uses bijectors that are parameterised by the following random variables:\n",
    "  * $\\theta \\sim U[0, 2\\pi)$\n",
    "  * $a \\sim N(3, 1)$\n",
    "  \n",
    "The complete normalising flow is given by the following chain of transformations:\n",
    "* $f_1(z) = (z_1, z_2 - 2)$,\n",
    "* $f_2(z) = (z_1, \\frac{z_2}{2})$,\n",
    "* $f_3(z) = (z_1, z_2 + az_1^2)$,\n",
    "* $f_4(z) = Rz$, where $R$ is a rotation matrix with angle $\\theta$,\n",
    "* $f_5(z) = \\tanh(z)$, where the $\\tanh$ function is applied elementwise.\n",
    "\n",
    "The transformed random variable $x$ is given by $x = f_5(f_4(f_3(f_2(f_1(z)))))$. \n",
    "* You should use or construct bijectors for each of the transformations $f_i$, $i=1,\\ldots, 5$, and use `tfb.Chain` and `tfb.TransformedDistribution` to construct the final transformed distribution. \n",
    "* Ensure to implement the `log_det_jacobian` methods for any subclassed bijectors that you write.\n",
    "* Display a scatter plot of samples from the base distribution.\n",
    "* Display 4 scatter plot images of the transformed distribution from your random normalising flow, using samples of $\\theta$ and $a$. Fix the axes of these 4 plots to the range $[-1, 1]$."
   ]
  },
  {
   "cell_type": "code",
   "execution_count": 2,
   "metadata": {},
   "outputs": [],
   "source": [
    "# base distribution\n",
    "\n",
    "# To construct the image dataset, you will build a normalising flow to transform the 2-D Gaussian random variable z=(z1,z2), \n",
    "# which has mean 0 and covariance matrix Σ=σ2I2, with σ=0.3.\n",
    "mu, sigma = 0, 0.3\n",
    "base_dist = tfd.MultivariateNormalDiag(loc=[mu, mu], scale_diag=[sigma, sigma])\n",
    "\n",
    "# This normalising flow uses bijectors that are parameterised by the following random variables:\n",
    "# * θ∼U[0,2π)\n",
    "theta_dist = tfd.Uniform(low=0, high=2*np.pi)\n",
    "# * a∼N(3,1)\n",
    "a_dist = tfd.Normal(loc=3, scale=1)"
   ]
  },
  {
   "cell_type": "code",
   "execution_count": 3,
   "metadata": {},
   "outputs": [
    {
     "data": {
      "image/png": "[encoded data removed]",
      "text/plain": [
       "<Figure size 432x288 with 1 Axes>"
      ]
     },
     "metadata": {
      "needs_background": "light"
     },
     "output_type": "display_data"
    }
   ],
   "source": [
    "# Display a scatter plot of samples from the base distribution.\n",
    "\n",
    "dist_plot = base_dist.sample(300).numpy().squeeze()\n",
    "plt.figure()\n",
    "plt.scatter(dist_plot[:, 0], dist_plot[:, 1])\n",
    "plt.title(\"Base Distribution\")\n",
    "plt.show()"
   ]
  },
  {
   "cell_type": "code",
   "execution_count": 4,
   "metadata": {},
   "outputs": [],
   "source": [
    "# polynominal bijector (f3)\n",
    "\n",
    "class Polynomial(tfb.Bijector):\n",
    "    def __init__(self, a, name=\"Polynomial\", validate_args=False):\n",
    "        super(Polynomial, self).__init__(validate_args=validate_args,\n",
    "                                         forward_min_event_ndims=1, \n",
    "                                         is_constant_jacobian=True,\n",
    "                                         name=name)\n",
    "        \n",
    "        self.a = tf.cast(a, dtype=tf.float32)\n",
    "\n",
    "    def _forward(self, x):\n",
    "        x = tf.cast(x, dtype=tf.float32)\n",
    "        return tf.concat([x[..., 0:1], \n",
    "                          x[..., 1:] + self.a * tf.square(x[..., 0:1])], axis=-1)\n",
    "    \n",
    "    def _inverse(self, y):\n",
    "        y = tf.cast(y, dtype=tf.float32)\n",
    "        return tf.concat([y[..., 0:1], \n",
    "                          y[..., 1:] - self.a * tf.square(y[..., 0:1])], axis=-1)\n",
    "    \n",
    "    # Ensure to implement the log_det_jacobian methods for any subclassed bijectors that you write.\n",
    "    def _forward_log_det_jacobian(self, x):\n",
    "        return tf.constant(0., dtype=x.dtype)\n",
    "     "
   ]
  },
  {
   "cell_type": "code",
   "execution_count": 5,
   "metadata": {},
   "outputs": [],
   "source": [
    "# rotation bijector (f4)\n",
    "\n",
    "class Rotation(tfb.Bijector):\n",
    "    def __init__(self, theta, validate_args=False, name=\"Rotation\"):\n",
    "        super(Rotation, self).__init__(validate_args=validate_args,\n",
    "                                       forward_min_event_ndims=1,\n",
    "                                       name=name)\n",
    "        \n",
    "        self.rot_matrix = tf.convert_to_tensor([[tf.cos(theta), -tf.sin(theta)], \n",
    "                                                [tf.sin(theta), tf.cos(theta)]], dtype=tf.float32)\n",
    "\n",
    "    def _forward(self, x):\n",
    "        x = tf.cast(x, dtype=tf.float32)\n",
    "        return tf.linalg.matvec(self.rot_matrix, x)\n",
    "\n",
    "    def _inverse(self, y):\n",
    "        y = tf.cast(y, dtype=tf.float32)\n",
    "        return tf.linalg.matvec(tf.transpose(self.rot_matrix), y)\n",
    "\n",
    "    # Ensure to implement the log_det_jacobian methods for any subclassed bijectors that you write.\n",
    "    def _forward_log_det_jacobian(self, x):\n",
    "        return tf.constant(0., dtype=x.dtype)"
   ]
  },
  {
   "cell_type": "code",
   "execution_count": 6,
   "metadata": {},
   "outputs": [],
   "source": [
    "# chained bijectors\n",
    "def GetFlow(theta, a):\n",
    "    # The complete normalising flow is given by the following chain of transformations:\n",
    "    # * f1(z)=(z1,z2−2),\n",
    "    f1 = tfb.Shift([0, -2])\n",
    "    # * f2(z)=(z1,z22),\n",
    "    f2 = tfb.Scale([1, 0.5])\n",
    "    # * f3(z)=(z1,z2+az21),\n",
    "    f3 = Polynomial(a)\n",
    "    # * f4(z)=Rz, where R is a rotation matrix with angle θ,\n",
    "    f4 = Rotation(theta)\n",
    "    # * f5(z)=tanh(z), where the tanh function is applied elementwise.\n",
    "    f5 = tfb.Tanh()\n",
    "\n",
    "    # The transformed random variable x is given by x=f5(f4(f3(f2(f1(z))))). \n",
    "    return tfb.Chain([f5, f4, f3, f2, f1])\n",
    "\n",
    "# You should use or construct bijectors for each of the transformations fi, i=1,…,5, \n",
    "# and use tfb.Chain and tfb.TransformedDistribution to construct the final transformed distribution\n",
    "FlowDist = lambda theta, a, base_dist: tfd.TransformedDistribution(distribution=base_dist, \n",
    "                                                                      bijector=GetFlow(theta, a))\n",
    "     "
   ]
  },
  {
   "cell_type": "code",
   "execution_count": 7,
   "metadata": {},
   "outputs": [
    {
     "data": {
      "image/png": "[encoded data removed]",
      "text/plain": [
       "<Figure size 720x720 with 4 Axes>"
      ]
     },
     "metadata": {
      "needs_background": "light"
     },
     "output_type": "display_data"
    }
   ],
   "source": [
    "# Display 4 scatter plot images of the transformed distribution from your random normalising flow, using samples of θ and a. \n",
    "# Fix the axes of these 4 plots to the range [−1,1].\n",
    "\n",
    "plt.figure(figsize=(10, 10))\n",
    "for i in range(4):\n",
    "    theta = theta_dist.sample().numpy()\n",
    "    a = a_dist.sample().numpy()\n",
    "    flow_dist = FlowDist(theta, a, base_dist)\n",
    "    plt.subplot(2, 2, i+1)\n",
    "    samples = flow_dist.sample(300).numpy().squeeze()\n",
    "    plt.scatter(samples[:,0], samples[:, 1])\n",
    "    plt.title(\"theta = {:.2f}, a = {:.2f}\".format(theta, a))\n",
    "    plt.xlim([-1,1])\n",
    "    plt.ylim([-1,1])\n",
    "plt.show()"
   ]
  },
  {
   "cell_type": "markdown",
   "metadata": {},
   "source": [
    "## 2. Create the image dataset\n",
    "* You should now use your random normalising flow to generate an image dataset of contour plots from your random normalising flow network. \n",
    "  * Feel free to get creative and experiment with different architectures to produce different sets of images!\n",
    "* First, display a sample of 4 contour plot images from your normalising flow network using 4 independently sampled sets of parameters. \n",
    "  * You may find the following `get_densities` function useful: this calculates density values for a (batched) Distribution for use in a contour plot. \n",
    "* Your dataset should consist of at least 1000 images, stored in a numpy array of shape `(N, 36, 36, 3)`.  Each image in the dataset should correspond to a contour plot of a transformed distribution from a normalising flow with an independently sampled set of parameters $s, T, S, b$. It will take a few minutes to create the dataset.\n",
    "* As well as the `get_densities` function, the `get_image_array_from_density_values` function will help you to generate the dataset. \n",
    "  * This function creates a numpy array for an image of the contour plot for a given set of density values Z. Feel free to choose your own options for the contour plots.\n",
    "* Display a sample of 20 images from your generated dataset in a figure."
   ]
  },
  {
   "cell_type": "code",
   "execution_count": 8,
   "metadata": {},
   "outputs": [],
   "source": [
    "# Helper function to compute transformed distribution densities\n",
    "\n",
    "X, Y = np.meshgrid(np.linspace(-1, 1, 100), np.linspace(-1, 1, 100))\n",
    "inputs = np.transpose(np.stack((X, Y)), [1, 2, 0])\n",
    "\n",
    "def get_densities(transformed_distribution):\n",
    "    \"\"\"\n",
    "    This function takes a (batched) Distribution object as an argument, and returns a numpy \n",
    "    array Z of shape (batch_shape, 100, 100) of density values, that can be used to make a \n",
    "    contour plot with:\n",
    "    plt.contourf(X, Y, Z[b, ...], cmap='hot', levels=100)\n",
    "    where b is an index into the batch shape.\n",
    "    \"\"\"\n",
    "    batch_shape = transformed_distribution.batch_shape\n",
    "    Z = transformed_distribution.prob(np.expand_dims(inputs, 2))\n",
    "    Z = np.transpose(Z, list(range(2, 2+len(batch_shape))) + [0, 1])\n",
    "    return Z"
   ]
  },
  {
   "cell_type": "code",
   "execution_count": 9,
   "metadata": {},
   "outputs": [],
   "source": [
    "# Helper function to convert contour plots to numpy arrays\n",
    "\n",
    "import numpy as np\n",
    "from matplotlib.backends.backend_agg import FigureCanvasAgg as FigureCanvas\n",
    "from matplotlib.figure import Figure\n",
    "\n",
    "def get_image_array_from_density_values(Z):\n",
    "    \"\"\"\n",
    "    This function takes a numpy array Z of density values of shape (100, 100)\n",
    "    and returns an integer numpy array of shape (36, 36, 3) of pixel values for an image.\n",
    "    \"\"\"\n",
    "    assert Z.shape == (100, 100)\n",
    "    fig = Figure(figsize=(0.5, 0.5))\n",
    "    canvas = FigureCanvas(fig)\n",
    "    ax = fig.gca()\n",
    "    ax.contourf(X, Y, Z, cmap='hot', levels=100)\n",
    "    ax.axis('off')\n",
    "    fig.tight_layout(pad=0)\n",
    "\n",
    "    ax.margins(0)\n",
    "    fig.canvas.draw()\n",
    "    image_from_plot = np.frombuffer(fig.canvas.tostring_rgb(), dtype=np.uint8)\n",
    "    image_from_plot = image_from_plot.reshape(fig.canvas.get_width_height()[::-1] + (3,))\n",
    "    return image_from_plot"
   ]
  },
  {
   "cell_type": "code",
   "execution_count": 10,
   "metadata": {},
   "outputs": [
    {
     "data": {
      "image/png": "[encoded data removed]",
      "text/plain": [
       "<Figure size 1440x360 with 4 Axes>"
      ]
     },
     "metadata": {
      "needs_background": "light"
     },
     "output_type": "display_data"
    }
   ],
   "source": [
    "# First, display a sample of 4 contour plot images from your normalising flow network using 4 independently sampled sets of parameters.  \n",
    "\n",
    "plt.figure(figsize=(20,5))\n",
    "for i in range(4):\n",
    "    theta = theta_dist.sample().numpy()\n",
    "    a = a_dist.sample().numpy()\n",
    "    flow_dist = FlowDist(theta, a, base_dist)\n",
    "    flow_dist = tfd.BatchReshape(flow_dist, [1])\n",
    "    plt.subplot(1, 4, i+1)\n",
    "    # You may find the following get_densities function useful: this calculates density values for a (batched) Distribution for use in a contour plot.\n",
    "    plt.contourf(X, Y, get_densities(flow_dist).squeeze(), cmap='hot', levels=50)\n",
    "    plt.title(\"theta = {:.2f}, a = {:.2f}\".format(theta, a))\n",
    "    plt.xlim([-1,1])\n",
    "    plt.ylim([-1,1])\n",
    "plt.tight_layout()\n",
    "plt.show()"
   ]
  },
  {
   "cell_type": "code",
   "execution_count": 11,
   "metadata": {},
   "outputs": [
    {
     "name": "stderr",
     "output_type": "stream",
     "text": [
      "100%|██████████| 1000/1000 [07:49<00:00,  2.13it/s]\n"
     ]
    }
   ],
   "source": [
    "# Your dataset should consist of at least 1000 images, stored in a numpy array of shape (N, 36, 36, 3). \n",
    "# Each image in the dataset should correspond to a contour plot of a transformed distribution from a normalising flow with an independently sampled set of parameters s,T,S,b. (?!?!?!)\n",
    "\n",
    "images = []\n",
    "img_params = []\n",
    "\n",
    "for _ in tqdm(range(1000)):\n",
    "    theta = theta_dist.sample().numpy()\n",
    "    a = a_dist.sample().numpy()\n",
    "    flow_dist = FlowDist(theta, a, base_dist)\n",
    "    flow_dist = tfd.BatchReshape(flow_dist, [1])\n",
    "    # As well as the get_densities function, the get_image_array_from_density_values function will help you to generate the dataset.\n",
    "    densities = get_densities(flow_dist).squeeze()\n",
    "    images.append(get_image_array_from_density_values(densities))\n",
    "\n",
    "images = np.array(images)"
   ]
  },
  {
   "cell_type": "code",
   "execution_count": 14,
   "metadata": {},
   "outputs": [
    {
     "data": {
      "image/png": "[encoded data removed]",
      "text/plain": [
       "<Figure size 1440x360 with 20 Axes>"
      ]
     },
     "metadata": {
      "needs_background": "light"
     },
     "output_type": "display_data"
    }
   ],
   "source": [
    "# Display a sample of 20 images from your generated dataset in a figure.\n",
    "\n",
    "plt.figure(figsize=(20,5))\n",
    "for i in range(20):\n",
    "    plt.subplot(2, 10, i+1)\n",
    "    plt.imshow(images[i])\n",
    "    plt.axis(\"off\")\n",
    "plt.tight_layout()\n",
    "plt.show()"
   ]
  },
  {
   "cell_type": "markdown",
   "metadata": {},
   "source": [
    "## 3. Make `tf.data.Dataset` objects\n",
    "* You should now split your dataset to create `tf.data.Dataset` objects for training and validation data. \n",
    "* Using the `map` method, normalise the pixel values so that they lie between 0 and 1.\n",
    "* These Datasets will be used to train a variational autoencoder (VAE). Use the `map` method to return a tuple of input and output Tensors where the image is duplicated as both input and output.\n",
    "* Randomly shuffle the training Dataset.\n",
    "* Batch both datasets with a batch size of 20, setting `drop_remainder=True`.\n",
    "* Print the `element_spec` property for one of the Dataset objects."
   ]
  },
  {
   "cell_type": "code",
   "execution_count": 15,
   "metadata": {},
   "outputs": [
    {
     "name": "stdout",
     "output_type": "stream",
     "text": [
      "750\n"
     ]
    }
   ],
   "source": [
    "# You should now split your dataset to create tf.data.Dataset objects for training and validation data. \n",
    "\n",
    "dataset = tf.data.Dataset.from_tensor_slices(images)\n",
    "split_size = int(len(images)*0.75)\n",
    "print(split_size)\n",
    "\n",
    "train_set = dataset.take(split_size) \n",
    "val_set = dataset.skip(split_size)"
   ]
  },
  {
   "cell_type": "code",
   "execution_count": 16,
   "metadata": {},
   "outputs": [],
   "source": [
    "def prepare_data(dataset: tf.data.Dataset):\n",
    "\n",
    "  # Using the map method, normalise the pixel values so that they lie between 0 and 1.\n",
    "    dataset = dataset.map(lambda x: tf.cast(x, tf.float32))\n",
    "    dataset = dataset.map(lambda x: x/255.0)\n",
    "  # These Datasets will be used to train a variational autoencoder (VAE). Use the map method to return a tuple of input and output Tensors where the image is duplicated as both input and output.\n",
    "    dataset = dataset.map(lambda x: (x,x))\n",
    "\n",
    "    return dataset\n",
    "\n",
    "train_set = prepare_data(train_set)\n",
    "# Randomly shuffle the training Dataset.\n",
    "train_set = train_set.shuffle(split_size)\n",
    "val_set = prepare_data(val_set)\n",
    "\n",
    "# Batch both datasets with a batch size of 20, setting drop_remainder=True.\n",
    "train_set = train_set.batch(batch_size=20, drop_remainder=True)\n",
    "val_set = val_set.batch(batch_size=20, drop_remainder=True)"
   ]
  },
  {
   "cell_type": "code",
   "execution_count": 17,
   "metadata": {},
   "outputs": [
    {
     "data": {
      "text/plain": [
       "(TensorSpec(shape=(20, 36, 36, 3), dtype=tf.float32, name=None),\n",
       " TensorSpec(shape=(20, 36, 36, 3), dtype=tf.float32, name=None))"
      ]
     },
     "execution_count": 17,
     "metadata": {},
     "output_type": "execute_result"
    }
   ],
   "source": [
    "# Print the element_spec property for one of the Dataset objects.\n",
    "train_set.element_spec"
   ]
  },
  {
   "cell_type": "markdown",
   "metadata": {},
   "source": [
    "## 4. Build the encoder and decoder networks\n",
    "* You should now create the encoder and decoder for the variational autoencoder algorithm.\n",
    "* You should design these networks yourself, subject to the following constraints:\n",
    "   * The encoder and decoder networks should be built using the `Sequential` class.\n",
    "   * The encoder and decoder networks should use probabilistic layers where necessary to represent distributions.\n",
    "   * The prior distribution should be a zero-mean, isotropic Gaussian (identity covariance matrix).\n",
    "   * The encoder network should add the KL divergence loss to the model.\n",
    "* Print the model summary for the encoder and decoder networks."
   ]
  },
  {
   "cell_type": "code",
   "execution_count": 18,
   "metadata": {},
   "outputs": [],
   "source": [
    "# You should now create the encoder and decoder for the variational autoencoder algorithm.\n",
    "# You should design these networks yourself, subject to the following constraints:\n",
    "# * The encoder and decoder networks should be built using the Sequential class.\n",
    "# * The encoder and decoder networks should use probabilistic layers where necessary to represent distributions.\n",
    "\n",
    "latent_dim = 2\n",
    "image_dim = images.shape[1:]\n",
    "\n",
    "# * The prior distribution should be a zero-mean, isotropic Gaussian (identity covariance matrix).\n",
    "prior = tfd.MultivariateNormalDiag(loc=tf.Variable(tf.zeros(latent_dim), dtype=tf.float32),\n",
    "                                   scale_diag = tfp.util.TransformedVariable(initial_value = tf.ones(latent_dim, dtype=tf.float32),\n",
    "                                                                             bijector = tfb.Softplus(), dtype = tf.float32))"
   ]
  },
  {
   "cell_type": "code",
   "execution_count": 19,
   "metadata": {},
   "outputs": [
    {
     "name": "stdout",
     "output_type": "stream",
     "text": [
      "WARNING:tensorflow:From /opt/conda/lib/python3.7/site-packages/tensorflow_core/python/ops/linalg/linear_operator_lower_triangular.py:158: calling LinearOperator.__init__ (from tensorflow.python.ops.linalg.linear_operator) with graph_parents is deprecated and will be removed in a future version.\n",
      "Instructions for updating:\n",
      "Do not pass `graph_parents`.  They will  no longer be used.\n",
      "Model: \"encoder\"\n",
      "_________________________________________________________________\n",
      "Layer (type)                 Output Shape              Param #   \n",
      "=================================================================\n",
      "conv2d (Conv2D)              (None, 36, 36, 32)        896       \n",
      "_________________________________________________________________\n",
      "batch_normalization (BatchNo (None, 36, 36, 32)        128       \n",
      "_________________________________________________________________\n",
      "conv2d_1 (Conv2D)            (None, 36, 36, 64)        18496     \n",
      "_________________________________________________________________\n",
      "batch_normalization_1 (Batch (None, 36, 36, 64)        256       \n",
      "_________________________________________________________________\n",
      "conv2d_2 (Conv2D)            (None, 36, 36, 128)       73856     \n",
      "_________________________________________________________________\n",
      "batch_normalization_2 (Batch (None, 36, 36, 128)       512       \n",
      "_________________________________________________________________\n",
      "conv2d_3 (Conv2D)            (None, 36, 36, 8)         1032      \n",
      "_________________________________________________________________\n",
      "batch_normalization_3 (Batch (None, 36, 36, 8)         32        \n",
      "_________________________________________________________________\n",
      "flatten (Flatten)            (None, 10368)             0         \n",
      "_________________________________________________________________\n",
      "dense (Dense)                (None, 100)               1036900   \n",
      "_________________________________________________________________\n",
      "batch_normalization_4 (Batch (None, 100)               400       \n",
      "_________________________________________________________________\n",
      "dense_1 (Dense)              (None, 5)                 505       \n",
      "_________________________________________________________________\n",
      "multivariate_normal_tri_l (M ((None, 2), (None, 2))    0         \n",
      "_________________________________________________________________\n",
      "kl_divergence_add_loss (KLDi (None, 2)                 4         \n",
      "=================================================================\n",
      "Total params: 1,133,017\n",
      "Trainable params: 1,132,353\n",
      "Non-trainable params: 664\n",
      "_________________________________________________________________\n"
     ]
    }
   ],
   "source": [
    "# encoder part\n",
    "# inspired by https://www.tensorflow.org/tutorials/generative/cvae\n",
    "encoder = Sequential([\n",
    "                      InputLayer(input_shape=image_dim),\n",
    "                      \n",
    "                      Conv2D(filters=32, kernel_size=(3,3), activation='relu', padding='same'),\n",
    "                      BatchNormalization(),\n",
    "                      Conv2D(filters=64, kernel_size=(3,3), activation='relu', padding='same'),\n",
    "                      BatchNormalization(),\n",
    "                      Conv2D(filters=128, kernel_size=(3,3), activation='relu', padding='same'),\n",
    "                      BatchNormalization(),\n",
    "                      Conv2D(filters=8, kernel_size=(1,1), activation='relu', padding='same'),\n",
    "                      BatchNormalization(),\n",
    "\n",
    "                      Flatten(),\n",
    "                      Dense(100),\n",
    "                      BatchNormalization(),\n",
    "\n",
    "                      Dense(tfpl.MultivariateNormalTriL.params_size(latent_dim), activation=None),\n",
    "                      tfpl.MultivariateNormalTriL(latent_dim),\n",
    "                      # * The encoder network should add the KL divergence loss to the model.\n",
    "                      tfpl.KLDivergenceAddLoss(prior,\n",
    "                                               use_exact_kl = False,\n",
    "                                               test_points_fn = lambda q:q.sample(5),\n",
    "                                               test_points_reduce_axis=(0,1))\n",
    "], name='encoder')\n",
    "# Print the model summary for the encoder and decoder networks.\n",
    "encoder.summary()"
   ]
  },
  {
   "cell_type": "code",
   "execution_count": 20,
   "metadata": {},
   "outputs": [
    {
     "name": "stdout",
     "output_type": "stream",
     "text": [
      "Model: \"decoder\"\n",
      "_________________________________________________________________\n",
      "Layer (type)                 Output Shape              Param #   \n",
      "=================================================================\n",
      "dense_2 (Dense)              (None, 512)               1536      \n",
      "_________________________________________________________________\n",
      "reshape (Reshape)            (None, 8, 8, 8)           0         \n",
      "_________________________________________________________________\n",
      "conv2d_transpose (Conv2DTran (None, 16, 16, 32)        2336      \n",
      "_________________________________________________________________\n",
      "batch_normalization_5 (Batch (None, 16, 16, 32)        128       \n",
      "_________________________________________________________________\n",
      "conv2d_transpose_1 (Conv2DTr (None, 32, 32, 16)        4624      \n",
      "_________________________________________________________________\n",
      "batch_normalization_6 (Batch (None, 32, 32, 16)        64        \n",
      "_________________________________________________________________\n",
      "conv2d_transpose_2 (Conv2DTr (None, 64, 64, 1)         145       \n",
      "_________________________________________________________________\n",
      "batch_normalization_7 (Batch (None, 64, 64, 1)         4         \n",
      "_________________________________________________________________\n",
      "flatten_1 (Flatten)          (None, 4096)              0         \n",
      "_________________________________________________________________\n",
      "dense_3 (Dense)              (None, 3888)              15929136  \n",
      "_________________________________________________________________\n",
      "independent_bernoulli (Indep ((None, 36, 36, 3), (None 0         \n",
      "=================================================================\n",
      "Total params: 15,937,973\n",
      "Trainable params: 15,937,875\n",
      "Non-trainable params: 98\n",
      "_________________________________________________________________\n"
     ]
    }
   ],
   "source": [
    "# decoder part\n",
    "# inspired by https://www.tensorflow.org/tutorials/generative/cvae\n",
    "decoder = Sequential([\n",
    "                      InputLayer(input_shape=(latent_dim,)),\n",
    "\n",
    "                      Dense(8*8*8),\n",
    "                      Reshape(target_shape=(8,8,8)),\n",
    "\n",
    "                      Conv2DTranspose(filters=32, kernel_size=(3,3), strides=(2,2), activation='relu', padding='same'),\n",
    "                      BatchNormalization(),\n",
    "                      Conv2DTranspose(filters=16, kernel_size=(3,3), strides=(2,2), activation='relu', padding='same'),\n",
    "                      BatchNormalization(),\n",
    "                      Conv2DTranspose(filters=1, kernel_size=(3, 3), strides=(2,2), activation='relu', padding='same'),\n",
    "                      BatchNormalization(),\n",
    "                      \n",
    "                      Flatten(),\n",
    "                      Dense(tfpl.IndependentBernoulli.params_size(image_dim), activation=None),\n",
    "                      tfpl.IndependentBernoulli(event_shape=image_dim)\n",
    "], name='decoder')\n",
    "# Print the model summary for the encoder and decoder networks.\n",
    "decoder.summary()"
   ]
  },
  {
   "cell_type": "markdown",
   "metadata": {},
   "source": [
    "## 5. Train the variational autoencoder\n",
    "* You should now train the variational autoencoder. Build the VAE using the `Model` class and the encoder and decoder models. Print the model summary.\n",
    "* Compile the VAE with the negative log likelihood loss and train with the `fit` method, using the training and validation Datasets.\n",
    "* Plot the learning curves for loss vs epoch for both training and validation sets."
   ]
  },
  {
   "cell_type": "code",
   "execution_count": 21,
   "metadata": {},
   "outputs": [],
   "source": [
    "# Build the VAE using the Model class and the encoder and decoder models. Print the model summary.\n",
    "vae = Model(inputs=encoder.inputs, outputs=decoder(encoder.outputs), name='vae')"
   ]
  },
  {
   "cell_type": "code",
   "execution_count": 22,
   "metadata": {},
   "outputs": [
    {
     "name": "stdout",
     "output_type": "stream",
     "text": [
      "Model: \"vae\"\n",
      "_________________________________________________________________\n",
      "Layer (type)                 Output Shape              Param #   \n",
      "=================================================================\n",
      "input_1 (InputLayer)         [(None, 36, 36, 3)]       0         \n",
      "_________________________________________________________________\n",
      "conv2d (Conv2D)              (None, 36, 36, 32)        896       \n",
      "_________________________________________________________________\n",
      "batch_normalization (BatchNo (None, 36, 36, 32)        128       \n",
      "_________________________________________________________________\n",
      "conv2d_1 (Conv2D)            (None, 36, 36, 64)        18496     \n",
      "_________________________________________________________________\n",
      "batch_normalization_1 (Batch (None, 36, 36, 64)        256       \n",
      "_________________________________________________________________\n",
      "conv2d_2 (Conv2D)            (None, 36, 36, 128)       73856     \n",
      "_________________________________________________________________\n",
      "batch_normalization_2 (Batch (None, 36, 36, 128)       512       \n",
      "_________________________________________________________________\n",
      "conv2d_3 (Conv2D)            (None, 36, 36, 8)         1032      \n",
      "_________________________________________________________________\n",
      "batch_normalization_3 (Batch (None, 36, 36, 8)         32        \n",
      "_________________________________________________________________\n",
      "flatten (Flatten)            (None, 10368)             0         \n",
      "_________________________________________________________________\n",
      "dense (Dense)                (None, 100)               1036900   \n",
      "_________________________________________________________________\n",
      "batch_normalization_4 (Batch (None, 100)               400       \n",
      "_________________________________________________________________\n",
      "dense_1 (Dense)              (None, 5)                 505       \n",
      "_________________________________________________________________\n",
      "multivariate_normal_tri_l (M ((None, 2), (None, 2))    0         \n",
      "_________________________________________________________________\n",
      "kl_divergence_add_loss (KLDi (None, 2)                 4         \n",
      "_________________________________________________________________\n",
      "decoder (Sequential)         (None, 36, 36, 3)         15937973  \n",
      "=================================================================\n",
      "Total params: 17,070,990\n",
      "Trainable params: 17,070,228\n",
      "Non-trainable params: 762\n",
      "_________________________________________________________________\n"
     ]
    }
   ],
   "source": [
    "# Compile the VAE with the negative log likelihood loss \n",
    "def nll(y_true, y_pred):\n",
    "    return -tf.reduce_mean(y_pred.log_prob(y_true))\n",
    "\n",
    "vae.compile(loss=nll, optimizer='adam')\n",
    "vae.summary()"
   ]
  },
  {
   "cell_type": "code",
   "execution_count": null,
   "metadata": {
    "scrolled": true
   },
   "outputs": [
    {
     "name": "stdout",
     "output_type": "stream",
     "text": [
      "Train for 37 steps, validate for 12 steps\n",
      "Epoch 1/50\n"
     ]
    }
   ],
   "source": [
    "# and train with the fit method, using the training and validation Datasets.\n",
    "early_stopping = tf.keras.callbacks.EarlyStopping(monitor=\"val_loss\",\n",
    "                                                  min_delta=0.1, patience=5,\n",
    "                                                  restore_best_weights=True)\n",
    "\n",
    "\n",
    "history = vae.fit(train_set,\n",
    "                  validation_data=val_set,\n",
    "                  epochs=50,\n",
    "                  callbacks=[early_stopping],\n",
    "                  verbose=2)"
   ]
  },
  {
   "cell_type": "code",
   "execution_count": null,
   "metadata": {},
   "outputs": [],
   "source": [
    "# Plot the learning curves for loss vs epoch for both training and validation sets.\n",
    "plt.plot(history.history[\"loss\"])\n",
    "plt.plot(history.history[\"val_loss\"])\n",
    "plt.show()"
   ]
  },
  {
   "cell_type": "markdown",
   "metadata": {},
   "source": [
    "## 6. Use the encoder and decoder networks\n",
    "* You can now put your encoder and decoder networks into practice!\n",
    "* Randomly sample 1000 images from the dataset, and pass them through the encoder. Display the embeddings in a scatter plot (project to 2 dimensions if the latent space has dimension higher than two).\n",
    "* Randomly sample 4 images from the dataset and for each image, display the original and reconstructed image from the VAE in a figure.\n",
    "  * Use the mean of the output distribution to display the images.\n",
    "* Randomly sample 6 latent variable realisations from the prior distribution, and display the images in a figure.\n",
    "  * Again use the mean of the output distribution to display the images."
   ]
  },
  {
   "cell_type": "code",
   "execution_count": null,
   "metadata": {},
   "outputs": [],
   "source": [
    "# Randomly sample 1000 images from the dataset, and pass them through the encoder. \n",
    "# Display the embeddings in a scatter plot (project to 2 dimensions if the latent space has dimension higher than two).\n",
    "\n",
    "idx = np.random.choice(np.arange(images.shape[0]), 1000)\n",
    "embeddings = encoder(images[idx]/255.0).mean()\n",
    "plt.scatter(embeddings[:,0], embeddings[:,1])\n",
    "plt.show()"
   ]
  },
  {
   "cell_type": "code",
   "execution_count": null,
   "metadata": {},
   "outputs": [],
   "source": [
    "# Randomly sample 4 images from the dataset and for each image, display the original and reconstructed image from the VAE in a figure.\n",
    "# Use the mean of the output distribution to display the images.\n",
    "\n",
    "idx = np.random.choice(np.arange(images.shape[0]), 4) \n",
    "reconstructions = vae(images[idx]).mean().numpy()\n",
    "\n",
    "plt.figure(figsize=(15, 6))\n",
    "for i in range(4):\n",
    "    plt.subplot(2, 4, i+1)\n",
    "    plt.imshow(images[idx[i]])\n",
    "    plt.title(\"Original: {}\".format(i+1))\n",
    "    plt.axis(\"off\")\n",
    "\n",
    "    plt.subplot(2, 4, i+5)\n",
    "    plt.imshow(reconstructions[i])\n",
    "    plt.title(\"Reconstruction: {}\".format(i+1))\n",
    "    plt.axis(\"off\")\n",
    "plt.show()"
   ]
  },
  {
   "cell_type": "code",
   "execution_count": null,
   "metadata": {},
   "outputs": [],
   "source": [
    "# Randomly sample 6 latent variable realisations from the prior distribution, and display the images in a figure.\n",
    "# Again use the mean of the output distribution to display the images.\n",
    "\n",
    "latent_variables = np.random.uniform(-2, 2, (6, latent_dim))\n",
    "realisations = decoder(latent_variables).mean()\n",
    "\n",
    "plt.figure(figsize=(15, 6))\n",
    "for i in range(6):\n",
    "    plt.subplot(1, 6, i+1)\n",
    "    plt.imshow(realisations[i])\n",
    "    plt.title(\"Realisation: {}\".format(i+1))\n",
    "    plt.axis(\"off\")\n",
    "plt.show()"
   ]
  },
  {
   "cell_type": "code",
   "execution_count": null,
   "metadata": {},
   "outputs": [],
   "source": []
  },
  {
   "cell_type": "code",
   "execution_count": null,
   "metadata": {},
   "outputs": [],
   "source": []
  },
  {
   "cell_type": "code",
   "execution_count": null,
   "metadata": {},
   "outputs": [],
   "source": []
  },
  {
   "cell_type": "markdown",
   "metadata": {},
   "source": [
    "## Make a video of latent space interpolation (not assessed)\n",
    "* Just for fun, you can run the code below to create a video of your decoder's generations, depending on the latent space."
   ]
  },
  {
   "cell_type": "code",
   "execution_count": 12,
   "metadata": {},
   "outputs": [],
   "source": [
    "# Function to create animation\n",
    "\n",
    "import matplotlib.animation as anim\n",
    "from IPython.display import HTML\n",
    "\n",
    "\n",
    "def get_animation(latent_size, decoder, interpolation_length=500):\n",
    "    assert latent_size >= 2, \"Latent space must be at least 2-dimensional for plotting\"\n",
    "    fig = plt.figure(figsize=(9, 4))  \n",
    "    ax1 = fig.add_subplot(1,2,1)\n",
    "    ax1.set_xlim([-3, 3])\n",
    "    ax1.set_ylim([-3, 3])\n",
    "    ax1.set_title(\"Latent space\")\n",
    "    ax1.axes.get_xaxis().set_visible(False)\n",
    "    ax1.axes.get_yaxis().set_visible(False)\n",
    "    ax2 = fig.add_subplot(1,2,2)\n",
    "    ax2.set_title(\"Data space\")\n",
    "    ax2.axes.get_xaxis().set_visible(False)\n",
    "    ax2.axes.get_yaxis().set_visible(False)\n",
    "\n",
    "    # initializing a line variable \n",
    "    line, = ax1.plot([], [], marker='o')\n",
    "    img2 = ax2.imshow(np.zeros((36, 36, 3)))\n",
    "\n",
    "    freqs = np.random.uniform(low=0.1, high=0.2, size=(latent_size,))\n",
    "    phases = np.random.randn(latent_size)\n",
    "    input_points = np.arange(interpolation_length)\n",
    "    latent_coords = []\n",
    "    for i in range(latent_size):\n",
    "        latent_coords.append(2 * np.sin((freqs[i]*input_points + phases[i])).astype(np.float32))\n",
    "\n",
    "    def animate(i): \n",
    "        z = tf.constant([coord[i] for coord in latent_coords])\n",
    "        img_out = np.squeeze(decoder(z[np.newaxis, ...]).mean().numpy())\n",
    "        line.set_data(z.numpy()[0], z.numpy()[1])\n",
    "        img2.set_data(np.clip(img_out, 0, 1))\n",
    "        return (line, img2)\n",
    "\n",
    "    return anim.FuncAnimation(fig, animate, frames=interpolation_length, \n",
    "                              repeat=False, blit=True, interval=150)"
   ]
  },
  {
   "cell_type": "code",
   "execution_count": 13,
   "metadata": {},
   "outputs": [
    {
     "ename": "NameError",
     "evalue": "name 'latent_size' is not defined",
     "output_type": "error",
     "traceback": [
      "\u001b[0;31m---------------------------------------------------------------------------\u001b[0m",
      "\u001b[0;31mNameError\u001b[0m                                 Traceback (most recent call last)",
      "\u001b[0;32m<ipython-input-13-f8780fad386d>\u001b[0m in \u001b[0;36m<module>\u001b[0;34m\u001b[0m\n\u001b[1;32m      1\u001b[0m \u001b[0;31m# Create the animation\u001b[0m\u001b[0;34m\u001b[0m\u001b[0;34m\u001b[0m\u001b[0;34m\u001b[0m\u001b[0m\n\u001b[1;32m      2\u001b[0m \u001b[0;34m\u001b[0m\u001b[0m\n\u001b[0;32m----> 3\u001b[0;31m \u001b[0ma\u001b[0m \u001b[0;34m=\u001b[0m \u001b[0mget_animation\u001b[0m\u001b[0;34m(\u001b[0m\u001b[0mlatent_size\u001b[0m\u001b[0;34m,\u001b[0m \u001b[0mdecoder\u001b[0m\u001b[0;34m,\u001b[0m \u001b[0minterpolation_length\u001b[0m\u001b[0;34m=\u001b[0m\u001b[0;36m200\u001b[0m\u001b[0;34m)\u001b[0m\u001b[0;34m\u001b[0m\u001b[0;34m\u001b[0m\u001b[0m\n\u001b[0m\u001b[1;32m      4\u001b[0m \u001b[0mHTML\u001b[0m\u001b[0;34m(\u001b[0m\u001b[0ma\u001b[0m\u001b[0;34m.\u001b[0m\u001b[0mto_html5_video\u001b[0m\u001b[0;34m(\u001b[0m\u001b[0;34m)\u001b[0m\u001b[0;34m)\u001b[0m\u001b[0;34m\u001b[0m\u001b[0;34m\u001b[0m\u001b[0m\n",
      "\u001b[0;31mNameError\u001b[0m: name 'latent_size' is not defined"
     ]
    }
   ],
   "source": [
    "# Create the animation\n",
    "\n",
    "a = get_animation(latent_size, decoder, interpolation_length=200)\n",
    "HTML(a.to_html5_video())"
   ]
  },
  {
   "cell_type": "code",
   "execution_count": null,
   "metadata": {},
   "outputs": [],
   "source": []
  }
 ],
 "metadata": {
  "kernelspec": {
   "display_name": "Python 3 (ipykernel)",
   "language": "python",
   "name": "python3"
  },
  "language_info": {
   "codemirror_mode": {
    "name": "ipython",
    "version": 3
   },
   "file_extension": ".py",
   "mimetype": "text/x-python",
   "name": "python",
   "nbconvert_exporter": "python",
   "pygments_lexer": "ipython3",
   "version": "3.9.12"
  }
 },
 "nbformat": 4,
 "nbformat_minor": 2
}
