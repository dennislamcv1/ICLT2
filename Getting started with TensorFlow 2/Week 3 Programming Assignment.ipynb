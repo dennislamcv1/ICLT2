{
 "cells": [
  {
   "cell_type": "markdown",
   "metadata": {},
   "source": [
    "# Programming Assignment"
   ]
  },
  {
   "cell_type": "markdown",
   "metadata": {},
   "source": [
    "## Model validation on the Iris dataset"
   ]
  },
  {
   "cell_type": "markdown",
   "metadata": {},
   "source": [
    "### Instructions\n",
    "\n",
    "In this notebook, you will build, compile and fit a neural network model to the Iris dataset. You will also implement validation, regularisation and callbacks to improve your model.\n",
    "\n",
    "Some code cells are provided you in the notebook. You should avoid editing provided code, and make sure to execute the cells in order to avoid unexpected errors. Some cells begin with the line: \n",
    "\n",
    "`#### GRADED CELL ####`\n",
    "\n",
    "Don't move or edit this first line - this is what the automatic grader looks for to recognise graded cells. These cells require you to write your own code to complete them, and are automatically graded when you submit the notebook. Don't edit the function name or signature provided in these cells, otherwise the automatic grader might not function properly. Inside these graded cells, you can use any functions or classes that are imported below, but make sure you don't use any variables that are outside the scope of the function.\n",
    "\n",
    "### How to submit\n",
    "\n",
    "Complete all the tasks you are asked for in the worksheet. When you have finished and are happy with your code, press the **Submit Assignment** button at the top of this notebook.\n",
    "\n",
    "### Let's get started!\n",
    "\n",
    "We'll start running some imports, and loading the dataset. Do not edit the existing imports in the following cell. If you would like to make further Tensorflow imports, you should add them here."
   ]
  },
  {
   "cell_type": "code",
   "execution_count": 1,
   "metadata": {},
   "outputs": [],
   "source": [
    "#### PACKAGE IMPORTS ####\n",
    "\n",
    "# Run this cell first to import all required packages. Do not make any imports elsewhere in the notebook\n",
    "from numpy.random import seed\n",
    "seed(8)\n",
    "import tensorflow as tf\n",
    "import numpy as np\n",
    "import matplotlib.pyplot as plt\n",
    "from sklearn import datasets, model_selection \n",
    "%matplotlib inline\n",
    "\n",
    "# If you would like to make further imports from tensorflow, add them here\n",
    "\n",
    "from sklearn.model_selection import train_test_split\n",
    "from tensorflow.keras.models import Sequential \n",
    "from tensorflow.keras.layers import Dense, Dropout, BatchNormalization\n",
    "from tensorflow.keras import initializers, optimizers, regularizers"
   ]
  },
  {
   "cell_type": "markdown",
   "metadata": {},
   "source": [
    "<tr>\n",
    "<td><img src=\"data/iris_setosa.jpg\" alt=\"Drawing\" style=\"height: 270px;\"/></td>\n",
    "<td><img src=\"data/iris_versicolor.jpg\" alt=\"Drawing\" style=\"height: 270px;\"/></td>\n",
    "<td><img src=\"data/iris_virginica.jpg\" alt=\"Drawing\" style=\"height: 270px;\"/></td>\n",
    "</tr>"
   ]
  },
  {
   "cell_type": "markdown",
   "metadata": {},
   "source": [
    "#### The Iris dataset\n",
    "\n",
    "In this assignment, you will use the [Iris dataset](https://scikit-learn.org/stable/auto_examples/datasets/plot_iris_dataset.html). It consists of 50 samples from each of three species of Iris (Iris setosa, Iris virginica and Iris versicolor). Four features were measured from each sample: the length and the width of the sepals and petals, in centimeters. For a reference, see the following papers:\n",
    "\n",
    "- R. A. Fisher. \"The use of multiple measurements in taxonomic problems\". Annals of Eugenics. 7 (2): 179–188, 1936.\n",
    "\n",
    "Your goal is to construct a neural network that classifies each sample into the correct class, as well as applying validation and regularisation techniques."
   ]
  },
  {
   "cell_type": "markdown",
   "metadata": {},
   "source": [
    "#### Load and preprocess the data\n",
    "\n",
    "First read in the Iris dataset using `datasets.load_iris()`, and split the dataset into training and test sets."
   ]
  },
  {
   "cell_type": "code",
   "execution_count": 2,
   "metadata": {},
   "outputs": [],
   "source": [
    "#### GRADED CELL ####\n",
    "\n",
    "# Complete the following function. \n",
    "# Make sure to not change the function name or arguments.\n",
    "\n",
    "def read_in_and_split_data(iris_data):\n",
    "    \"\"\"\n",
    "    This function takes the Iris dataset as loaded by sklearn.datasets.load_iris(), and then \n",
    "    splits so that the training set includes 90% of the full dataset, with the test set \n",
    "    making up the remaining 10%.\n",
    "    Your function should return a tuple (train_data, test_data, train_targets, test_targets) \n",
    "    of appropriately split training and test data and targets.\n",
    "    \n",
    "    If you would like to import any further packages to aid you in this task, please do so in the \n",
    "    Package Imports cell above.\n",
    "    \"\"\"\n",
    "    \n",
    "    train_data, test_data, train_targets, test_targets = train_test_split(iris_data['data'], iris_data['target'],\n",
    "                                                                    test_size=0.1)\n",
    "    return (train_data, test_data, train_targets, test_targets)"
   ]
  },
  {
   "cell_type": "code",
   "execution_count": 3,
   "metadata": {},
   "outputs": [],
   "source": [
    "# Run your function to generate the test and training data.\n",
    "\n",
    "iris_data = datasets.load_iris()\n",
    "train_data, test_data, train_targets, test_targets = read_in_and_split_data(iris_data)"
   ]
  },
  {
   "cell_type": "markdown",
   "metadata": {},
   "source": [
    "We will now convert the training and test targets using a one hot encoder."
   ]
  },
  {
   "cell_type": "code",
   "execution_count": 4,
   "metadata": {},
   "outputs": [],
   "source": [
    "# Convert targets to a one-hot encoding\n",
    "\n",
    "train_targets = tf.keras.utils.to_categorical(np.array(train_targets))\n",
    "test_targets = tf.keras.utils.to_categorical(np.array(test_targets))"
   ]
  },
  {
   "cell_type": "markdown",
   "metadata": {},
   "source": [
    "#### Build the neural network model\n"
   ]
  },
  {
   "cell_type": "markdown",
   "metadata": {},
   "source": [
    "You can now construct a model to fit to the data. Using the Sequential API, build your model according to the following specifications:\n",
    "\n",
    "* The model should use the `input_shape` in the function argument to set the input size in the first layer.\n",
    "* The first layer should be a dense layer with 64 units.\n",
    "* The weights of the first layer should be initialised with the He uniform initializer.\n",
    "* The biases of the first layer should be all initially equal to one.\n",
    "* There should then be a further four dense layers, each with 128 units.\n",
    "* This should be followed with four dense layers, each with 64 units.\n",
    "* All of these Dense layers should use the ReLU activation function.\n",
    "* The output Dense layer should have 3 units and the softmax activation function.\n",
    "\n",
    "In total, the network should have 10 layers."
   ]
  },
  {
   "cell_type": "code",
   "execution_count": 5,
   "metadata": {},
   "outputs": [],
   "source": [
    "#### GRADED CELL ####\n",
    "\n",
    "# Complete the following function. \n",
    "# Make sure to not change the function name or arguments.\n",
    "\n",
    "def get_model(input_shape):\n",
    "    \"\"\"\n",
    "    This function should build a Sequential model according to the above specification. Ensure the \n",
    "    weights are initialised by providing the input_shape argument in the first layer, given by the\n",
    "    function argument.\n",
    "    Your function should return the model.\n",
    "    \"\"\"\n",
    "    \n",
    "    initializer = initializers.he_uniform()\n",
    "    bias_init = initializers.Ones()\n",
    "    model = Sequential([\n",
    "        Dense(64, activation=\"relu\", kernel_initializer=initializer, \n",
    "              bias_initializer=bias_init, input_shape=input_shape),\n",
    "        Dense(128, activation=\"relu\"),\n",
    "        Dense(128, activation=\"relu\"),\n",
    "        Dense(128, activation=\"relu\"),\n",
    "        Dense(128, activation=\"relu\"),\n",
    "        Dense(64, activation=\"relu\"),\n",
    "        Dense(64, activation=\"relu\"),\n",
    "        Dense(64, activation=\"relu\"),\n",
    "        Dense(64, activation=\"relu\"),\n",
    "        Dense(3, activation=\"softmax\")\n",
    "    ])\n",
    "    return model"
   ]
  },
  {
   "cell_type": "code",
   "execution_count": 6,
   "metadata": {},
   "outputs": [],
   "source": [
    "# Run your function to get the model\n",
    "\n",
    "model = get_model(train_data[0].shape)"
   ]
  },
  {
   "cell_type": "markdown",
   "metadata": {},
   "source": [
    "#### Compile the model\n",
    "\n",
    "You should now compile the model using the `compile` method. Remember that you need to specify an optimizer, a loss function and a metric to judge the performance of your model."
   ]
  },
  {
   "cell_type": "code",
   "execution_count": 7,
   "metadata": {},
   "outputs": [],
   "source": [
    "#### GRADED CELL ####\n",
    "\n",
    "# Complete the following function. \n",
    "# Make sure to not change the function name or arguments.\n",
    "\n",
    "def compile_model(model):\n",
    "    \"\"\"\n",
    "    This function takes in the model returned from your get_model function, and compiles it with an optimiser,\n",
    "    loss function and metric.\n",
    "    Compile the model using the Adam optimiser (with learning rate set to 0.0001), \n",
    "    the categorical crossentropy loss function and accuracy as the only metric. \n",
    "    Your function doesn't need to return anything; the model will be compiled in-place.\n",
    "    \"\"\"\n",
    "    \n",
    "    opt = optimizers.Adam(learning_rate=0.0001)\n",
    "    model.compile(optimizer=opt, loss=\"categorical_crossentropy\", metrics=[\"accuracy\"])"
   ]
  },
  {
   "cell_type": "code",
   "execution_count": 8,
   "metadata": {},
   "outputs": [],
   "source": [
    "# Run your function to compile the model\n",
    "\n",
    "compile_model(model)"
   ]
  },
  {
   "cell_type": "markdown",
   "metadata": {},
   "source": [
    "#### Fit the model to the training data\n",
    "\n",
    "Now you should train the model on the Iris dataset, using the model's `fit` method. \n",
    "* Run the training for a fixed number of epochs, given by the function's `epochs` argument.\n",
    "* Return the training history to be used for plotting the learning curves.\n",
    "* Set the batch size to 40.\n",
    "* Set the validation set to be 15% of the training set."
   ]
  },
  {
   "cell_type": "code",
   "execution_count": 9,
   "metadata": {},
   "outputs": [],
   "source": [
    "#### GRADED CELL ####\n",
    "\n",
    "# Complete the following function. \n",
    "# Make sure to not change the function name or arguments.\n",
    "\n",
    "def train_model(model, train_data, train_targets, epochs):\n",
    "    \"\"\"\n",
    "    This function should train the model for the given number of epochs on the \n",
    "    train_data and train_targets. \n",
    "    Your function should return the training history, as returned by model.fit.\n",
    "    \"\"\"\n",
    "    \n",
    "    history = model.fit(train_data, train_targets, epochs=epochs, batch_size=40, validation_split=0.15)\n",
    "    return history"
   ]
  },
  {
   "cell_type": "markdown",
   "metadata": {},
   "source": [
    "Run the following cell to run the training for 800 epochs."
   ]
  },
  {
   "cell_type": "code",
   "execution_count": 10,
   "metadata": {},
   "outputs": [
    {
     "name": "stdout",
     "output_type": "stream",
     "text": [
      "Train on 114 samples, validate on 21 samples\n",
      "Epoch 1/80\n",
      "114/114 [==============================] - 2s 16ms/sample - loss: 1.0972 - accuracy: 0.4825 - val_loss: 1.1111 - val_accuracy: 0.5714\n",
      "Epoch 2/80\n",
      "114/114 [==============================] - 0s 884us/sample - loss: 1.0386 - accuracy: 0.6842 - val_loss: 1.0543 - val_accuracy: 0.5714\n",
      "Epoch 3/80\n",
      "114/114 [==============================] - 0s 958us/sample - loss: 0.9924 - accuracy: 0.6842 - val_loss: 0.9996 - val_accuracy: 0.5714\n",
      "Epoch 4/80\n",
      "114/114 [==============================] - 0s 850us/sample - loss: 0.9498 - accuracy: 0.7018 - val_loss: 0.9588 - val_accuracy: 0.6667\n",
      "Epoch 5/80\n",
      "114/114 [==============================] - 0s 896us/sample - loss: 0.9189 - accuracy: 0.7632 - val_loss: 0.9271 - val_accuracy: 0.7619\n",
      "Epoch 6/80\n",
      "114/114 [==============================] - 0s 877us/sample - loss: 0.8902 - accuracy: 0.8772 - val_loss: 0.8979 - val_accuracy: 0.8095\n",
      "Epoch 7/80\n",
      "114/114 [==============================] - 0s 881us/sample - loss: 0.8589 - accuracy: 0.9474 - val_loss: 0.8708 - val_accuracy: 0.8095\n",
      "Epoch 8/80\n",
      "114/114 [==============================] - 0s 891us/sample - loss: 0.8314 - accuracy: 0.8947 - val_loss: 0.8436 - val_accuracy: 0.8095\n",
      "Epoch 9/80\n",
      "114/114 [==============================] - 0s 908us/sample - loss: 0.8008 - accuracy: 0.9211 - val_loss: 0.8118 - val_accuracy: 0.9048\n",
      "Epoch 10/80\n",
      "114/114 [==============================] - 0s 890us/sample - loss: 0.7698 - accuracy: 0.9561 - val_loss: 0.7803 - val_accuracy: 0.9048\n",
      "Epoch 11/80\n",
      "114/114 [==============================] - 0s 901us/sample - loss: 0.7360 - accuracy: 0.9825 - val_loss: 0.7519 - val_accuracy: 0.9048\n",
      "Epoch 12/80\n",
      "114/114 [==============================] - 0s 868us/sample - loss: 0.7032 - accuracy: 0.9825 - val_loss: 0.7250 - val_accuracy: 0.9048\n",
      "Epoch 13/80\n",
      "114/114 [==============================] - 0s 871us/sample - loss: 0.6685 - accuracy: 0.9561 - val_loss: 0.6927 - val_accuracy: 0.9048\n",
      "Epoch 14/80\n",
      "114/114 [==============================] - 0s 895us/sample - loss: 0.6321 - accuracy: 0.9561 - val_loss: 0.6635 - val_accuracy: 0.9048\n",
      "Epoch 15/80\n",
      "114/114 [==============================] - 0s 900us/sample - loss: 0.5960 - accuracy: 0.9649 - val_loss: 0.6331 - val_accuracy: 0.9048\n",
      "Epoch 16/80\n",
      "114/114 [==============================] - 0s 884us/sample - loss: 0.5611 - accuracy: 0.9649 - val_loss: 0.6022 - val_accuracy: 0.9048\n",
      "Epoch 17/80\n",
      "114/114 [==============================] - 0s 2ms/sample - loss: 0.5272 - accuracy: 0.9649 - val_loss: 0.5748 - val_accuracy: 0.9048\n",
      "Epoch 18/80\n",
      "114/114 [==============================] - 0s 887us/sample - loss: 0.4956 - accuracy: 0.9561 - val_loss: 0.5481 - val_accuracy: 0.9048\n",
      "Epoch 19/80\n",
      "114/114 [==============================] - 0s 894us/sample - loss: 0.4652 - accuracy: 0.9649 - val_loss: 0.5225 - val_accuracy: 0.9048\n",
      "Epoch 20/80\n",
      "114/114 [==============================] - 0s 891us/sample - loss: 0.4366 - accuracy: 0.9649 - val_loss: 0.4956 - val_accuracy: 0.9048\n",
      "Epoch 21/80\n",
      "114/114 [==============================] - 0s 869us/sample - loss: 0.4113 - accuracy: 0.9737 - val_loss: 0.4703 - val_accuracy: 0.9048\n",
      "Epoch 22/80\n",
      "114/114 [==============================] - 0s 870us/sample - loss: 0.3842 - accuracy: 0.9737 - val_loss: 0.4464 - val_accuracy: 0.9048\n",
      "Epoch 23/80\n",
      "114/114 [==============================] - 0s 898us/sample - loss: 0.3619 - accuracy: 0.9649 - val_loss: 0.4243 - val_accuracy: 0.9048\n",
      "Epoch 24/80\n",
      "114/114 [==============================] - 0s 885us/sample - loss: 0.3404 - accuracy: 0.9649 - val_loss: 0.4053 - val_accuracy: 0.9048\n",
      "Epoch 25/80\n",
      "114/114 [==============================] - 0s 878us/sample - loss: 0.3214 - accuracy: 0.9825 - val_loss: 0.3877 - val_accuracy: 0.9048\n",
      "Epoch 26/80\n",
      "114/114 [==============================] - 0s 882us/sample - loss: 0.3038 - accuracy: 0.9825 - val_loss: 0.3702 - val_accuracy: 0.9048\n",
      "Epoch 27/80\n",
      "114/114 [==============================] - 0s 857us/sample - loss: 0.2857 - accuracy: 0.9825 - val_loss: 0.3535 - val_accuracy: 0.9048\n",
      "Epoch 28/80\n",
      "114/114 [==============================] - 0s 904us/sample - loss: 0.2759 - accuracy: 0.9649 - val_loss: 0.3391 - val_accuracy: 0.9048\n",
      "Epoch 29/80\n",
      "114/114 [==============================] - 0s 881us/sample - loss: 0.2557 - accuracy: 0.9737 - val_loss: 0.3237 - val_accuracy: 0.9524\n",
      "Epoch 30/80\n",
      "114/114 [==============================] - 0s 871us/sample - loss: 0.2422 - accuracy: 0.9737 - val_loss: 0.3088 - val_accuracy: 0.9048\n",
      "Epoch 31/80\n",
      "114/114 [==============================] - 0s 900us/sample - loss: 0.2280 - accuracy: 0.9825 - val_loss: 0.3020 - val_accuracy: 0.9048\n",
      "Epoch 32/80\n",
      "114/114 [==============================] - 0s 881us/sample - loss: 0.2147 - accuracy: 0.9737 - val_loss: 0.2850 - val_accuracy: 0.9048\n",
      "Epoch 33/80\n",
      "114/114 [==============================] - 0s 870us/sample - loss: 0.2047 - accuracy: 0.9825 - val_loss: 0.2743 - val_accuracy: 0.9048\n",
      "Epoch 34/80\n",
      "114/114 [==============================] - 0s 1ms/sample - loss: 0.1908 - accuracy: 0.9825 - val_loss: 0.2780 - val_accuracy: 0.9048\n",
      "Epoch 35/80\n",
      "114/114 [==============================] - 0s 696us/sample - loss: 0.1825 - accuracy: 0.9649 - val_loss: 0.2604 - val_accuracy: 0.9048\n",
      "Epoch 36/80\n",
      "114/114 [==============================] - 0s 875us/sample - loss: 0.1785 - accuracy: 0.9649 - val_loss: 0.2480 - val_accuracy: 0.9524\n",
      "Epoch 37/80\n",
      "114/114 [==============================] - 0s 884us/sample - loss: 0.1657 - accuracy: 0.9825 - val_loss: 0.2514 - val_accuracy: 0.9048\n",
      "Epoch 38/80\n",
      "114/114 [==============================] - 0s 877us/sample - loss: 0.1558 - accuracy: 0.9825 - val_loss: 0.2362 - val_accuracy: 0.9048\n",
      "Epoch 39/80\n",
      "114/114 [==============================] - 0s 917us/sample - loss: 0.1472 - accuracy: 0.9825 - val_loss: 0.2347 - val_accuracy: 0.9048\n",
      "Epoch 40/80\n",
      "114/114 [==============================] - 0s 2ms/sample - loss: 0.1405 - accuracy: 0.9825 - val_loss: 0.2294 - val_accuracy: 0.9048\n",
      "Epoch 41/80\n",
      "114/114 [==============================] - 0s 136us/sample - loss: 0.1345 - accuracy: 0.9825 - val_loss: 0.2298 - val_accuracy: 0.9048\n",
      "Epoch 42/80\n",
      "114/114 [==============================] - 0s 828us/sample - loss: 0.1282 - accuracy: 0.9825 - val_loss: 0.2176 - val_accuracy: 0.9524\n",
      "Epoch 43/80\n",
      "114/114 [==============================] - 0s 887us/sample - loss: 0.1296 - accuracy: 0.9649 - val_loss: 0.2166 - val_accuracy: 0.9048\n",
      "Epoch 44/80\n",
      "114/114 [==============================] - 0s 894us/sample - loss: 0.1235 - accuracy: 0.9825 - val_loss: 0.2422 - val_accuracy: 0.9048\n",
      "Epoch 45/80\n",
      "114/114 [==============================] - 0s 902us/sample - loss: 0.1180 - accuracy: 0.9825 - val_loss: 0.2053 - val_accuracy: 0.9524\n",
      "Epoch 46/80\n",
      "114/114 [==============================] - 0s 881us/sample - loss: 0.1122 - accuracy: 0.9825 - val_loss: 0.2103 - val_accuracy: 0.9048\n",
      "Epoch 47/80\n",
      "114/114 [==============================] - 0s 901us/sample - loss: 0.1090 - accuracy: 0.9825 - val_loss: 0.2330 - val_accuracy: 0.9048\n",
      "Epoch 48/80\n",
      "114/114 [==============================] - 0s 836us/sample - loss: 0.1030 - accuracy: 0.9825 - val_loss: 0.2054 - val_accuracy: 0.9524\n",
      "Epoch 49/80\n",
      "114/114 [==============================] - 0s 869us/sample - loss: 0.0996 - accuracy: 0.9825 - val_loss: 0.2059 - val_accuracy: 0.9524\n",
      "Epoch 50/80\n",
      "114/114 [==============================] - 0s 906us/sample - loss: 0.0957 - accuracy: 0.9825 - val_loss: 0.2140 - val_accuracy: 0.9048\n",
      "Epoch 51/80\n",
      "114/114 [==============================] - 0s 866us/sample - loss: 0.0969 - accuracy: 0.9825 - val_loss: 0.2184 - val_accuracy: 0.9048\n",
      "Epoch 52/80\n",
      "114/114 [==============================] - 0s 869us/sample - loss: 0.0965 - accuracy: 0.9825 - val_loss: 0.2066 - val_accuracy: 0.9524\n",
      "Epoch 53/80\n",
      "114/114 [==============================] - 0s 876us/sample - loss: 0.0871 - accuracy: 0.9825 - val_loss: 0.2338 - val_accuracy: 0.9048\n",
      "Epoch 54/80\n",
      "114/114 [==============================] - 0s 873us/sample - loss: 0.0875 - accuracy: 0.9825 - val_loss: 0.2187 - val_accuracy: 0.9048\n",
      "Epoch 55/80\n",
      "114/114 [==============================] - 0s 873us/sample - loss: 0.0840 - accuracy: 0.9825 - val_loss: 0.2072 - val_accuracy: 0.9524\n",
      "Epoch 56/80\n",
      "114/114 [==============================] - 0s 865us/sample - loss: 0.0820 - accuracy: 0.9825 - val_loss: 0.2168 - val_accuracy: 0.9048\n",
      "Epoch 57/80\n",
      "114/114 [==============================] - 0s 899us/sample - loss: 0.0811 - accuracy: 0.9825 - val_loss: 0.2265 - val_accuracy: 0.9048\n",
      "Epoch 58/80\n",
      "114/114 [==============================] - 0s 871us/sample - loss: 0.0768 - accuracy: 0.9825 - val_loss: 0.2057 - val_accuracy: 0.9524\n",
      "Epoch 59/80\n",
      "114/114 [==============================] - 0s 876us/sample - loss: 0.0877 - accuracy: 0.9649 - val_loss: 0.2066 - val_accuracy: 0.9524\n",
      "Epoch 60/80\n",
      "114/114 [==============================] - 0s 873us/sample - loss: 0.0750 - accuracy: 0.9825 - val_loss: 0.2671 - val_accuracy: 0.9048\n",
      "Epoch 61/80\n",
      "114/114 [==============================] - 0s 870us/sample - loss: 0.0850 - accuracy: 0.9737 - val_loss: 0.2200 - val_accuracy: 0.9048\n",
      "Epoch 62/80\n",
      "114/114 [==============================] - 0s 875us/sample - loss: 0.0815 - accuracy: 0.9649 - val_loss: 0.1964 - val_accuracy: 0.9524\n",
      "Epoch 63/80\n",
      "114/114 [==============================] - 0s 872us/sample - loss: 0.0698 - accuracy: 0.9912 - val_loss: 0.2388 - val_accuracy: 0.9048\n",
      "Epoch 64/80\n",
      "114/114 [==============================] - 0s 896us/sample - loss: 0.0693 - accuracy: 0.9825 - val_loss: 0.2600 - val_accuracy: 0.9048\n",
      "Epoch 65/80\n",
      "114/114 [==============================] - 0s 884us/sample - loss: 0.0722 - accuracy: 0.9825 - val_loss: 0.2210 - val_accuracy: 0.9048\n",
      "Epoch 66/80\n",
      "114/114 [==============================] - 0s 2ms/sample - loss: 0.0730 - accuracy: 0.9737 - val_loss: 0.2102 - val_accuracy: 0.9524\n",
      "Epoch 67/80\n",
      "114/114 [==============================] - 0s 870us/sample - loss: 0.0665 - accuracy: 0.9825 - val_loss: 0.2601 - val_accuracy: 0.9048\n",
      "Epoch 68/80\n",
      "114/114 [==============================] - 0s 864us/sample - loss: 0.0694 - accuracy: 0.9825 - val_loss: 0.2315 - val_accuracy: 0.9048\n",
      "Epoch 69/80\n",
      "114/114 [==============================] - 0s 901us/sample - loss: 0.0685 - accuracy: 0.9912 - val_loss: 0.2086 - val_accuracy: 0.9524\n",
      "Epoch 70/80\n",
      "114/114 [==============================] - 0s 876us/sample - loss: 0.0634 - accuracy: 0.9912 - val_loss: 0.2525 - val_accuracy: 0.9048\n",
      "Epoch 71/80\n",
      "114/114 [==============================] - 0s 884us/sample - loss: 0.0650 - accuracy: 0.9825 - val_loss: 0.2504 - val_accuracy: 0.9048\n",
      "Epoch 72/80\n",
      "114/114 [==============================] - 0s 872us/sample - loss: 0.0602 - accuracy: 0.9825 - val_loss: 0.2130 - val_accuracy: 0.9524\n",
      "Epoch 73/80\n",
      "114/114 [==============================] - 0s 873us/sample - loss: 0.0652 - accuracy: 0.9912 - val_loss: 0.2254 - val_accuracy: 0.9524\n",
      "Epoch 74/80\n",
      "114/114 [==============================] - 0s 873us/sample - loss: 0.0628 - accuracy: 0.9825 - val_loss: 0.2713 - val_accuracy: 0.9048\n",
      "Epoch 75/80\n",
      "114/114 [==============================] - 0s 853us/sample - loss: 0.0671 - accuracy: 0.9825 - val_loss: 0.2157 - val_accuracy: 0.9524\n",
      "Epoch 76/80\n",
      "114/114 [==============================] - 0s 895us/sample - loss: 0.0589 - accuracy: 0.9825 - val_loss: 0.2345 - val_accuracy: 0.9048\n",
      "Epoch 77/80\n",
      "114/114 [==============================] - 0s 877us/sample - loss: 0.0557 - accuracy: 0.9825 - val_loss: 0.2506 - val_accuracy: 0.9048\n",
      "Epoch 78/80\n",
      "114/114 [==============================] - 0s 900us/sample - loss: 0.0591 - accuracy: 0.9825 - val_loss: 0.2423 - val_accuracy: 0.9048\n",
      "Epoch 79/80\n",
      "114/114 [==============================] - 0s 869us/sample - loss: 0.0540 - accuracy: 0.9825 - val_loss: 0.2257 - val_accuracy: 0.9524\n",
      "Epoch 80/80\n",
      "114/114 [==============================] - 0s 874us/sample - loss: 0.0613 - accuracy: 0.9649 - val_loss: 0.2357 - val_accuracy: 0.9524\n"
     ]
    }
   ],
   "source": [
    "# Run your function to train the model\n",
    "\n",
    "history = train_model(model, train_data, train_targets, epochs=80)"
   ]
  },
  {
   "cell_type": "markdown",
   "metadata": {},
   "source": [
    "#### Plot the learning curves\n",
    "\n",
    "We will now plot two graphs:\n",
    "* Epoch vs accuracy\n",
    "* Epoch vs loss\n"
   ]
  },
  {
   "cell_type": "code",
   "execution_count": 11,
   "metadata": {},
   "outputs": [
    {
     "data": {
      "image/png": "[encoded data removed]",
      "text/plain": [
       "<Figure size 432x288 with 1 Axes>"
      ]
     },
     "metadata": {
      "needs_background": "light"
     },
     "output_type": "display_data"
    }
   ],
   "source": [
    "# Run this cell to plot the epoch vs accuracy graph\n",
    "\n",
    "try:\n",
    "    plt.plot(history.history['accuracy'])\n",
    "    plt.plot(history.history['val_accuracy'])\n",
    "except KeyError:\n",
    "    plt.plot(history.history['acc'])\n",
    "    plt.plot(history.history['val_acc'])\n",
    "plt.title('Accuracy vs. epochs')\n",
    "plt.ylabel('Loss')\n",
    "plt.xlabel('Epoch')\n",
    "plt.legend(['Training', 'Validation'], loc='lower right')\n",
    "plt.show() "
   ]
  },
  {
   "cell_type": "code",
   "execution_count": 12,
   "metadata": {},
   "outputs": [
    {
     "data": {
      "image/png": "[encoded data removed]",
      "text/plain": [
       "<Figure size 432x288 with 1 Axes>"
      ]
     },
     "metadata": {
      "needs_background": "light"
     },
     "output_type": "display_data"
    }
   ],
   "source": [
    "#Run this cell to plot the epoch vs loss graph\n",
    "plt.plot(history.history['loss'])\n",
    "plt.plot(history.history['val_loss'])\n",
    "plt.title('Loss vs. epochs')\n",
    "plt.ylabel('Loss')\n",
    "plt.xlabel('Epoch')\n",
    "plt.legend(['Training', 'Validation'], loc='upper right')\n",
    "plt.show() "
   ]
  },
  {
   "cell_type": "markdown",
   "metadata": {},
   "source": [
    "Oh no! We have overfit our dataset. You should now try to now try to mitigate this overfitting."
   ]
  },
  {
   "cell_type": "markdown",
   "metadata": {},
   "source": [
    "#### Reducing overfitting in the model"
   ]
  },
  {
   "cell_type": "markdown",
   "metadata": {},
   "source": [
    "You should now define a new regularised model.\n",
    "The specs for the regularised model are the same as our original model, with the addition of two dropout layers, weight decay, and a batch normalisation layer. \n",
    "\n",
    "In particular:\n",
    "\n",
    "* Add a dropout layer after the 3rd Dense layer\n",
    "* Then there should be two more Dense layers with 128 units before a batch normalisation layer\n",
    "* Following this, two more Dense layers with 64 units and then another Dropout layer\n",
    "* Two more Dense layers with 64 units and then the final 3-way softmax layer\n",
    "* Add weight decay (l2 kernel regularisation) in all Dense layers except the final softmax layer"
   ]
  },
  {
   "cell_type": "code",
   "execution_count": 13,
   "metadata": {},
   "outputs": [],
   "source": [
    "#### GRADED CELL ####\n",
    "\n",
    "# Complete the following function. \n",
    "# Make sure to not change the function name or arguments.\n",
    "\n",
    "def get_regularised_model(input_shape, dropout_rate, weight_decay):\n",
    "    \"\"\"\n",
    "    This function should build a regularised Sequential model according to the above specification. \n",
    "    The dropout_rate argument in the function should be used to set the Dropout rate for all Dropout layers.\n",
    "    L2 kernel regularisation (weight decay) should be added using the weight_decay argument to \n",
    "    set the weight decay coefficient in all Dense layers that use L2 regularisation.\n",
    "    Ensure the weights are initialised by providing the input_shape argument in the first layer, given by the\n",
    "    function argument input_shape.\n",
    "    Your function should return the model.\n",
    "    \"\"\"\n",
    "    \n",
    "    model = Sequential([\n",
    "        Dense(64, activation=\"relu\", input_shape=input_shape,\n",
    "              kernel_initializer=initializers.he_uniform(),\n",
    "              bias_initializer=initializers.Constant(1),\n",
    "              kernel_regularizer=regularizers.l2(weight_decay)),\n",
    "        Dense(128, activation=\"relu\", kernel_regularizer=regularizers.l2(weight_decay)),\n",
    "        Dense(128, activation=\"relu\", kernel_regularizer=regularizers.l2(weight_decay)),\n",
    "        Dropout(dropout_rate),\n",
    "        Dense(128, activation=\"relu\", kernel_regularizer=regularizers.l2(weight_decay)),\n",
    "        Dense(128, activation=\"relu\", kernel_regularizer=regularizers.l2(weight_decay)),\n",
    "        BatchNormalization(),\n",
    "        Dense(64, activation=\"relu\", kernel_regularizer=regularizers.l2(weight_decay)),\n",
    "        Dense(64, activation=\"relu\", kernel_regularizer=regularizers.l2(weight_decay)),\n",
    "        Dropout(dropout_rate),\n",
    "        Dense(64, activation=\"relu\", kernel_regularizer=regularizers.l2(weight_decay)),\n",
    "        Dense(64, activation=\"relu\", kernel_regularizer=regularizers.l2(weight_decay)),\n",
    "        Dense(3, activation=\"softmax\")\n",
    "    ])\n",
    "    \n",
    "    return model"
   ]
  },
  {
   "cell_type": "markdown",
   "metadata": {},
   "source": [
    "#### Instantiate, compile and train the model"
   ]
  },
  {
   "cell_type": "code",
   "execution_count": 14,
   "metadata": {},
   "outputs": [],
   "source": [
    "# Instantiate the model, using a dropout rate of 0.3 and weight decay coefficient of 0.001\n",
    "\n",
    "reg_model = get_regularised_model(train_data[0].shape, 0.3, 0.001)"
   ]
  },
  {
   "cell_type": "code",
   "execution_count": 15,
   "metadata": {},
   "outputs": [],
   "source": [
    "# Compile the model\n",
    "\n",
    "compile_model(reg_model)"
   ]
  },
  {
   "cell_type": "code",
   "execution_count": 16,
   "metadata": {},
   "outputs": [
    {
     "name": "stdout",
     "output_type": "stream",
     "text": [
      "Train on 114 samples, validate on 21 samples\n",
      "Epoch 1/80\n",
      "114/114 [==============================] - 2s 22ms/sample - loss: 2.0544 - accuracy: 0.3070 - val_loss: 1.9681 - val_accuracy: 0.4286\n",
      "Epoch 2/80\n",
      "114/114 [==============================] - 0s 821us/sample - loss: 2.0316 - accuracy: 0.2982 - val_loss: 1.9663 - val_accuracy: 0.4286\n",
      "Epoch 3/80\n",
      "114/114 [==============================] - 0s 902us/sample - loss: 2.0119 - accuracy: 0.3509 - val_loss: 1.9618 - val_accuracy: 0.4286\n",
      "Epoch 4/80\n",
      "114/114 [==============================] - 0s 2ms/sample - loss: 2.0198 - accuracy: 0.3333 - val_loss: 1.9568 - val_accuracy: 0.4286\n",
      "Epoch 5/80\n",
      "114/114 [==============================] - 0s 870us/sample - loss: 1.9905 - accuracy: 0.3333 - val_loss: 1.9530 - val_accuracy: 0.4286\n",
      "Epoch 6/80\n",
      "114/114 [==============================] - 0s 921us/sample - loss: 1.9724 - accuracy: 0.3333 - val_loss: 1.9499 - val_accuracy: 0.4286\n",
      "Epoch 7/80\n",
      "114/114 [==============================] - 0s 883us/sample - loss: 1.9384 - accuracy: 0.3947 - val_loss: 1.9469 - val_accuracy: 0.4286\n",
      "Epoch 8/80\n",
      "114/114 [==============================] - 0s 946us/sample - loss: 1.9612 - accuracy: 0.3684 - val_loss: 1.9440 - val_accuracy: 0.4286\n",
      "Epoch 9/80\n",
      "114/114 [==============================] - 0s 888us/sample - loss: 1.9231 - accuracy: 0.4298 - val_loss: 1.9394 - val_accuracy: 0.4286\n",
      "Epoch 10/80\n",
      "114/114 [==============================] - 0s 901us/sample - loss: 1.9299 - accuracy: 0.3860 - val_loss: 1.9313 - val_accuracy: 0.4286\n",
      "Epoch 11/80\n",
      "114/114 [==============================] - 0s 890us/sample - loss: 1.9361 - accuracy: 0.4211 - val_loss: 1.9220 - val_accuracy: 0.4762\n",
      "Epoch 12/80\n",
      "114/114 [==============================] - 0s 2ms/sample - loss: 1.9451 - accuracy: 0.3421 - val_loss: 1.9112 - val_accuracy: 0.5714\n",
      "Epoch 13/80\n",
      "114/114 [==============================] - 0s 894us/sample - loss: 1.8934 - accuracy: 0.4737 - val_loss: 1.9004 - val_accuracy: 0.5714\n",
      "Epoch 14/80\n",
      "114/114 [==============================] - 0s 883us/sample - loss: 1.9107 - accuracy: 0.4474 - val_loss: 1.8866 - val_accuracy: 0.5714\n",
      "Epoch 15/80\n",
      "114/114 [==============================] - 0s 909us/sample - loss: 1.8762 - accuracy: 0.5351 - val_loss: 1.8748 - val_accuracy: 0.6190\n",
      "Epoch 16/80\n",
      "114/114 [==============================] - 0s 2ms/sample - loss: 1.8784 - accuracy: 0.4737 - val_loss: 1.8637 - val_accuracy: 0.6190\n",
      "Epoch 17/80\n",
      "114/114 [==============================] - 0s 950us/sample - loss: 1.8680 - accuracy: 0.5702 - val_loss: 1.8535 - val_accuracy: 0.6190\n",
      "Epoch 18/80\n",
      "114/114 [==============================] - 0s 895us/sample - loss: 1.8845 - accuracy: 0.5175 - val_loss: 1.8411 - val_accuracy: 0.6190\n",
      "Epoch 19/80\n",
      "114/114 [==============================] - 0s 891us/sample - loss: 1.8302 - accuracy: 0.5965 - val_loss: 1.8290 - val_accuracy: 0.6190\n",
      "Epoch 20/80\n",
      "114/114 [==============================] - 0s 883us/sample - loss: 1.8596 - accuracy: 0.5263 - val_loss: 1.8173 - val_accuracy: 0.6190\n",
      "Epoch 21/80\n",
      "114/114 [==============================] - 0s 2ms/sample - loss: 1.8182 - accuracy: 0.5702 - val_loss: 1.8047 - val_accuracy: 0.6190\n",
      "Epoch 22/80\n",
      "114/114 [==============================] - 0s 927us/sample - loss: 1.8290 - accuracy: 0.6053 - val_loss: 1.7914 - val_accuracy: 0.6190\n",
      "Epoch 23/80\n",
      "114/114 [==============================] - 0s 887us/sample - loss: 1.7882 - accuracy: 0.6579 - val_loss: 1.7769 - val_accuracy: 0.6190\n",
      "Epoch 24/80\n",
      "114/114 [==============================] - 0s 2ms/sample - loss: 1.7812 - accuracy: 0.6228 - val_loss: 1.7643 - val_accuracy: 0.6190\n",
      "Epoch 25/80\n",
      "114/114 [==============================] - 0s 868us/sample - loss: 1.7893 - accuracy: 0.6491 - val_loss: 1.7500 - val_accuracy: 0.6190\n",
      "Epoch 26/80\n",
      "114/114 [==============================] - 0s 922us/sample - loss: 1.7701 - accuracy: 0.6316 - val_loss: 1.7343 - val_accuracy: 0.6190\n",
      "Epoch 27/80\n",
      "114/114 [==============================] - 0s 881us/sample - loss: 1.7459 - accuracy: 0.6842 - val_loss: 1.7192 - val_accuracy: 0.6190\n",
      "Epoch 28/80\n",
      "114/114 [==============================] - 0s 2ms/sample - loss: 1.7359 - accuracy: 0.6228 - val_loss: 1.7044 - val_accuracy: 0.6190\n",
      "Epoch 29/80\n",
      "114/114 [==============================] - 0s 909us/sample - loss: 1.7212 - accuracy: 0.6842 - val_loss: 1.6893 - val_accuracy: 0.6190\n",
      "Epoch 30/80\n",
      "114/114 [==============================] - 0s 905us/sample - loss: 1.7039 - accuracy: 0.6754 - val_loss: 1.6739 - val_accuracy: 0.6190\n",
      "Epoch 31/80\n",
      "114/114 [==============================] - 0s 958us/sample - loss: 1.6916 - accuracy: 0.6842 - val_loss: 1.6588 - val_accuracy: 0.6190\n",
      "Epoch 32/80\n",
      "114/114 [==============================] - 0s 881us/sample - loss: 1.6745 - accuracy: 0.6404 - val_loss: 1.6456 - val_accuracy: 0.6190\n",
      "Epoch 33/80\n",
      "114/114 [==============================] - 0s 908us/sample - loss: 1.6012 - accuracy: 0.7281 - val_loss: 1.6342 - val_accuracy: 0.6190\n",
      "Epoch 34/80\n",
      "114/114 [==============================] - 0s 873us/sample - loss: 1.5946 - accuracy: 0.7018 - val_loss: 1.6210 - val_accuracy: 0.6190\n",
      "Epoch 35/80\n",
      "114/114 [==============================] - 0s 2ms/sample - loss: 1.6129 - accuracy: 0.6404 - val_loss: 1.6100 - val_accuracy: 0.6190\n",
      "Epoch 36/80\n",
      "114/114 [==============================] - 0s 904us/sample - loss: 1.5909 - accuracy: 0.6754 - val_loss: 1.5977 - val_accuracy: 0.6190\n",
      "Epoch 37/80\n",
      "114/114 [==============================] - 0s 933us/sample - loss: 1.5602 - accuracy: 0.6754 - val_loss: 1.5854 - val_accuracy: 0.6190\n",
      "Epoch 38/80\n",
      "114/114 [==============================] - 0s 895us/sample - loss: 1.5562 - accuracy: 0.6754 - val_loss: 1.5725 - val_accuracy: 0.6190\n",
      "Epoch 39/80\n",
      "114/114 [==============================] - 0s 868us/sample - loss: 1.4957 - accuracy: 0.7193 - val_loss: 1.5608 - val_accuracy: 0.6190\n",
      "Epoch 40/80\n",
      "114/114 [==============================] - 0s 887us/sample - loss: 1.5196 - accuracy: 0.7105 - val_loss: 1.5473 - val_accuracy: 0.6190\n",
      "Epoch 41/80\n",
      "114/114 [==============================] - 0s 907us/sample - loss: 1.4757 - accuracy: 0.7719 - val_loss: 1.5302 - val_accuracy: 0.6190\n",
      "Epoch 42/80\n",
      "114/114 [==============================] - 0s 937us/sample - loss: 1.4617 - accuracy: 0.7281 - val_loss: 1.5137 - val_accuracy: 0.6190\n",
      "Epoch 43/80\n",
      "114/114 [==============================] - 0s 877us/sample - loss: 1.4833 - accuracy: 0.6754 - val_loss: 1.4984 - val_accuracy: 0.6190\n",
      "Epoch 44/80\n",
      "114/114 [==============================] - 0s 889us/sample - loss: 1.4682 - accuracy: 0.6667 - val_loss: 1.4814 - val_accuracy: 0.6190\n",
      "Epoch 45/80\n",
      "114/114 [==============================] - 0s 939us/sample - loss: 1.4802 - accuracy: 0.6930 - val_loss: 1.4683 - val_accuracy: 0.6190\n",
      "Epoch 46/80\n",
      "114/114 [==============================] - 0s 896us/sample - loss: 1.4442 - accuracy: 0.7105 - val_loss: 1.4571 - val_accuracy: 0.6190\n",
      "Epoch 47/80\n",
      "114/114 [==============================] - 0s 873us/sample - loss: 1.4164 - accuracy: 0.7544 - val_loss: 1.4451 - val_accuracy: 0.6190\n",
      "Epoch 48/80\n",
      "114/114 [==============================] - 0s 1ms/sample - loss: 1.3667 - accuracy: 0.7632 - val_loss: 1.4354 - val_accuracy: 0.6190\n",
      "Epoch 49/80\n",
      "114/114 [==============================] - 0s 666us/sample - loss: 1.3552 - accuracy: 0.7807 - val_loss: 1.4257 - val_accuracy: 0.6190\n",
      "Epoch 50/80\n",
      "114/114 [==============================] - 0s 2ms/sample - loss: 1.4004 - accuracy: 0.7368 - val_loss: 1.4168 - val_accuracy: 0.6190\n",
      "Epoch 51/80\n",
      "114/114 [==============================] - 0s 901us/sample - loss: 1.3656 - accuracy: 0.7719 - val_loss: 1.4100 - val_accuracy: 0.6190\n",
      "Epoch 52/80\n",
      "114/114 [==============================] - 0s 862us/sample - loss: 1.3910 - accuracy: 0.6930 - val_loss: 1.4013 - val_accuracy: 0.6190\n",
      "Epoch 53/80\n",
      "114/114 [==============================] - 0s 972us/sample - loss: 1.3241 - accuracy: 0.7456 - val_loss: 1.3933 - val_accuracy: 0.6190\n",
      "Epoch 54/80\n",
      "114/114 [==============================] - 0s 862us/sample - loss: 1.3200 - accuracy: 0.7632 - val_loss: 1.3836 - val_accuracy: 0.6190\n",
      "Epoch 55/80\n",
      "114/114 [==============================] - 0s 872us/sample - loss: 1.3126 - accuracy: 0.7456 - val_loss: 1.3713 - val_accuracy: 0.6190\n",
      "Epoch 56/80\n",
      "114/114 [==============================] - 0s 948us/sample - loss: 1.3258 - accuracy: 0.7895 - val_loss: 1.3555 - val_accuracy: 0.6190\n",
      "Epoch 57/80\n",
      "114/114 [==============================] - 0s 901us/sample - loss: 1.3076 - accuracy: 0.7895 - val_loss: 1.3451 - val_accuracy: 0.6190\n",
      "Epoch 58/80\n",
      "114/114 [==============================] - 0s 894us/sample - loss: 1.2932 - accuracy: 0.7456 - val_loss: 1.3369 - val_accuracy: 0.6190\n",
      "Epoch 59/80\n",
      "114/114 [==============================] - 0s 878us/sample - loss: 1.2904 - accuracy: 0.7632 - val_loss: 1.3313 - val_accuracy: 0.6667\n",
      "Epoch 60/80\n",
      "114/114 [==============================] - 0s 895us/sample - loss: 1.2980 - accuracy: 0.7368 - val_loss: 1.3255 - val_accuracy: 0.6667\n",
      "Epoch 61/80\n",
      "114/114 [==============================] - 0s 911us/sample - loss: 1.2821 - accuracy: 0.7807 - val_loss: 1.3151 - val_accuracy: 0.6667\n",
      "Epoch 62/80\n",
      "114/114 [==============================] - 0s 926us/sample - loss: 1.2494 - accuracy: 0.7895 - val_loss: 1.3011 - val_accuracy: 0.7143\n",
      "Epoch 63/80\n",
      "114/114 [==============================] - 0s 892us/sample - loss: 1.2968 - accuracy: 0.7281 - val_loss: 1.2899 - val_accuracy: 0.7143\n",
      "Epoch 64/80\n",
      "114/114 [==============================] - 0s 2ms/sample - loss: 1.2509 - accuracy: 0.7807 - val_loss: 1.2788 - val_accuracy: 0.7143\n",
      "Epoch 65/80\n",
      "114/114 [==============================] - 0s 947us/sample - loss: 1.2474 - accuracy: 0.7895 - val_loss: 1.2665 - val_accuracy: 0.7143\n",
      "Epoch 66/80\n",
      "114/114 [==============================] - 0s 834us/sample - loss: 1.2344 - accuracy: 0.8158 - val_loss: 1.2578 - val_accuracy: 0.7619\n",
      "Epoch 67/80\n",
      "114/114 [==============================] - 0s 935us/sample - loss: 1.2166 - accuracy: 0.8158 - val_loss: 1.2465 - val_accuracy: 0.7619\n",
      "Epoch 68/80\n",
      "114/114 [==============================] - 0s 895us/sample - loss: 1.2148 - accuracy: 0.8070 - val_loss: 1.2336 - val_accuracy: 0.7619\n",
      "Epoch 69/80\n",
      "114/114 [==============================] - 0s 2ms/sample - loss: 1.2180 - accuracy: 0.8158 - val_loss: 1.2209 - val_accuracy: 0.7619\n",
      "Epoch 70/80\n",
      "114/114 [==============================] - 0s 879us/sample - loss: 1.1906 - accuracy: 0.8596 - val_loss: 1.2091 - val_accuracy: 0.7619\n",
      "Epoch 71/80\n",
      "114/114 [==============================] - 0s 878us/sample - loss: 1.1942 - accuracy: 0.8684 - val_loss: 1.2000 - val_accuracy: 0.7619\n",
      "Epoch 72/80\n",
      "114/114 [==============================] - 0s 2ms/sample - loss: 1.2196 - accuracy: 0.8421 - val_loss: 1.1900 - val_accuracy: 0.7619\n",
      "Epoch 73/80\n",
      "114/114 [==============================] - 0s 894us/sample - loss: 1.1903 - accuracy: 0.8509 - val_loss: 1.1779 - val_accuracy: 0.8095\n",
      "Epoch 74/80\n",
      "114/114 [==============================] - 0s 900us/sample - loss: 1.2176 - accuracy: 0.8158 - val_loss: 1.1678 - val_accuracy: 0.8571\n",
      "Epoch 75/80\n",
      "114/114 [==============================] - 0s 892us/sample - loss: 1.2341 - accuracy: 0.7807 - val_loss: 1.1590 - val_accuracy: 0.8571\n",
      "Epoch 76/80\n",
      "114/114 [==============================] - 0s 2ms/sample - loss: 1.1884 - accuracy: 0.8596 - val_loss: 1.1540 - val_accuracy: 0.8571\n",
      "Epoch 77/80\n",
      "114/114 [==============================] - 0s 900us/sample - loss: 1.1760 - accuracy: 0.8158 - val_loss: 1.1448 - val_accuracy: 0.8571\n",
      "Epoch 78/80\n",
      "114/114 [==============================] - 0s 914us/sample - loss: 1.1725 - accuracy: 0.8246 - val_loss: 1.1323 - val_accuracy: 0.9048\n",
      "Epoch 79/80\n",
      "114/114 [==============================] - 0s 899us/sample - loss: 1.1796 - accuracy: 0.7982 - val_loss: 1.1236 - val_accuracy: 0.9048\n",
      "Epoch 80/80\n",
      "114/114 [==============================] - 0s 899us/sample - loss: 1.1961 - accuracy: 0.8246 - val_loss: 1.1155 - val_accuracy: 0.9048\n"
     ]
    }
   ],
   "source": [
    "# Train the model\n",
    "\n",
    "reg_history = train_model(reg_model, train_data, train_targets, epochs=80)"
   ]
  },
  {
   "cell_type": "markdown",
   "metadata": {},
   "source": [
    "#### Plot the learning curves\n",
    "\n",
    "Let's now plot the loss and accuracy for the training and validation sets."
   ]
  },
  {
   "cell_type": "code",
   "execution_count": 17,
   "metadata": {},
   "outputs": [
    {
     "data": {
      "image/png": "[encoded data removed]",
      "text/plain": [
       "<Figure size 432x288 with 1 Axes>"
      ]
     },
     "metadata": {
      "needs_background": "light"
     },
     "output_type": "display_data"
    }
   ],
   "source": [
    "#Run this cell to plot the new accuracy vs epoch graph\n",
    "\n",
    "try:\n",
    "    plt.plot(reg_history.history['accuracy'])\n",
    "    plt.plot(reg_history.history['val_accuracy'])\n",
    "except KeyError:\n",
    "    plt.plot(reg_history.history['acc'])\n",
    "    plt.plot(reg_history.history['val_acc'])\n",
    "plt.title('Accuracy vs. epochs')\n",
    "plt.ylabel('Loss')\n",
    "plt.xlabel('Epoch')\n",
    "plt.legend(['Training', 'Validation'], loc='lower right')\n",
    "plt.show() "
   ]
  },
  {
   "cell_type": "code",
   "execution_count": 18,
   "metadata": {},
   "outputs": [
    {
     "data": {
      "image/png": "[encoded data removed]",
      "text/plain": [
       "<Figure size 432x288 with 1 Axes>"
      ]
     },
     "metadata": {
      "needs_background": "light"
     },
     "output_type": "display_data"
    }
   ],
   "source": [
    "#Run this cell to plot the new loss vs epoch graph\n",
    "\n",
    "plt.plot(reg_history.history['loss'])\n",
    "plt.plot(reg_history.history['val_loss'])\n",
    "plt.title('Loss vs. epochs')\n",
    "plt.ylabel('Loss')\n",
    "plt.xlabel('Epoch')\n",
    "plt.legend(['Training', 'Validation'], loc='upper right')\n",
    "plt.show() "
   ]
  },
  {
   "cell_type": "markdown",
   "metadata": {},
   "source": [
    "We can see that the regularisation has helped to reduce the overfitting of the network.\n",
    "You will now incorporate callbacks into a new training run that implements early stopping and learning rate reduction on plateaux.\n",
    "\n",
    "Fill in the function below so that:\n",
    "\n",
    "* It creates an `EarlyStopping` callback object and a `ReduceLROnPlateau` callback object\n",
    "* The early stopping callback is used and monitors validation loss with the mode set to `\"min\"` and patience of 30.\n",
    "* The learning rate reduction on plateaux is used with a learning rate factor of 0.2 and a patience of 20."
   ]
  },
  {
   "cell_type": "code",
   "execution_count": 19,
   "metadata": {},
   "outputs": [],
   "source": [
    "#### GRADED CELL ####\n",
    "\n",
    "# Complete the following function. \n",
    "# Make sure to not change the function name or arguments.\n",
    "\n",
    "def get_callbacks():\n",
    "    \"\"\"\n",
    "    This function should create and return a tuple (early_stopping, learning_rate_reduction) callbacks.\n",
    "    The callbacks should be instantiated according to the above requirements.\n",
    "    \"\"\"\n",
    "    \n",
    "    early_stopping = tf.keras.callbacks.EarlyStopping(mode=\"min\", patience=30)\n",
    "    learning_rate_reduction = tf.keras.callbacks.ReduceLROnPlateau(factor=0.2, patience=20)\n",
    "    return (early_stopping, learning_rate_reduction)"
   ]
  },
  {
   "cell_type": "markdown",
   "metadata": {},
   "source": [
    "Run the cell below to instantiate and train the regularised model with the callbacks."
   ]
  },
  {
   "cell_type": "code",
   "execution_count": 20,
   "metadata": {},
   "outputs": [],
   "source": [
    "call_model = get_regularised_model(train_data[0].shape, 0.3, 0.0001)\n",
    "compile_model(call_model)\n",
    "early_stopping, learning_rate_reduction = get_callbacks()\n",
    "call_history = call_model.fit(train_data, train_targets, epochs=80, validation_split=0.15,\n",
    "                         callbacks=[early_stopping, learning_rate_reduction], verbose=0)"
   ]
  },
  {
   "cell_type": "code",
   "execution_count": 21,
   "metadata": {},
   "outputs": [
    {
     "data": {
      "text/plain": [
       "20"
      ]
     },
     "execution_count": 21,
     "metadata": {},
     "output_type": "execute_result"
    }
   ],
   "source": [
    "learning_rate_reduction.patience"
   ]
  },
  {
   "cell_type": "markdown",
   "metadata": {},
   "source": [
    "Finally, let's replot the accuracy and loss graphs for our new model."
   ]
  },
  {
   "cell_type": "code",
   "execution_count": 22,
   "metadata": {},
   "outputs": [
    {
     "data": {
      "image/png": "[encoded data removed]",
      "text/plain": [
       "<Figure size 432x288 with 1 Axes>"
      ]
     },
     "metadata": {
      "needs_background": "light"
     },
     "output_type": "display_data"
    }
   ],
   "source": [
    "try:\n",
    "    plt.plot(call_history.history['accuracy'])\n",
    "    plt.plot(call_history.history['val_accuracy'])\n",
    "except KeyError:\n",
    "    plt.plot(call_history.history['acc'])\n",
    "    plt.plot(call_history.history['val_acc'])\n",
    "plt.title('Accuracy vs. epochs')\n",
    "plt.ylabel('Accuracy')\n",
    "plt.xlabel('Epoch')\n",
    "plt.legend(['Training', 'Validation'], loc='lower right')\n",
    "plt.show() "
   ]
  },
  {
   "cell_type": "code",
   "execution_count": 23,
   "metadata": {},
   "outputs": [
    {
     "data": {
      "image/png": "[encoded data removed]",
      "text/plain": [
       "<Figure size 432x288 with 1 Axes>"
      ]
     },
     "metadata": {
      "needs_background": "light"
     },
     "output_type": "display_data"
    }
   ],
   "source": [
    "plt.plot(call_history.history['loss'])\n",
    "plt.plot(call_history.history['val_loss'])\n",
    "plt.title('Loss vs. epochs')\n",
    "plt.ylabel('Loss')\n",
    "plt.xlabel('Epoch')\n",
    "plt.legend(['Training', 'Validation'], loc='upper right')\n",
    "plt.show() "
   ]
  },
  {
   "cell_type": "code",
   "execution_count": 24,
   "metadata": {},
   "outputs": [
    {
     "name": "stdout",
     "output_type": "stream",
     "text": [
      "Test loss: 0.251\n",
      "Test accuracy: 100.00%\n"
     ]
    }
   ],
   "source": [
    "# Evaluate the model on the test set\n",
    "\n",
    "test_loss, test_acc = call_model.evaluate(test_data, test_targets, verbose=0)\n",
    "print(\"Test loss: {:.3f}\\nTest accuracy: {:.2f}%\".format(test_loss, 100 * test_acc))"
   ]
  },
  {
   "cell_type": "markdown",
   "metadata": {},
   "source": [
    "Congratulations for completing this programming assignment! In the next week of the course we will learn how to save and load pre-trained models."
   ]
  }
 ],
 "metadata": {
  "coursera": {
   "course_slug": "tensor-flow-2-1",
   "graded_item_id": "mtZ4n",
   "launcher_item_id": "WphgK"
  },
  "kernelspec": {
   "display_name": "Python 3",
   "language": "python",
   "name": "python3"
  },
  "language_info": {
   "codemirror_mode": {
    "name": "ipython",
    "version": 3
   },
   "file_extension": ".py",
   "mimetype": "text/x-python",
   "name": "python",
   "nbconvert_exporter": "python",
   "pygments_lexer": "ipython3",
   "version": "3.7.1"
  }
 },
 "nbformat": 4,
 "nbformat_minor": 2
}
